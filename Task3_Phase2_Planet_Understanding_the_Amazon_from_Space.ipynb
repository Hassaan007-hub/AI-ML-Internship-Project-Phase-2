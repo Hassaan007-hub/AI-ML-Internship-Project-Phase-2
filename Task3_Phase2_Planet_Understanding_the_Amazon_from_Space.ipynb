{
  "nbformat": 4,
  "nbformat_minor": 0,
  "metadata": {
    "colab": {
      "provenance": [],
      "gpuType": "T4"
    },
    "kernelspec": {
      "name": "python3",
      "display_name": "Python 3"
    },
    "language_info": {
      "name": "python"
    },
    "accelerator": "GPU"
  },
  "cells": [
    {
      "cell_type": "markdown",
      "source": [
        "Muhammad Hassaan Azam\n",
        "\n",
        "AI/ML Intern\n",
        "\n",
        "DHC 831"
      ],
      "metadata": {
        "id": "G5ZviJUdTPBg"
      }
    },
    {
      "cell_type": "markdown",
      "source": [
        "# Task 3: Satellite Image Analysis for Deforestation Monitoring"
      ],
      "metadata": {
        "id": "naTx2pE-T69W"
      }
    },
    {
      "cell_type": "markdown",
      "source": [
        "## Important Libraries"
      ],
      "metadata": {
        "id": "RVKcy3rQ-nC9"
      }
    },
    {
      "cell_type": "code",
      "source": [
        "import numpy as np\n",
        "import pandas as pd\n",
        "import matplotlib.pyplot as plt\n",
        "%matplotlib inline\n",
        "import seaborn as sns\n",
        "import cv2\n",
        "import glob\n",
        "import random\n",
        "from os import listdir\n",
        "from sklearn.metrics import classification_report\n",
        "import tensorflow as tf\n",
        "import keras.utils as image"
      ],
      "metadata": {
        "id": "kN0Vw_rAVqzG"
      },
      "execution_count": null,
      "outputs": []
    },
    {
      "cell_type": "markdown",
      "source": [
        "## Loading Dataset"
      ],
      "metadata": {
        "id": "ZKfFWFw3-wOf"
      }
    },
    {
      "cell_type": "markdown",
      "source": [
        "The \"Planet: Understanding the Amazon from Space\" dataset focuses on using satellite data to track human impacts on the Amazon rainforest. It is associated with a Kaggle competition that emphasizes analyzing satellite imagery to monitor environmental changes in the region."
      ],
      "metadata": {
        "id": "cb9Z6Wv8BE9m"
      }
    },
    {
      "cell_type": "code",
      "execution_count": null,
      "metadata": {
        "colab": {
          "base_uri": "https://localhost:8080/"
        },
        "id": "MGnZhsSqVShR",
        "outputId": "eb1f5d6f-c8c4-4ff9-dacc-a8e0ef072253"
      },
      "outputs": [
        {
          "output_type": "stream",
          "name": "stdout",
          "text": [
            "Warning: Looks like you're using an outdated `kagglehub` version (installed: 0.3.6), please consider upgrading to the latest version (0.3.7).\n",
            "Path to dataset files: /root/.cache/kagglehub/datasets/nikitarom/planets-dataset/versions/3\n"
          ]
        }
      ],
      "source": [
        "import kagglehub\n",
        "\n",
        "# Download latest version\n",
        "path = kagglehub.dataset_download(\"nikitarom/planets-dataset\")\n",
        "\n",
        "print(\"Path to dataset files:\", path)"
      ]
    },
    {
      "cell_type": "code",
      "source": [
        "import os\n",
        "\n",
        "# test_img = tf.io.gfile.glob(str(path + '/planet/planet/test-jpg/*'))\n",
        "\n",
        "train_img = tf.io.gfile.glob(str(path + '/planet/planet/train-jpg/*'))\n",
        "\n",
        "train_class = tf.io.gfile.glob(str(path + '/planet/planet/train_classes.csv'))\n",
        "\n",
        "# Print the paths of the first few images\n",
        "\n",
        "# for imgname in test_img[:3]:\n",
        "#     print(imgname)\n",
        "for imgname in train_img[:3]:\n",
        "    print(imgname)\n",
        "print(train_class)\n",
        "# train_class_df.head()\n",
        "train_class_df=pd.read_csv(train_class[0])\n",
        "train_class_df.head()"
      ],
      "metadata": {
        "colab": {
          "base_uri": "https://localhost:8080/",
          "height": 275
        },
        "id": "Ey7OAT73W3K5",
        "outputId": "85594c3d-2cb5-4319-83f2-6c443ea903b7"
      },
      "execution_count": null,
      "outputs": [
        {
          "output_type": "stream",
          "name": "stdout",
          "text": [
            "/root/.cache/kagglehub/datasets/nikitarom/planets-dataset/versions/3/planet/planet/train-jpg/train_21613.jpg\n",
            "/root/.cache/kagglehub/datasets/nikitarom/planets-dataset/versions/3/planet/planet/train-jpg/train_12327.jpg\n",
            "/root/.cache/kagglehub/datasets/nikitarom/planets-dataset/versions/3/planet/planet/train-jpg/train_30038.jpg\n",
            "['/root/.cache/kagglehub/datasets/nikitarom/planets-dataset/versions/3/planet/planet/train_classes.csv']\n"
          ]
        },
        {
          "output_type": "execute_result",
          "data": {
            "text/plain": [
              "  image_name                                       tags\n",
              "0    train_0                               haze primary\n",
              "1    train_1            agriculture clear primary water\n",
              "2    train_2                              clear primary\n",
              "3    train_3                              clear primary\n",
              "4    train_4  agriculture clear habitation primary road"
            ],
            "text/html": [
              "\n",
              "  <div id=\"df-f4337c6d-3714-44dd-99c6-18ddcedfb013\" class=\"colab-df-container\">\n",
              "    <div>\n",
              "<style scoped>\n",
              "    .dataframe tbody tr th:only-of-type {\n",
              "        vertical-align: middle;\n",
              "    }\n",
              "\n",
              "    .dataframe tbody tr th {\n",
              "        vertical-align: top;\n",
              "    }\n",
              "\n",
              "    .dataframe thead th {\n",
              "        text-align: right;\n",
              "    }\n",
              "</style>\n",
              "<table border=\"1\" class=\"dataframe\">\n",
              "  <thead>\n",
              "    <tr style=\"text-align: right;\">\n",
              "      <th></th>\n",
              "      <th>image_name</th>\n",
              "      <th>tags</th>\n",
              "    </tr>\n",
              "  </thead>\n",
              "  <tbody>\n",
              "    <tr>\n",
              "      <th>0</th>\n",
              "      <td>train_0</td>\n",
              "      <td>haze primary</td>\n",
              "    </tr>\n",
              "    <tr>\n",
              "      <th>1</th>\n",
              "      <td>train_1</td>\n",
              "      <td>agriculture clear primary water</td>\n",
              "    </tr>\n",
              "    <tr>\n",
              "      <th>2</th>\n",
              "      <td>train_2</td>\n",
              "      <td>clear primary</td>\n",
              "    </tr>\n",
              "    <tr>\n",
              "      <th>3</th>\n",
              "      <td>train_3</td>\n",
              "      <td>clear primary</td>\n",
              "    </tr>\n",
              "    <tr>\n",
              "      <th>4</th>\n",
              "      <td>train_4</td>\n",
              "      <td>agriculture clear habitation primary road</td>\n",
              "    </tr>\n",
              "  </tbody>\n",
              "</table>\n",
              "</div>\n",
              "    <div class=\"colab-df-buttons\">\n",
              "\n",
              "  <div class=\"colab-df-container\">\n",
              "    <button class=\"colab-df-convert\" onclick=\"convertToInteractive('df-f4337c6d-3714-44dd-99c6-18ddcedfb013')\"\n",
              "            title=\"Convert this dataframe to an interactive table.\"\n",
              "            style=\"display:none;\">\n",
              "\n",
              "  <svg xmlns=\"http://www.w3.org/2000/svg\" height=\"24px\" viewBox=\"0 -960 960 960\">\n",
              "    <path d=\"M120-120v-720h720v720H120Zm60-500h600v-160H180v160Zm220 220h160v-160H400v160Zm0 220h160v-160H400v160ZM180-400h160v-160H180v160Zm440 0h160v-160H620v160ZM180-180h160v-160H180v160Zm440 0h160v-160H620v160Z\"/>\n",
              "  </svg>\n",
              "    </button>\n",
              "\n",
              "  <style>\n",
              "    .colab-df-container {\n",
              "      display:flex;\n",
              "      gap: 12px;\n",
              "    }\n",
              "\n",
              "    .colab-df-convert {\n",
              "      background-color: #E8F0FE;\n",
              "      border: none;\n",
              "      border-radius: 50%;\n",
              "      cursor: pointer;\n",
              "      display: none;\n",
              "      fill: #1967D2;\n",
              "      height: 32px;\n",
              "      padding: 0 0 0 0;\n",
              "      width: 32px;\n",
              "    }\n",
              "\n",
              "    .colab-df-convert:hover {\n",
              "      background-color: #E2EBFA;\n",
              "      box-shadow: 0px 1px 2px rgba(60, 64, 67, 0.3), 0px 1px 3px 1px rgba(60, 64, 67, 0.15);\n",
              "      fill: #174EA6;\n",
              "    }\n",
              "\n",
              "    .colab-df-buttons div {\n",
              "      margin-bottom: 4px;\n",
              "    }\n",
              "\n",
              "    [theme=dark] .colab-df-convert {\n",
              "      background-color: #3B4455;\n",
              "      fill: #D2E3FC;\n",
              "    }\n",
              "\n",
              "    [theme=dark] .colab-df-convert:hover {\n",
              "      background-color: #434B5C;\n",
              "      box-shadow: 0px 1px 3px 1px rgba(0, 0, 0, 0.15);\n",
              "      filter: drop-shadow(0px 1px 2px rgba(0, 0, 0, 0.3));\n",
              "      fill: #FFFFFF;\n",
              "    }\n",
              "  </style>\n",
              "\n",
              "    <script>\n",
              "      const buttonEl =\n",
              "        document.querySelector('#df-f4337c6d-3714-44dd-99c6-18ddcedfb013 button.colab-df-convert');\n",
              "      buttonEl.style.display =\n",
              "        google.colab.kernel.accessAllowed ? 'block' : 'none';\n",
              "\n",
              "      async function convertToInteractive(key) {\n",
              "        const element = document.querySelector('#df-f4337c6d-3714-44dd-99c6-18ddcedfb013');\n",
              "        const dataTable =\n",
              "          await google.colab.kernel.invokeFunction('convertToInteractive',\n",
              "                                                    [key], {});\n",
              "        if (!dataTable) return;\n",
              "\n",
              "        const docLinkHtml = 'Like what you see? Visit the ' +\n",
              "          '<a target=\"_blank\" href=https://colab.research.google.com/notebooks/data_table.ipynb>data table notebook</a>'\n",
              "          + ' to learn more about interactive tables.';\n",
              "        element.innerHTML = '';\n",
              "        dataTable['output_type'] = 'display_data';\n",
              "        await google.colab.output.renderOutput(dataTable, element);\n",
              "        const docLink = document.createElement('div');\n",
              "        docLink.innerHTML = docLinkHtml;\n",
              "        element.appendChild(docLink);\n",
              "      }\n",
              "    </script>\n",
              "  </div>\n",
              "\n",
              "\n",
              "<div id=\"df-b8884eca-d0bf-4686-8ad1-91e9d9b557f2\">\n",
              "  <button class=\"colab-df-quickchart\" onclick=\"quickchart('df-b8884eca-d0bf-4686-8ad1-91e9d9b557f2')\"\n",
              "            title=\"Suggest charts\"\n",
              "            style=\"display:none;\">\n",
              "\n",
              "<svg xmlns=\"http://www.w3.org/2000/svg\" height=\"24px\"viewBox=\"0 0 24 24\"\n",
              "     width=\"24px\">\n",
              "    <g>\n",
              "        <path d=\"M19 3H5c-1.1 0-2 .9-2 2v14c0 1.1.9 2 2 2h14c1.1 0 2-.9 2-2V5c0-1.1-.9-2-2-2zM9 17H7v-7h2v7zm4 0h-2V7h2v10zm4 0h-2v-4h2v4z\"/>\n",
              "    </g>\n",
              "</svg>\n",
              "  </button>\n",
              "\n",
              "<style>\n",
              "  .colab-df-quickchart {\n",
              "      --bg-color: #E8F0FE;\n",
              "      --fill-color: #1967D2;\n",
              "      --hover-bg-color: #E2EBFA;\n",
              "      --hover-fill-color: #174EA6;\n",
              "      --disabled-fill-color: #AAA;\n",
              "      --disabled-bg-color: #DDD;\n",
              "  }\n",
              "\n",
              "  [theme=dark] .colab-df-quickchart {\n",
              "      --bg-color: #3B4455;\n",
              "      --fill-color: #D2E3FC;\n",
              "      --hover-bg-color: #434B5C;\n",
              "      --hover-fill-color: #FFFFFF;\n",
              "      --disabled-bg-color: #3B4455;\n",
              "      --disabled-fill-color: #666;\n",
              "  }\n",
              "\n",
              "  .colab-df-quickchart {\n",
              "    background-color: var(--bg-color);\n",
              "    border: none;\n",
              "    border-radius: 50%;\n",
              "    cursor: pointer;\n",
              "    display: none;\n",
              "    fill: var(--fill-color);\n",
              "    height: 32px;\n",
              "    padding: 0;\n",
              "    width: 32px;\n",
              "  }\n",
              "\n",
              "  .colab-df-quickchart:hover {\n",
              "    background-color: var(--hover-bg-color);\n",
              "    box-shadow: 0 1px 2px rgba(60, 64, 67, 0.3), 0 1px 3px 1px rgba(60, 64, 67, 0.15);\n",
              "    fill: var(--button-hover-fill-color);\n",
              "  }\n",
              "\n",
              "  .colab-df-quickchart-complete:disabled,\n",
              "  .colab-df-quickchart-complete:disabled:hover {\n",
              "    background-color: var(--disabled-bg-color);\n",
              "    fill: var(--disabled-fill-color);\n",
              "    box-shadow: none;\n",
              "  }\n",
              "\n",
              "  .colab-df-spinner {\n",
              "    border: 2px solid var(--fill-color);\n",
              "    border-color: transparent;\n",
              "    border-bottom-color: var(--fill-color);\n",
              "    animation:\n",
              "      spin 1s steps(1) infinite;\n",
              "  }\n",
              "\n",
              "  @keyframes spin {\n",
              "    0% {\n",
              "      border-color: transparent;\n",
              "      border-bottom-color: var(--fill-color);\n",
              "      border-left-color: var(--fill-color);\n",
              "    }\n",
              "    20% {\n",
              "      border-color: transparent;\n",
              "      border-left-color: var(--fill-color);\n",
              "      border-top-color: var(--fill-color);\n",
              "    }\n",
              "    30% {\n",
              "      border-color: transparent;\n",
              "      border-left-color: var(--fill-color);\n",
              "      border-top-color: var(--fill-color);\n",
              "      border-right-color: var(--fill-color);\n",
              "    }\n",
              "    40% {\n",
              "      border-color: transparent;\n",
              "      border-right-color: var(--fill-color);\n",
              "      border-top-color: var(--fill-color);\n",
              "    }\n",
              "    60% {\n",
              "      border-color: transparent;\n",
              "      border-right-color: var(--fill-color);\n",
              "    }\n",
              "    80% {\n",
              "      border-color: transparent;\n",
              "      border-right-color: var(--fill-color);\n",
              "      border-bottom-color: var(--fill-color);\n",
              "    }\n",
              "    90% {\n",
              "      border-color: transparent;\n",
              "      border-bottom-color: var(--fill-color);\n",
              "    }\n",
              "  }\n",
              "</style>\n",
              "\n",
              "  <script>\n",
              "    async function quickchart(key) {\n",
              "      const quickchartButtonEl =\n",
              "        document.querySelector('#' + key + ' button');\n",
              "      quickchartButtonEl.disabled = true;  // To prevent multiple clicks.\n",
              "      quickchartButtonEl.classList.add('colab-df-spinner');\n",
              "      try {\n",
              "        const charts = await google.colab.kernel.invokeFunction(\n",
              "            'suggestCharts', [key], {});\n",
              "      } catch (error) {\n",
              "        console.error('Error during call to suggestCharts:', error);\n",
              "      }\n",
              "      quickchartButtonEl.classList.remove('colab-df-spinner');\n",
              "      quickchartButtonEl.classList.add('colab-df-quickchart-complete');\n",
              "    }\n",
              "    (() => {\n",
              "      let quickchartButtonEl =\n",
              "        document.querySelector('#df-b8884eca-d0bf-4686-8ad1-91e9d9b557f2 button');\n",
              "      quickchartButtonEl.style.display =\n",
              "        google.colab.kernel.accessAllowed ? 'block' : 'none';\n",
              "    })();\n",
              "  </script>\n",
              "</div>\n",
              "\n",
              "    </div>\n",
              "  </div>\n"
            ],
            "application/vnd.google.colaboratory.intrinsic+json": {
              "type": "dataframe",
              "variable_name": "train_class_df",
              "summary": "{\n  \"name\": \"train_class_df\",\n  \"rows\": 40479,\n  \"fields\": [\n    {\n      \"column\": \"image_name\",\n      \"properties\": {\n        \"dtype\": \"string\",\n        \"num_unique_values\": 40479,\n        \"samples\": [\n          \"train_34602\",\n          \"train_11243\",\n          \"train_14499\"\n        ],\n        \"semantic_type\": \"\",\n        \"description\": \"\"\n      }\n    },\n    {\n      \"column\": \"tags\",\n      \"properties\": {\n        \"dtype\": \"category\",\n        \"num_unique_values\": 449,\n        \"samples\": [\n          \"bare_ground clear primary selective_logging water\",\n          \"bare_ground partly_cloudy primary slash_burn\",\n          \"haze primary road\"\n        ],\n        \"semantic_type\": \"\",\n        \"description\": \"\"\n      }\n    }\n  ]\n}"
            }
          },
          "metadata": {},
          "execution_count": 35
        }
      ]
    },
    {
      "cell_type": "code",
      "source": [
        "train_class_df.shape"
      ],
      "metadata": {
        "colab": {
          "base_uri": "https://localhost:8080/"
        },
        "id": "qWtEDZIDIGhH",
        "outputId": "9771c5ff-520d-46a4-e46a-de05558b3468"
      },
      "execution_count": null,
      "outputs": [
        {
          "output_type": "execute_result",
          "data": {
            "text/plain": [
              "(40479, 2)"
            ]
          },
          "metadata": {},
          "execution_count": 36
        }
      ]
    },
    {
      "cell_type": "markdown",
      "source": [
        "A single image can have multiple labels in the dataset."
      ],
      "metadata": {
        "id": "Pvsfv7eoBOP6"
      }
    },
    {
      "source": [
        "# Get all tags as a single list\n",
        "all_tags_list = train_class_df['tags'].str.split().sum() # Each tag is one label\n",
        "\n",
        "# Use pandas' value_counts to get unique tags and their counts\n",
        "tag_counts_series = pd.Series(all_tags_list).value_counts()\n",
        "\n",
        "# Print the unique tags and their counts\n",
        "print(tag_counts_series)\n",
        "\n",
        "# Get unique tags as a list\n",
        "unique_tags = tag_counts_series.index.tolist()\n",
        "print(f\"\\nUnique tags: {unique_tags}\")\n",
        "\n",
        "# Get the total number of unique tags\n",
        "total_unique_tags = len(unique_tags)\n",
        "print(f\"\\nTotal number of unique tags: {total_unique_tags}\")"
      ],
      "cell_type": "code",
      "metadata": {
        "colab": {
          "base_uri": "https://localhost:8080/"
        },
        "id": "NfIg64Zikpkr",
        "outputId": "67e89d4f-8857-4915-d1a4-1aa955555e2a"
      },
      "execution_count": null,
      "outputs": [
        {
          "output_type": "stream",
          "name": "stdout",
          "text": [
            "primary              37513\n",
            "clear                28431\n",
            "agriculture          12315\n",
            "road                  8071\n",
            "water                 7411\n",
            "partly_cloudy         7261\n",
            "cultivation           4547\n",
            "habitation            3660\n",
            "haze                  2697\n",
            "cloudy                2089\n",
            "bare_ground            862\n",
            "selective_logging      340\n",
            "artisinal_mine         339\n",
            "blooming               332\n",
            "slash_burn             209\n",
            "blow_down              101\n",
            "conventional_mine      100\n",
            "Name: count, dtype: int64\n",
            "\n",
            "Unique tags: ['primary', 'clear', 'agriculture', 'road', 'water', 'partly_cloudy', 'cultivation', 'habitation', 'haze', 'cloudy', 'bare_ground', 'selective_logging', 'artisinal_mine', 'blooming', 'slash_burn', 'blow_down', 'conventional_mine']\n",
            "\n",
            "Total number of unique tags: 17\n"
          ]
        }
      ]
    },
    {
      "cell_type": "markdown",
      "source": [
        "The occurrence of a label alongside other labels."
      ],
      "metadata": {
        "id": "LMiOAJ-lB0n9"
      }
    },
    {
      "source": [
        "import pandas as pd\n",
        "import numpy as np\n",
        "import matplotlib.pyplot as plt\n",
        "import seaborn as sns\n",
        "\n",
        "# Get unique tags\n",
        "unique_tags = list(set(train_class_df['tags'].str.split().sum()))\n",
        "\n",
        "# Create co-occurrence matrix\n",
        "co_occurrence_matrix = np.zeros((len(unique_tags), len(unique_tags)))\n",
        "\n",
        "for index, row in train_class_df.iterrows():\n",
        "    tags = row['tags'].split()\n",
        "    for i in range(len(tags)):\n",
        "        for j in range(i + 1, len(tags)):\n",
        "            tag1_index = unique_tags.index(tags[i])\n",
        "            tag2_index = unique_tags.index(tags[j])\n",
        "            co_occurrence_matrix[tag1_index, tag2_index] += 1\n",
        "            co_occurrence_matrix[tag2_index, tag1_index] += 1  # Make it symmetric\n",
        "\n",
        "# Visualize using a heatmap\n",
        "plt.figure(figsize=(15, 10))\n",
        "sns.heatmap(co_occurrence_matrix, annot=True, fmt=\".0f\", cmap=\"YlGnBu\",\n",
        "            xticklabels=unique_tags, yticklabels=unique_tags)\n",
        "plt.title(\"Tag Co-occurrence Matrix\")\n",
        "plt.show()"
      ],
      "cell_type": "code",
      "metadata": {
        "colab": {
          "base_uri": "https://localhost:8080/",
          "height": 788
        },
        "id": "fNmOvnEYqACj",
        "outputId": "b620028a-90c0-45df-dc98-88b4875ec146"
      },
      "execution_count": null,
      "outputs": [
        {
          "output_type": "display_data",
          "data": {
            "text/plain": [
              "<Figure size 1500x1000 with 2 Axes>"
            ],
            "image/png": "[encoded data removed]"
          },
          "metadata": {}
        }
      ]
    },
    {
      "cell_type": "markdown",
      "source": [
        "## Data Preprocessing"
      ],
      "metadata": {
        "id": "8nAtzCdICOw_"
      }
    },
    {
      "cell_type": "code",
      "source": [
        "import pandas as pd\n",
        "import numpy as np\n",
        "from sklearn.preprocessing import MultiLabelBinarizer\n",
        "from sklearn.model_selection import train_test_split\n",
        "from tensorflow.keras.preprocessing.image import ImageDataGenerator\n",
        "\n",
        "mlb = MultiLabelBinarizer()\n",
        "# Load data\n",
        "train_class_df = pd.read_csv(train_class[0])\n",
        "\n",
        "# Create image paths\n",
        "base_dir = os.path.join(path, 'planet/planet/train-jpg')\n",
        "train_class_df['image_path'] = train_class_df['image_name'].apply(\n",
        "    lambda x: os.path.join(base_dir, f\"{x}.jpg\")\n",
        ")\n",
        "\n",
        "\n",
        "# Create multi-label encoding BEFORE creating class_mapping\n",
        "mlb = MultiLabelBinarizer()\n",
        "mlb.fit(train_class_df['tags'].str.split()) # Fit the MultiLabelBinarizer to your data\n",
        "\n",
        "# Now you can access mlb.classes_\n",
        "class_mapping = {i: cls for i, cls in enumerate(mlb.classes_)}\n",
        "print(class_mapping)\n",
        "# Example output: {0: 'agriculture', 1: 'artisinal_mine', ...}\n"
      ],
      "metadata": {
        "colab": {
          "base_uri": "https://localhost:8080/"
        },
        "id": "E4Zn8jqKKGuF",
        "outputId": "f7010de7-ab5f-4225-9a7a-25009b2a5d2e"
      },
      "execution_count": null,
      "outputs": [
        {
          "output_type": "stream",
          "name": "stdout",
          "text": [
            "{0: 'agriculture', 1: 'artisinal_mine', 2: 'bare_ground', 3: 'blooming', 4: 'blow_down', 5: 'clear', 6: 'cloudy', 7: 'conventional_mine', 8: 'cultivation', 9: 'habitation', 10: 'haze', 11: 'partly_cloudy', 12: 'primary', 13: 'road', 14: 'selective_logging', 15: 'slash_burn', 16: 'water'}\n"
          ]
        }
      ]
    },
    {
      "cell_type": "markdown",
      "source": [
        "I used the MultiLabelBinarizer for encoding."
      ],
      "metadata": {
        "id": "YkG16elOCWzh"
      }
    },
    {
      "cell_type": "code",
      "source": [
        "# Create multi-label encoding\n",
        "mlb = MultiLabelBinarizer(classes=list(class_mapping.values()))\n",
        "tags_matrix = mlb.fit_transform(train_class_df['tags'].str.split())\n",
        "\n",
        "# Add label columns to DataFrame\n",
        "label_cols = mlb.classes_\n",
        "train_class_df[label_cols] = tags_matrix\n",
        "\n",
        "# Split data\n",
        "train_df, test_df = train_test_split(train_class_df, test_size=0.2, random_state=7)\n",
        "train_df, val_df = train_test_split(train_df, test_size=0.25, random_state=7)\n",
        "\n",
        "# Create data generators\n",
        "train_datagen = ImageDataGenerator(rescale=1/255.)\n",
        "\n",
        "def create_generator(df):\n",
        "    return train_datagen.flow_from_dataframe(\n",
        "        dataframe=df,\n",
        "        x_col='image_path',\n",
        "        y_col=label_cols,\n",
        "        class_mode='raw',\n",
        "        target_size=(224, 224),\n",
        "        batch_size=32,\n",
        "        shuffle=True,\n",
        "        validate_filenames=True\n",
        "    )\n",
        "\n",
        "train_generator = create_generator(train_df)\n",
        "val_generator = create_generator(val_df)\n",
        "test_generator = create_generator(test_df)\n",
        "\n",
        "# Verify output\n",
        "batch_x, batch_y = next(train_generator)\n",
        "print(f\"Image shape: {batch_x.shape}\")  # (32, 224, 224, 3)\n",
        "print(f\"Label shape: {batch_y.shape}\")  # (32, 17)\n",
        "print(\"Sample labels:\", batch_y[0])     # Multi-hot encoded array"
      ],
      "metadata": {
        "colab": {
          "base_uri": "https://localhost:8080/"
        },
        "id": "pkeWOcThBWcG",
        "outputId": "dd0e2bc8-a698-4498-93df-4d9625fa46ba"
      },
      "execution_count": null,
      "outputs": [
        {
          "output_type": "stream",
          "name": "stdout",
          "text": [
            "Found 24287 validated image filenames.\n",
            "Found 8096 validated image filenames.\n",
            "Found 8096 validated image filenames.\n",
            "Image shape: (32, 224, 224, 3)\n",
            "Label shape: (32, 17)\n",
            "Sample labels: [0 0 0 0 0 1 0 0 0 0 0 0 1 0 0 0 0]\n"
          ]
        }
      ]
    },
    {
      "cell_type": "code",
      "source": [
        "for t in train_generator:\n",
        "    print(t)\n",
        "    break"
      ],
      "metadata": {
        "colab": {
          "base_uri": "https://localhost:8080/"
        },
        "id": "ufKQh4jqKk-E",
        "outputId": "33943bce-b1ff-4578-e2e4-64a552937997"
      },
      "execution_count": null,
      "outputs": [
        {
          "output_type": "stream",
          "name": "stdout",
          "text": [
            "(array([[[[0.6509804 , 0.6745098 , 0.64705884],\n",
            "         [0.6509804 , 0.6745098 , 0.64705884],\n",
            "         [0.6509804 , 0.6745098 , 0.64705884],\n",
            "         ...,\n",
            "         [0.654902  , 0.68235296, 0.654902  ],\n",
            "         [0.654902  , 0.68235296, 0.654902  ],\n",
            "         [0.654902  , 0.68235296, 0.654902  ]],\n",
            "\n",
            "        [[0.6509804 , 0.6745098 , 0.64705884],\n",
            "         [0.6509804 , 0.6745098 , 0.64705884],\n",
            "         [0.6509804 , 0.6745098 , 0.64705884],\n",
            "         ...,\n",
            "         [0.654902  , 0.68235296, 0.654902  ],\n",
            "         [0.654902  , 0.68235296, 0.654902  ],\n",
            "         [0.654902  , 0.68235296, 0.654902  ]],\n",
            "\n",
            "        [[0.6509804 , 0.6745098 , 0.64705884],\n",
            "         [0.6509804 , 0.6745098 , 0.64705884],\n",
            "         [0.6509804 , 0.6745098 , 0.64705884],\n",
            "         ...,\n",
            "         [0.654902  , 0.68235296, 0.654902  ],\n",
            "         [0.654902  , 0.68235296, 0.654902  ],\n",
            "         [0.654902  , 0.68235296, 0.654902  ]],\n",
            "\n",
            "        ...,\n",
            "\n",
            "        [[0.6627451 , 0.6901961 , 0.6627451 ],\n",
            "         [0.6627451 , 0.6901961 , 0.6627451 ],\n",
            "         [0.6627451 , 0.6901961 , 0.6627451 ],\n",
            "         ...,\n",
            "         [0.72156864, 0.72156864, 0.69411767],\n",
            "         [0.7137255 , 0.7176471 , 0.68235296],\n",
            "         [0.7058824 , 0.7176471 , 0.67058825]],\n",
            "\n",
            "        [[0.6627451 , 0.6901961 , 0.6627451 ],\n",
            "         [0.6627451 , 0.6901961 , 0.6627451 ],\n",
            "         [0.6627451 , 0.6901961 , 0.6627451 ],\n",
            "         ...,\n",
            "         [0.72156864, 0.72156864, 0.69411767],\n",
            "         [0.70980394, 0.7176471 , 0.68235296],\n",
            "         [0.7019608 , 0.7137255 , 0.67058825]],\n",
            "\n",
            "        [[0.6627451 , 0.6901961 , 0.6627451 ],\n",
            "         [0.6627451 , 0.6901961 , 0.6627451 ],\n",
            "         [0.6627451 , 0.6901961 , 0.6627451 ],\n",
            "         ...,\n",
            "         [0.72156864, 0.72156864, 0.69411767],\n",
            "         [0.70980394, 0.7176471 , 0.68235296],\n",
            "         [0.69803923, 0.7137255 , 0.6666667 ]]],\n",
            "\n",
            "\n",
            "       [[[0.34509805, 0.36862746, 0.34901962],\n",
            "         [0.3254902 , 0.36078432, 0.34117648],\n",
            "         [0.3137255 , 0.3529412 , 0.33333334],\n",
            "         ...,\n",
            "         [0.30588236, 0.3254902 , 0.3019608 ],\n",
            "         [0.2901961 , 0.31764707, 0.29803923],\n",
            "         [0.26666668, 0.30588236, 0.2901961 ]],\n",
            "\n",
            "        [[0.34901962, 0.34901962, 0.3254902 ],\n",
            "         [0.32941177, 0.34509805, 0.3254902 ],\n",
            "         [0.32156864, 0.34117648, 0.3254902 ],\n",
            "         ...,\n",
            "         [0.3019608 , 0.31764707, 0.29411766],\n",
            "         [0.28627452, 0.30980393, 0.2901961 ],\n",
            "         [0.27058825, 0.29803923, 0.28627452]],\n",
            "\n",
            "        [[0.32941177, 0.3372549 , 0.3137255 ],\n",
            "         [0.3137255 , 0.33333334, 0.3137255 ],\n",
            "         [0.3019608 , 0.33333334, 0.3137255 ],\n",
            "         ...,\n",
            "         [0.29411766, 0.30980393, 0.28627452],\n",
            "         [0.28235295, 0.29803923, 0.2784314 ],\n",
            "         [0.27058825, 0.2901961 , 0.2784314 ]],\n",
            "\n",
            "        ...,\n",
            "\n",
            "        [[0.2784314 , 0.32156864, 0.28235295],\n",
            "         [0.26666668, 0.30588236, 0.2901961 ],\n",
            "         [0.26666668, 0.3019608 , 0.29803923],\n",
            "         ...,\n",
            "         [0.49803925, 0.50980395, 0.47450984],\n",
            "         [0.5176471 , 0.5176471 , 0.48627454],\n",
            "         [0.5294118 , 0.52156866, 0.4901961 ]],\n",
            "\n",
            "        [[0.26666668, 0.3137255 , 0.28235295],\n",
            "         [0.25490198, 0.3019608 , 0.2901961 ],\n",
            "         [0.2509804 , 0.29803923, 0.29411766],\n",
            "         ...,\n",
            "         [0.4666667 , 0.48235297, 0.46274513],\n",
            "         [0.48627454, 0.49411768, 0.47058827],\n",
            "         [0.5019608 , 0.49803925, 0.47058827]],\n",
            "\n",
            "        [[0.25882354, 0.3019608 , 0.28235295],\n",
            "         [0.24313727, 0.29411766, 0.2901961 ],\n",
            "         [0.2392157 , 0.29411766, 0.29411766],\n",
            "         ...,\n",
            "         [0.43137258, 0.45098042, 0.43921572],\n",
            "         [0.454902  , 0.4666667 , 0.44705886],\n",
            "         [0.47058827, 0.47450984, 0.45098042]]],\n",
            "\n",
            "\n",
            "       [[[0.14117648, 0.21960786, 0.16470589],\n",
            "         [0.14509805, 0.21960786, 0.15294118],\n",
            "         [0.14509805, 0.21568629, 0.14117648],\n",
            "         ...,\n",
            "         [0.14901961, 0.20392159, 0.14117648],\n",
            "         [0.14509805, 0.20784315, 0.14901961],\n",
            "         [0.15294118, 0.21176472, 0.16078432]],\n",
            "\n",
            "        [[0.14509805, 0.22352943, 0.16470589],\n",
            "         [0.14901961, 0.21960786, 0.15686275],\n",
            "         [0.14509805, 0.21568629, 0.14509805],\n",
            "         ...,\n",
            "         [0.16078432, 0.21568629, 0.16078432],\n",
            "         [0.16470589, 0.21176472, 0.16470589],\n",
            "         [0.17254902, 0.21176472, 0.17254902]],\n",
            "\n",
            "        [[0.14901961, 0.22352943, 0.16862746],\n",
            "         [0.14901961, 0.22352943, 0.16078432],\n",
            "         [0.14509805, 0.21568629, 0.14901961],\n",
            "         ...,\n",
            "         [0.17254902, 0.22352943, 0.17254902],\n",
            "         [0.18039216, 0.21568629, 0.17254902],\n",
            "         [0.18039216, 0.20784315, 0.16862746]],\n",
            "\n",
            "        ...,\n",
            "\n",
            "        [[0.15294118, 0.20784315, 0.16078432],\n",
            "         [0.15686275, 0.21960786, 0.16078432],\n",
            "         [0.16862746, 0.23529413, 0.16470589],\n",
            "         ...,\n",
            "         [0.14901961, 0.21568629, 0.14901961],\n",
            "         [0.15686275, 0.21568629, 0.14901961],\n",
            "         [0.16470589, 0.21568629, 0.14901961]],\n",
            "\n",
            "        [[0.15686275, 0.21176472, 0.16078432],\n",
            "         [0.16078432, 0.22352943, 0.16078432],\n",
            "         [0.16862746, 0.23529413, 0.15686275],\n",
            "         ...,\n",
            "         [0.14901961, 0.21568629, 0.15294118],\n",
            "         [0.15686275, 0.21568629, 0.15294118],\n",
            "         [0.16078432, 0.21960786, 0.15294118]],\n",
            "\n",
            "        [[0.14901961, 0.20784315, 0.15686275],\n",
            "         [0.15294118, 0.21960786, 0.15686275],\n",
            "         [0.16078432, 0.23137257, 0.15294118],\n",
            "         ...,\n",
            "         [0.14901961, 0.21176472, 0.15686275],\n",
            "         [0.15686275, 0.21960786, 0.15686275],\n",
            "         [0.16078432, 0.21960786, 0.15686275]]],\n",
            "\n",
            "\n",
            "       ...,\n",
            "\n",
            "\n",
            "       [[[0.5568628 , 0.5529412 , 0.45098042],\n",
            "         [0.56078434, 0.5529412 , 0.45098042],\n",
            "         [0.56078434, 0.54901963, 0.44705886],\n",
            "         ...,\n",
            "         [0.6901961 , 0.627451  , 0.5137255 ],\n",
            "         [0.6901961 , 0.627451  , 0.5137255 ],\n",
            "         [0.6901961 , 0.627451  , 0.5137255 ]],\n",
            "\n",
            "        [[0.5568628 , 0.5568628 , 0.454902  ],\n",
            "         [0.5568628 , 0.5529412 , 0.45098042],\n",
            "         [0.5568628 , 0.5529412 , 0.45098042],\n",
            "         ...,\n",
            "         [0.6901961 , 0.627451  , 0.5137255 ],\n",
            "         [0.6901961 , 0.627451  , 0.5137255 ],\n",
            "         [0.6901961 , 0.627451  , 0.5137255 ]],\n",
            "\n",
            "        [[0.5529412 , 0.5568628 , 0.454902  ],\n",
            "         [0.5568628 , 0.5568628 , 0.454902  ],\n",
            "         [0.5529412 , 0.5529412 , 0.45098042],\n",
            "         ...,\n",
            "         [0.6901961 , 0.627451  , 0.5137255 ],\n",
            "         [0.6901961 , 0.627451  , 0.5137255 ],\n",
            "         [0.6901961 , 0.627451  , 0.5137255 ]],\n",
            "\n",
            "        ...,\n",
            "\n",
            "        [[0.7254902 , 0.6745098 , 0.5803922 ],\n",
            "         [0.7254902 , 0.6745098 , 0.5803922 ],\n",
            "         [0.7294118 , 0.6745098 , 0.58431375],\n",
            "         ...,\n",
            "         [0.8196079 , 0.7803922 , 0.69411767],\n",
            "         [0.8196079 , 0.7803922 , 0.69411767],\n",
            "         [0.8196079 , 0.7803922 , 0.6901961 ]],\n",
            "\n",
            "        [[0.72156864, 0.67058825, 0.5764706 ],\n",
            "         [0.72156864, 0.67058825, 0.5764706 ],\n",
            "         [0.72156864, 0.67058825, 0.5764706 ],\n",
            "         ...,\n",
            "         [0.8196079 , 0.7843138 , 0.69803923],\n",
            "         [0.8196079 , 0.7803922 , 0.69411767],\n",
            "         [0.8235295 , 0.7803922 , 0.6901961 ]],\n",
            "\n",
            "        [[0.7137255 , 0.67058825, 0.5764706 ],\n",
            "         [0.7137255 , 0.67058825, 0.5764706 ],\n",
            "         [0.7176471 , 0.67058825, 0.5764706 ],\n",
            "         ...,\n",
            "         [0.8235295 , 0.7843138 , 0.7019608 ],\n",
            "         [0.8235295 , 0.7843138 , 0.69803923],\n",
            "         [0.8235295 , 0.7843138 , 0.6901961 ]]],\n",
            "\n",
            "\n",
            "       [[[0.21568629, 0.24313727, 0.07843138],\n",
            "         [0.20392159, 0.22352943, 0.07058824],\n",
            "         [0.18039216, 0.20784315, 0.0627451 ],\n",
            "         ...,\n",
            "         [0.22352943, 0.24313727, 0.06666667],\n",
            "         [0.20784315, 0.22352943, 0.05882353],\n",
            "         [0.18039216, 0.18823531, 0.05490196]],\n",
            "\n",
            "        [[0.227451  , 0.2509804 , 0.07843138],\n",
            "         [0.21568629, 0.23529413, 0.07450981],\n",
            "         [0.20392159, 0.21960786, 0.06666667],\n",
            "         ...,\n",
            "         [0.21960786, 0.23137257, 0.0627451 ],\n",
            "         [0.20392159, 0.20784315, 0.05490196],\n",
            "         [0.1764706 , 0.17254902, 0.0509804 ]],\n",
            "\n",
            "        [[0.23137257, 0.25490198, 0.07843138],\n",
            "         [0.21960786, 0.24313727, 0.07450981],\n",
            "         [0.21176472, 0.23137257, 0.07058824],\n",
            "         ...,\n",
            "         [0.21176472, 0.22352943, 0.05882353],\n",
            "         [0.19215688, 0.20000002, 0.0509804 ],\n",
            "         [0.16862746, 0.16862746, 0.04705883]],\n",
            "\n",
            "        ...,\n",
            "\n",
            "        [[0.21176472, 0.20784315, 0.07450981],\n",
            "         [0.20000002, 0.20784315, 0.07450981],\n",
            "         [0.18823531, 0.20392159, 0.07450981],\n",
            "         ...,\n",
            "         [0.16078432, 0.19215688, 0.04705883],\n",
            "         [0.18431373, 0.20784315, 0.05882353],\n",
            "         [0.20784315, 0.21960786, 0.07058824]],\n",
            "\n",
            "        [[0.19215688, 0.20000002, 0.0627451 ],\n",
            "         [0.18431373, 0.20392159, 0.0627451 ],\n",
            "         [0.18431373, 0.21176472, 0.07058824],\n",
            "         ...,\n",
            "         [0.16470589, 0.20392159, 0.04705883],\n",
            "         [0.16862746, 0.20000002, 0.04705883],\n",
            "         [0.1764706 , 0.19215688, 0.0509804 ]],\n",
            "\n",
            "        [[0.18039216, 0.20784315, 0.04705883],\n",
            "         [0.18039216, 0.21176472, 0.05490196],\n",
            "         [0.19215688, 0.22352943, 0.0627451 ],\n",
            "         ...,\n",
            "         [0.16470589, 0.20784315, 0.04313726],\n",
            "         [0.14901961, 0.18431373, 0.03529412],\n",
            "         [0.14117648, 0.16470589, 0.02745098]]],\n",
            "\n",
            "\n",
            "       [[[0.5686275 , 0.50980395, 0.47058827],\n",
            "         [0.5568628 , 0.4901961 , 0.454902  ],\n",
            "         [0.53333336, 0.46274513, 0.43137258],\n",
            "         ...,\n",
            "         [0.21176472, 0.28235295, 0.2627451 ],\n",
            "         [0.21960786, 0.29411766, 0.27450982],\n",
            "         [0.23529413, 0.30980393, 0.2901961 ]],\n",
            "\n",
            "        [[0.5686275 , 0.5176471 , 0.4666667 ],\n",
            "         [0.5647059 , 0.5019608 , 0.45882356],\n",
            "         [0.54901963, 0.4784314 , 0.4431373 ],\n",
            "         ...,\n",
            "         [0.22352943, 0.28627452, 0.26666668],\n",
            "         [0.23137257, 0.29803923, 0.2784314 ],\n",
            "         [0.24313727, 0.30980393, 0.29411766]],\n",
            "\n",
            "        [[0.54509807, 0.5019608 , 0.44705886],\n",
            "         [0.5411765 , 0.4901961 , 0.4431373 ],\n",
            "         [0.5372549 , 0.4784314 , 0.43529415],\n",
            "         ...,\n",
            "         [0.2392157 , 0.29803923, 0.27450982],\n",
            "         [0.24313727, 0.3019608 , 0.28627452],\n",
            "         [0.25490198, 0.3137255 , 0.3019608 ]],\n",
            "\n",
            "        ...,\n",
            "\n",
            "        [[0.5176471 , 0.47058827, 0.43137258],\n",
            "         [0.5411765 , 0.4901961 , 0.44705886],\n",
            "         [0.5568628 , 0.5019608 , 0.45882356],\n",
            "         ...,\n",
            "         [0.24313727, 0.29803923, 0.28235295],\n",
            "         [0.24313727, 0.30980393, 0.28627452],\n",
            "         [0.24705884, 0.32156864, 0.2901961 ]],\n",
            "\n",
            "        [[0.5058824 , 0.4666667 , 0.43137258],\n",
            "         [0.5294118 , 0.48627454, 0.45098042],\n",
            "         [0.54901963, 0.49803925, 0.45882356],\n",
            "         ...,\n",
            "         [0.2392157 , 0.3019608 , 0.28235295],\n",
            "         [0.24313727, 0.30980393, 0.28627452],\n",
            "         [0.2509804 , 0.32156864, 0.2901961 ]],\n",
            "\n",
            "        [[0.49803925, 0.47058827, 0.43921572],\n",
            "         [0.52156866, 0.48627454, 0.454902  ],\n",
            "         [0.5372549 , 0.49411768, 0.45882356],\n",
            "         ...,\n",
            "         [0.23137257, 0.3019608 , 0.28235295],\n",
            "         [0.24705884, 0.30980393, 0.28627452],\n",
            "         [0.2627451 , 0.32156864, 0.29803923]]]], dtype=float32), array([[0, 0, 0, 0, 0, 0, 0, 0, 0, 0, 1, 0, 1, 0, 0, 0, 1],\n",
            "       [0, 0, 0, 0, 0, 0, 0, 0, 0, 0, 0, 1, 1, 0, 0, 0, 0],\n",
            "       [0, 0, 0, 0, 0, 1, 0, 0, 0, 0, 0, 0, 1, 0, 0, 0, 0],\n",
            "       [0, 0, 0, 0, 0, 0, 0, 0, 0, 0, 0, 1, 1, 0, 0, 0, 0],\n",
            "       [1, 0, 0, 0, 0, 1, 0, 0, 0, 0, 0, 0, 1, 0, 0, 0, 0],\n",
            "       [0, 0, 0, 0, 0, 0, 0, 0, 0, 0, 0, 1, 1, 1, 0, 0, 1],\n",
            "       [0, 0, 0, 0, 0, 0, 0, 0, 0, 0, 1, 0, 1, 0, 0, 0, 0],\n",
            "       [0, 0, 0, 0, 0, 1, 0, 0, 0, 0, 0, 0, 1, 0, 0, 0, 0],\n",
            "       [1, 0, 0, 0, 0, 1, 0, 0, 0, 0, 0, 0, 1, 0, 0, 0, 0],\n",
            "       [0, 0, 0, 0, 0, 1, 0, 0, 0, 0, 0, 0, 1, 0, 0, 0, 0],\n",
            "       [0, 0, 0, 0, 0, 0, 0, 0, 0, 0, 1, 0, 1, 0, 0, 0, 0],\n",
            "       [1, 0, 0, 0, 0, 1, 0, 0, 0, 0, 0, 0, 1, 1, 0, 0, 0],\n",
            "       [0, 0, 0, 0, 0, 1, 0, 0, 0, 0, 0, 0, 1, 0, 0, 0, 0],\n",
            "       [0, 0, 0, 0, 0, 1, 0, 0, 0, 0, 0, 0, 1, 0, 0, 0, 0],\n",
            "       [1, 0, 0, 0, 0, 1, 0, 0, 1, 1, 0, 0, 1, 0, 0, 0, 0],\n",
            "       [0, 0, 0, 1, 0, 1, 0, 0, 0, 0, 0, 0, 1, 0, 0, 0, 0],\n",
            "       [1, 0, 0, 0, 0, 0, 0, 0, 0, 0, 0, 1, 1, 0, 0, 0, 1],\n",
            "       [1, 0, 0, 0, 0, 1, 0, 0, 0, 0, 0, 0, 1, 1, 0, 0, 0],\n",
            "       [1, 0, 0, 0, 0, 1, 0, 0, 0, 1, 0, 0, 1, 1, 0, 0, 1],\n",
            "       [1, 0, 0, 0, 0, 0, 0, 0, 0, 0, 1, 0, 1, 1, 0, 0, 0],\n",
            "       [0, 0, 0, 0, 0, 1, 0, 0, 0, 0, 0, 0, 1, 0, 0, 0, 0],\n",
            "       [1, 0, 0, 0, 0, 1, 0, 0, 0, 0, 0, 0, 1, 1, 0, 0, 0],\n",
            "       [0, 0, 0, 0, 0, 0, 0, 0, 0, 0, 1, 0, 1, 0, 0, 0, 0],\n",
            "       [1, 0, 0, 0, 0, 1, 0, 0, 0, 0, 0, 0, 1, 0, 0, 0, 0],\n",
            "       [0, 0, 0, 0, 0, 1, 0, 0, 0, 0, 0, 0, 1, 0, 0, 0, 0],\n",
            "       [0, 0, 0, 0, 0, 0, 1, 0, 0, 0, 0, 0, 0, 0, 0, 0, 0],\n",
            "       [1, 0, 0, 0, 0, 1, 0, 0, 0, 0, 0, 0, 1, 1, 0, 0, 0],\n",
            "       [0, 0, 0, 0, 0, 0, 0, 0, 0, 0, 0, 1, 1, 0, 0, 0, 1],\n",
            "       [0, 0, 0, 0, 0, 0, 0, 0, 0, 0, 0, 1, 1, 0, 0, 0, 0],\n",
            "       [0, 0, 0, 0, 0, 0, 0, 0, 0, 0, 0, 1, 1, 0, 0, 0, 1],\n",
            "       [1, 0, 0, 0, 0, 0, 0, 0, 0, 0, 0, 1, 1, 1, 0, 0, 1],\n",
            "       [1, 0, 0, 0, 0, 1, 0, 0, 1, 0, 0, 0, 1, 1, 0, 0, 0]]))\n"
          ]
        }
      ]
    },
    {
      "cell_type": "markdown",
      "source": [
        "## Model Building"
      ],
      "metadata": {
        "id": "ycqd5-7XCxCT"
      }
    },
    {
      "cell_type": "code",
      "source": [
        "import tensorflow as tf\n",
        "from tensorflow.keras.applications import ResNet50\n",
        "from tensorflow.keras.layers import *\n",
        "from tensorflow.keras.models import Model\n",
        "from tensorflow.keras.optimizers import Adam\n",
        "from tensorflow.keras.losses import BinaryCrossentropy\n",
        "from tensorflow.keras.metrics import Precision, Recall, AUC\n",
        "# Define the model architecture\n",
        "input_layer = tf.keras.layers.Input(shape=(224, 224, 3))\n",
        "pretrained_model = ResNet50(input_shape=(224, 224, 3), include_top=False, weights='imagenet', pooling='avg')\n",
        "pretrained_model.trainable = False\n",
        "x = pretrained_model(input_layer, training=False)\n",
        "bl = BatchNormalization()(x)\n",
        "flat = Flatten()(bl)\n",
        "drop = Dropout(0.5)(flat)\n",
        "dense = Dense(512, activation='relu')(drop)\n",
        "drop = Dropout(0.5)(dense)\n",
        "batch = BatchNormalization()(drop)\n",
        "dense = Dense(32, activation='relu')(batch)\n",
        "batch = BatchNormalization()(dense)\n",
        "output_layer = Dense(len(class_mapping), activation='sigmoid')(batch)\n",
        "\n",
        "model_resnet50 = Model(inputs=input_layer, outputs=output_layer)\n",
        "\n",
        "# Compile the model\n",
        "model_resnet50.compile(optimizer='adam', loss=BinaryCrossentropy(), metrics=[Precision(), Recall(), AUC()])\n",
        "model_resnet50.summary()"
      ],
      "metadata": {
        "colab": {
          "base_uri": "https://localhost:8080/",
          "height": 529
        },
        "id": "NSX-GrMUCLhT",
        "outputId": "52b4ada5-3e9a-4612-f789-b12f8b25c04d"
      },
      "execution_count": null,
      "outputs": [
        {
          "output_type": "display_data",
          "data": {
            "text/plain": [
              "\u001b[1mModel: \"functional_1\"\u001b[0m\n"
            ],
            "text/html": [
              "<pre style=\"white-space:pre;overflow-x:auto;line-height:normal;font-family:Menlo,'DejaVu Sans Mono',consolas,'Courier New',monospace\"><span style=\"font-weight: bold\">Model: \"functional_1\"</span>\n",
              "</pre>\n"
            ]
          },
          "metadata": {}
        },
        {
          "output_type": "display_data",
          "data": {
            "text/plain": [
              "┏━━━━━━━━━━━━━━━━━━━━━━━━━━━━━━━━━━━━━━┳━━━━━━━━━━━━━━━━━━━━━━━━━━━━━┳━━━━━━━━━━━━━━━━━┓\n",
              "┃\u001b[1m \u001b[0m\u001b[1mLayer (type)                        \u001b[0m\u001b[1m \u001b[0m┃\u001b[1m \u001b[0m\u001b[1mOutput Shape               \u001b[0m\u001b[1m \u001b[0m┃\u001b[1m \u001b[0m\u001b[1m        Param #\u001b[0m\u001b[1m \u001b[0m┃\n",
              "┡━━━━━━━━━━━━━━━━━━━━━━━━━━━━━━━━━━━━━━╇━━━━━━━━━━━━━━━━━━━━━━━━━━━━━╇━━━━━━━━━━━━━━━━━┩\n",
              "│ input_layer_2 (\u001b[38;5;33mInputLayer\u001b[0m)           │ (\u001b[38;5;45mNone\u001b[0m, \u001b[38;5;34m224\u001b[0m, \u001b[38;5;34m224\u001b[0m, \u001b[38;5;34m3\u001b[0m)         │               \u001b[38;5;34m0\u001b[0m │\n",
              "├──────────────────────────────────────┼─────────────────────────────┼─────────────────┤\n",
              "│ resnet50 (\u001b[38;5;33mFunctional\u001b[0m)                │ (\u001b[38;5;45mNone\u001b[0m, \u001b[38;5;34m2048\u001b[0m)                │      \u001b[38;5;34m23,587,712\u001b[0m │\n",
              "├──────────────────────────────────────┼─────────────────────────────┼─────────────────┤\n",
              "│ batch_normalization_3                │ (\u001b[38;5;45mNone\u001b[0m, \u001b[38;5;34m2048\u001b[0m)                │           \u001b[38;5;34m8,192\u001b[0m │\n",
              "│ (\u001b[38;5;33mBatchNormalization\u001b[0m)                 │                             │                 │\n",
              "├──────────────────────────────────────┼─────────────────────────────┼─────────────────┤\n",
              "│ flatten_1 (\u001b[38;5;33mFlatten\u001b[0m)                  │ (\u001b[38;5;45mNone\u001b[0m, \u001b[38;5;34m2048\u001b[0m)                │               \u001b[38;5;34m0\u001b[0m │\n",
              "├──────────────────────────────────────┼─────────────────────────────┼─────────────────┤\n",
              "│ dropout_2 (\u001b[38;5;33mDropout\u001b[0m)                  │ (\u001b[38;5;45mNone\u001b[0m, \u001b[38;5;34m2048\u001b[0m)                │               \u001b[38;5;34m0\u001b[0m │\n",
              "├──────────────────────────────────────┼─────────────────────────────┼─────────────────┤\n",
              "│ dense_3 (\u001b[38;5;33mDense\u001b[0m)                      │ (\u001b[38;5;45mNone\u001b[0m, \u001b[38;5;34m512\u001b[0m)                 │       \u001b[38;5;34m1,049,088\u001b[0m │\n",
              "├──────────────────────────────────────┼─────────────────────────────┼─────────────────┤\n",
              "│ dropout_3 (\u001b[38;5;33mDropout\u001b[0m)                  │ (\u001b[38;5;45mNone\u001b[0m, \u001b[38;5;34m512\u001b[0m)                 │               \u001b[38;5;34m0\u001b[0m │\n",
              "├──────────────────────────────────────┼─────────────────────────────┼─────────────────┤\n",
              "│ batch_normalization_4                │ (\u001b[38;5;45mNone\u001b[0m, \u001b[38;5;34m512\u001b[0m)                 │           \u001b[38;5;34m2,048\u001b[0m │\n",
              "│ (\u001b[38;5;33mBatchNormalization\u001b[0m)                 │                             │                 │\n",
              "├──────────────────────────────────────┼─────────────────────────────┼─────────────────┤\n",
              "│ dense_4 (\u001b[38;5;33mDense\u001b[0m)                      │ (\u001b[38;5;45mNone\u001b[0m, \u001b[38;5;34m32\u001b[0m)                  │          \u001b[38;5;34m16,416\u001b[0m │\n",
              "├──────────────────────────────────────┼─────────────────────────────┼─────────────────┤\n",
              "│ batch_normalization_5                │ (\u001b[38;5;45mNone\u001b[0m, \u001b[38;5;34m32\u001b[0m)                  │             \u001b[38;5;34m128\u001b[0m │\n",
              "│ (\u001b[38;5;33mBatchNormalization\u001b[0m)                 │                             │                 │\n",
              "├──────────────────────────────────────┼─────────────────────────────┼─────────────────┤\n",
              "│ dense_5 (\u001b[38;5;33mDense\u001b[0m)                      │ (\u001b[38;5;45mNone\u001b[0m, \u001b[38;5;34m17\u001b[0m)                  │             \u001b[38;5;34m561\u001b[0m │\n",
              "└──────────────────────────────────────┴─────────────────────────────┴─────────────────┘\n"
            ],
            "text/html": [
              "<pre style=\"white-space:pre;overflow-x:auto;line-height:normal;font-family:Menlo,'DejaVu Sans Mono',consolas,'Courier New',monospace\">┏━━━━━━━━━━━━━━━━━━━━━━━━━━━━━━━━━━━━━━┳━━━━━━━━━━━━━━━━━━━━━━━━━━━━━┳━━━━━━━━━━━━━━━━━┓\n",
              "┃<span style=\"font-weight: bold\"> Layer (type)                         </span>┃<span style=\"font-weight: bold\"> Output Shape                </span>┃<span style=\"font-weight: bold\">         Param # </span>┃\n",
              "┡━━━━━━━━━━━━━━━━━━━━━━━━━━━━━━━━━━━━━━╇━━━━━━━━━━━━━━━━━━━━━━━━━━━━━╇━━━━━━━━━━━━━━━━━┩\n",
              "│ input_layer_2 (<span style=\"color: #0087ff; text-decoration-color: #0087ff\">InputLayer</span>)           │ (<span style=\"color: #00d7ff; text-decoration-color: #00d7ff\">None</span>, <span style=\"color: #00af00; text-decoration-color: #00af00\">224</span>, <span style=\"color: #00af00; text-decoration-color: #00af00\">224</span>, <span style=\"color: #00af00; text-decoration-color: #00af00\">3</span>)         │               <span style=\"color: #00af00; text-decoration-color: #00af00\">0</span> │\n",
              "├──────────────────────────────────────┼─────────────────────────────┼─────────────────┤\n",
              "│ resnet50 (<span style=\"color: #0087ff; text-decoration-color: #0087ff\">Functional</span>)                │ (<span style=\"color: #00d7ff; text-decoration-color: #00d7ff\">None</span>, <span style=\"color: #00af00; text-decoration-color: #00af00\">2048</span>)                │      <span style=\"color: #00af00; text-decoration-color: #00af00\">23,587,712</span> │\n",
              "├──────────────────────────────────────┼─────────────────────────────┼─────────────────┤\n",
              "│ batch_normalization_3                │ (<span style=\"color: #00d7ff; text-decoration-color: #00d7ff\">None</span>, <span style=\"color: #00af00; text-decoration-color: #00af00\">2048</span>)                │           <span style=\"color: #00af00; text-decoration-color: #00af00\">8,192</span> │\n",
              "│ (<span style=\"color: #0087ff; text-decoration-color: #0087ff\">BatchNormalization</span>)                 │                             │                 │\n",
              "├──────────────────────────────────────┼─────────────────────────────┼─────────────────┤\n",
              "│ flatten_1 (<span style=\"color: #0087ff; text-decoration-color: #0087ff\">Flatten</span>)                  │ (<span style=\"color: #00d7ff; text-decoration-color: #00d7ff\">None</span>, <span style=\"color: #00af00; text-decoration-color: #00af00\">2048</span>)                │               <span style=\"color: #00af00; text-decoration-color: #00af00\">0</span> │\n",
              "├──────────────────────────────────────┼─────────────────────────────┼─────────────────┤\n",
              "│ dropout_2 (<span style=\"color: #0087ff; text-decoration-color: #0087ff\">Dropout</span>)                  │ (<span style=\"color: #00d7ff; text-decoration-color: #00d7ff\">None</span>, <span style=\"color: #00af00; text-decoration-color: #00af00\">2048</span>)                │               <span style=\"color: #00af00; text-decoration-color: #00af00\">0</span> │\n",
              "├──────────────────────────────────────┼─────────────────────────────┼─────────────────┤\n",
              "│ dense_3 (<span style=\"color: #0087ff; text-decoration-color: #0087ff\">Dense</span>)                      │ (<span style=\"color: #00d7ff; text-decoration-color: #00d7ff\">None</span>, <span style=\"color: #00af00; text-decoration-color: #00af00\">512</span>)                 │       <span style=\"color: #00af00; text-decoration-color: #00af00\">1,049,088</span> │\n",
              "├──────────────────────────────────────┼─────────────────────────────┼─────────────────┤\n",
              "│ dropout_3 (<span style=\"color: #0087ff; text-decoration-color: #0087ff\">Dropout</span>)                  │ (<span style=\"color: #00d7ff; text-decoration-color: #00d7ff\">None</span>, <span style=\"color: #00af00; text-decoration-color: #00af00\">512</span>)                 │               <span style=\"color: #00af00; text-decoration-color: #00af00\">0</span> │\n",
              "├──────────────────────────────────────┼─────────────────────────────┼─────────────────┤\n",
              "│ batch_normalization_4                │ (<span style=\"color: #00d7ff; text-decoration-color: #00d7ff\">None</span>, <span style=\"color: #00af00; text-decoration-color: #00af00\">512</span>)                 │           <span style=\"color: #00af00; text-decoration-color: #00af00\">2,048</span> │\n",
              "│ (<span style=\"color: #0087ff; text-decoration-color: #0087ff\">BatchNormalization</span>)                 │                             │                 │\n",
              "├──────────────────────────────────────┼─────────────────────────────┼─────────────────┤\n",
              "│ dense_4 (<span style=\"color: #0087ff; text-decoration-color: #0087ff\">Dense</span>)                      │ (<span style=\"color: #00d7ff; text-decoration-color: #00d7ff\">None</span>, <span style=\"color: #00af00; text-decoration-color: #00af00\">32</span>)                  │          <span style=\"color: #00af00; text-decoration-color: #00af00\">16,416</span> │\n",
              "├──────────────────────────────────────┼─────────────────────────────┼─────────────────┤\n",
              "│ batch_normalization_5                │ (<span style=\"color: #00d7ff; text-decoration-color: #00d7ff\">None</span>, <span style=\"color: #00af00; text-decoration-color: #00af00\">32</span>)                  │             <span style=\"color: #00af00; text-decoration-color: #00af00\">128</span> │\n",
              "│ (<span style=\"color: #0087ff; text-decoration-color: #0087ff\">BatchNormalization</span>)                 │                             │                 │\n",
              "├──────────────────────────────────────┼─────────────────────────────┼─────────────────┤\n",
              "│ dense_5 (<span style=\"color: #0087ff; text-decoration-color: #0087ff\">Dense</span>)                      │ (<span style=\"color: #00d7ff; text-decoration-color: #00d7ff\">None</span>, <span style=\"color: #00af00; text-decoration-color: #00af00\">17</span>)                  │             <span style=\"color: #00af00; text-decoration-color: #00af00\">561</span> │\n",
              "└──────────────────────────────────────┴─────────────────────────────┴─────────────────┘\n",
              "</pre>\n"
            ]
          },
          "metadata": {}
        },
        {
          "output_type": "display_data",
          "data": {
            "text/plain": [
              "\u001b[1m Total params: \u001b[0m\u001b[38;5;34m24,664,145\u001b[0m (94.09 MB)\n"
            ],
            "text/html": [
              "<pre style=\"white-space:pre;overflow-x:auto;line-height:normal;font-family:Menlo,'DejaVu Sans Mono',consolas,'Courier New',monospace\"><span style=\"font-weight: bold\"> Total params: </span><span style=\"color: #00af00; text-decoration-color: #00af00\">24,664,145</span> (94.09 MB)\n",
              "</pre>\n"
            ]
          },
          "metadata": {}
        },
        {
          "output_type": "display_data",
          "data": {
            "text/plain": [
              "\u001b[1m Trainable params: \u001b[0m\u001b[38;5;34m1,071,249\u001b[0m (4.09 MB)\n"
            ],
            "text/html": [
              "<pre style=\"white-space:pre;overflow-x:auto;line-height:normal;font-family:Menlo,'DejaVu Sans Mono',consolas,'Courier New',monospace\"><span style=\"font-weight: bold\"> Trainable params: </span><span style=\"color: #00af00; text-decoration-color: #00af00\">1,071,249</span> (4.09 MB)\n",
              "</pre>\n"
            ]
          },
          "metadata": {}
        },
        {
          "output_type": "display_data",
          "data": {
            "text/plain": [
              "\u001b[1m Non-trainable params: \u001b[0m\u001b[38;5;34m23,592,896\u001b[0m (90.00 MB)\n"
            ],
            "text/html": [
              "<pre style=\"white-space:pre;overflow-x:auto;line-height:normal;font-family:Menlo,'DejaVu Sans Mono',consolas,'Courier New',monospace\"><span style=\"font-weight: bold\"> Non-trainable params: </span><span style=\"color: #00af00; text-decoration-color: #00af00\">23,592,896</span> (90.00 MB)\n",
              "</pre>\n"
            ]
          },
          "metadata": {}
        }
      ]
    },
    {
      "cell_type": "markdown",
      "source": [
        "Model Fitting"
      ],
      "metadata": {
        "id": "hthbT8vnC8nG"
      }
    },
    {
      "cell_type": "code",
      "source": [
        "# Train the model\n",
        "history = model_resnet50.fit(\n",
        "    train_generator,\n",
        "    validation_data=val_generator,\n",
        "    epochs=50,\n",
        "    steps_per_epoch=len(train_generator),\n",
        "    validation_steps=len(val_generator)\n",
        ")\n"
      ],
      "metadata": {
        "colab": {
          "base_uri": "https://localhost:8080/"
        },
        "id": "6PAzG7gYCLOx",
        "outputId": "48684d1f-222e-4344-9271-e20d3879d132"
      },
      "execution_count": null,
      "outputs": [
        {
          "output_type": "stream",
          "name": "stdout",
          "text": [
            "Epoch 1/50\n"
          ]
        },
        {
          "output_type": "stream",
          "name": "stderr",
          "text": [
            "/usr/local/lib/python3.11/dist-packages/keras/src/trainers/data_adapters/py_dataset_adapter.py:121: UserWarning: Your `PyDataset` class should call `super().__init__(**kwargs)` in its constructor. `**kwargs` can include `workers`, `use_multiprocessing`, `max_queue_size`. Do not pass these arguments to `fit()`, as they will be ignored.\n",
            "  self._warn_if_super_not_called()\n"
          ]
        },
        {
          "output_type": "stream",
          "name": "stdout",
          "text": [
            "\u001b[1m759/759\u001b[0m \u001b[32m━━━━━━━━━━━━━━━━━━━━\u001b[0m\u001b[37m\u001b[0m \u001b[1m116s\u001b[0m 131ms/step - auc: 0.8099 - loss: 0.4711 - precision: 0.4596 - recall: 0.6695 - val_auc: 0.9535 - val_loss: 0.1927 - val_precision: 0.8143 - val_recall: 0.6953\n",
            "Epoch 2/50\n",
            "\u001b[1m759/759\u001b[0m \u001b[32m━━━━━━━━━━━━━━━━━━━━\u001b[0m\u001b[37m\u001b[0m \u001b[1m122s\u001b[0m 115ms/step - auc: 0.9512 - loss: 0.1936 - precision: 0.8410 - recall: 0.6652 - val_auc: 0.9585 - val_loss: 0.1796 - val_precision: 0.8514 - val_recall: 0.6973\n",
            "Epoch 3/50\n",
            "\u001b[1m759/759\u001b[0m \u001b[32m━━━━━━━━━━━━━━━━━━━━\u001b[0m\u001b[37m\u001b[0m \u001b[1m141s\u001b[0m 115ms/step - auc: 0.9540 - loss: 0.1873 - precision: 0.8449 - recall: 0.6752 - val_auc: 0.9599 - val_loss: 0.1763 - val_precision: 0.8521 - val_recall: 0.7040\n",
            "Epoch 4/50\n",
            "\u001b[1m759/759\u001b[0m \u001b[32m━━━━━━━━━━━━━━━━━━━━\u001b[0m\u001b[37m\u001b[0m \u001b[1m163s\u001b[0m 142ms/step - auc: 0.9563 - loss: 0.1826 - precision: 0.8479 - recall: 0.6832 - val_auc: 0.9612 - val_loss: 0.1734 - val_precision: 0.8618 - val_recall: 0.7114\n",
            "Epoch 5/50\n",
            "\u001b[1m759/759\u001b[0m \u001b[32m━━━━━━━━━━━━━━━━━━━━\u001b[0m\u001b[37m\u001b[0m \u001b[1m88s\u001b[0m 115ms/step - auc: 0.9558 - loss: 0.1847 - precision: 0.8474 - recall: 0.6862 - val_auc: 0.9607 - val_loss: 0.1746 - val_precision: 0.8626 - val_recall: 0.6988\n",
            "Epoch 6/50\n",
            "\u001b[1m759/759\u001b[0m \u001b[32m━━━━━━━━━━━━━━━━━━━━\u001b[0m\u001b[37m\u001b[0m \u001b[1m88s\u001b[0m 115ms/step - auc: 0.9559 - loss: 0.1841 - precision: 0.8493 - recall: 0.6861 - val_auc: 0.9615 - val_loss: 0.1732 - val_precision: 0.8579 - val_recall: 0.7112\n",
            "Epoch 7/50\n",
            "\u001b[1m759/759\u001b[0m \u001b[32m━━━━━━━━━━━━━━━━━━━━\u001b[0m\u001b[37m\u001b[0m \u001b[1m141s\u001b[0m 114ms/step - auc: 0.9570 - loss: 0.1804 - precision: 0.8503 - recall: 0.6923 - val_auc: 0.9621 - val_loss: 0.1708 - val_precision: 0.8642 - val_recall: 0.7138\n",
            "Epoch 8/50\n",
            "\u001b[1m759/759\u001b[0m \u001b[32m━━━━━━━━━━━━━━━━━━━━\u001b[0m\u001b[37m\u001b[0m \u001b[1m88s\u001b[0m 116ms/step - auc: 0.9580 - loss: 0.1791 - precision: 0.8510 - recall: 0.6942 - val_auc: 0.9622 - val_loss: 0.1711 - val_precision: 0.8553 - val_recall: 0.7205\n",
            "Epoch 9/50\n",
            "\u001b[1m759/759\u001b[0m \u001b[32m━━━━━━━━━━━━━━━━━━━━\u001b[0m\u001b[37m\u001b[0m \u001b[1m87s\u001b[0m 115ms/step - auc: 0.9575 - loss: 0.1801 - precision: 0.8508 - recall: 0.6951 - val_auc: 0.9612 - val_loss: 0.1743 - val_precision: 0.8391 - val_recall: 0.7332\n",
            "Epoch 10/50\n",
            "\u001b[1m759/759\u001b[0m \u001b[32m━━━━━━━━━━━━━━━━━━━━\u001b[0m\u001b[37m\u001b[0m \u001b[1m87s\u001b[0m 114ms/step - auc: 0.9587 - loss: 0.1780 - precision: 0.8495 - recall: 0.6966 - val_auc: 0.9623 - val_loss: 0.1710 - val_precision: 0.8507 - val_recall: 0.7218\n",
            "Epoch 11/50\n",
            "\u001b[1m759/759\u001b[0m \u001b[32m━━━━━━━━━━━━━━━━━━━━\u001b[0m\u001b[37m\u001b[0m \u001b[1m87s\u001b[0m 115ms/step - auc: 0.9586 - loss: 0.1783 - precision: 0.8515 - recall: 0.7003 - val_auc: 0.9619 - val_loss: 0.1711 - val_precision: 0.8644 - val_recall: 0.7086\n",
            "Epoch 12/50\n",
            "\u001b[1m759/759\u001b[0m \u001b[32m━━━━━━━━━━━━━━━━━━━━\u001b[0m\u001b[37m\u001b[0m \u001b[1m143s\u001b[0m 116ms/step - auc: 0.9591 - loss: 0.1771 - precision: 0.8513 - recall: 0.6987 - val_auc: 0.9628 - val_loss: 0.1704 - val_precision: 0.8545 - val_recall: 0.7222\n",
            "Epoch 13/50\n",
            "\u001b[1m759/759\u001b[0m \u001b[32m━━━━━━━━━━━━━━━━━━━━\u001b[0m\u001b[37m\u001b[0m \u001b[1m87s\u001b[0m 115ms/step - auc: 0.9592 - loss: 0.1769 - precision: 0.8547 - recall: 0.6975 - val_auc: 0.9628 - val_loss: 0.1696 - val_precision: 0.8653 - val_recall: 0.7148\n",
            "Epoch 14/50\n",
            "\u001b[1m759/759\u001b[0m \u001b[32m━━━━━━━━━━━━━━━━━━━━\u001b[0m\u001b[37m\u001b[0m \u001b[1m87s\u001b[0m 115ms/step - auc: 0.9590 - loss: 0.1767 - precision: 0.8534 - recall: 0.6998 - val_auc: 0.9630 - val_loss: 0.1689 - val_precision: 0.8718 - val_recall: 0.7106\n",
            "Epoch 15/50\n",
            "\u001b[1m759/759\u001b[0m \u001b[32m━━━━━━━━━━━━━━━━━━━━\u001b[0m\u001b[37m\u001b[0m \u001b[1m143s\u001b[0m 116ms/step - auc: 0.9593 - loss: 0.1763 - precision: 0.8532 - recall: 0.7005 - val_auc: 0.9634 - val_loss: 0.1680 - val_precision: 0.8609 - val_recall: 0.7243\n",
            "Epoch 16/50\n",
            "\u001b[1m759/759\u001b[0m \u001b[32m━━━━━━━━━━━━━━━━━━━━\u001b[0m\u001b[37m\u001b[0m \u001b[1m141s\u001b[0m 115ms/step - auc: 0.9595 - loss: 0.1763 - precision: 0.8525 - recall: 0.7013 - val_auc: 0.9636 - val_loss: 0.1675 - val_precision: 0.8631 - val_recall: 0.7220\n",
            "Epoch 17/50\n",
            "\u001b[1m759/759\u001b[0m \u001b[32m━━━━━━━━━━━━━━━━━━━━\u001b[0m\u001b[37m\u001b[0m \u001b[1m143s\u001b[0m 116ms/step - auc: 0.9596 - loss: 0.1759 - precision: 0.8519 - recall: 0.7034 - val_auc: 0.9637 - val_loss: 0.1683 - val_precision: 0.8666 - val_recall: 0.7171\n",
            "Epoch 18/50\n",
            "\u001b[1m759/759\u001b[0m \u001b[32m━━━━━━━━━━━━━━━━━━━━\u001b[0m\u001b[37m\u001b[0m \u001b[1m87s\u001b[0m 114ms/step - auc: 0.9597 - loss: 0.1757 - precision: 0.8547 - recall: 0.7015 - val_auc: 0.9631 - val_loss: 0.1687 - val_precision: 0.8601 - val_recall: 0.7210\n",
            "Epoch 19/50\n",
            "\u001b[1m759/759\u001b[0m \u001b[32m━━━━━━━━━━━━━━━━━━━━\u001b[0m\u001b[37m\u001b[0m \u001b[1m142s\u001b[0m 115ms/step - auc: 0.9596 - loss: 0.1760 - precision: 0.8519 - recall: 0.7046 - val_auc: 0.9628 - val_loss: 0.1694 - val_precision: 0.8629 - val_recall: 0.7136\n",
            "Epoch 20/50\n",
            "\u001b[1m759/759\u001b[0m \u001b[32m━━━━━━━━━━━━━━━━━━━━\u001b[0m\u001b[37m\u001b[0m \u001b[1m87s\u001b[0m 114ms/step - auc: 0.9600 - loss: 0.1747 - precision: 0.8570 - recall: 0.7043 - val_auc: 0.9635 - val_loss: 0.1677 - val_precision: 0.8682 - val_recall: 0.7134\n",
            "Epoch 21/50\n",
            "\u001b[1m759/759\u001b[0m \u001b[32m━━━━━━━━━━━━━━━━━━━━\u001b[0m\u001b[37m\u001b[0m \u001b[1m108s\u001b[0m 142ms/step - auc: 0.9599 - loss: 0.1747 - precision: 0.8549 - recall: 0.7043 - val_auc: 0.9636 - val_loss: 0.1680 - val_precision: 0.8637 - val_recall: 0.7212\n",
            "Epoch 22/50\n",
            "\u001b[1m759/759\u001b[0m \u001b[32m━━━━━━━━━━━━━━━━━━━━\u001b[0m\u001b[37m\u001b[0m \u001b[1m121s\u001b[0m 115ms/step - auc: 0.9607 - loss: 0.1735 - precision: 0.8546 - recall: 0.7043 - val_auc: 0.9643 - val_loss: 0.1669 - val_precision: 0.8677 - val_recall: 0.7205\n",
            "Epoch 23/50\n",
            "\u001b[1m759/759\u001b[0m \u001b[32m━━━━━━━━━━━━━━━━━━━━\u001b[0m\u001b[37m\u001b[0m \u001b[1m142s\u001b[0m 115ms/step - auc: 0.9600 - loss: 0.1748 - precision: 0.8539 - recall: 0.7022 - val_auc: 0.9639 - val_loss: 0.1670 - val_precision: 0.8578 - val_recall: 0.7265\n",
            "Epoch 24/50\n",
            "\u001b[1m759/759\u001b[0m \u001b[32m━━━━━━━━━━━━━━━━━━━━\u001b[0m\u001b[37m\u001b[0m \u001b[1m87s\u001b[0m 115ms/step - auc: 0.9607 - loss: 0.1731 - precision: 0.8568 - recall: 0.7074 - val_auc: 0.9630 - val_loss: 0.1691 - val_precision: 0.8501 - val_recall: 0.7307\n",
            "Epoch 25/50\n",
            "\u001b[1m759/759\u001b[0m \u001b[32m━━━━━━━━━━━━━━━━━━━━\u001b[0m\u001b[37m\u001b[0m \u001b[1m142s\u001b[0m 116ms/step - auc: 0.9603 - loss: 0.1744 - precision: 0.8541 - recall: 0.7065 - val_auc: 0.9639 - val_loss: 0.1672 - val_precision: 0.8581 - val_recall: 0.7292\n",
            "Epoch 26/50\n",
            "\u001b[1m759/759\u001b[0m \u001b[32m━━━━━━━━━━━━━━━━━━━━\u001b[0m\u001b[37m\u001b[0m \u001b[1m87s\u001b[0m 114ms/step - auc: 0.9598 - loss: 0.1755 - precision: 0.8525 - recall: 0.7042 - val_auc: 0.9641 - val_loss: 0.1666 - val_precision: 0.8588 - val_recall: 0.7284\n",
            "Epoch 27/50\n",
            "\u001b[1m759/759\u001b[0m \u001b[32m━━━━━━━━━━━━━━━━━━━━\u001b[0m\u001b[37m\u001b[0m \u001b[1m88s\u001b[0m 116ms/step - auc: 0.9607 - loss: 0.1740 - precision: 0.8535 - recall: 0.7074 - val_auc: 0.9643 - val_loss: 0.1660 - val_precision: 0.8630 - val_recall: 0.7240\n",
            "Epoch 28/50\n",
            "\u001b[1m759/759\u001b[0m \u001b[32m━━━━━━━━━━━━━━━━━━━━\u001b[0m\u001b[37m\u001b[0m \u001b[1m88s\u001b[0m 116ms/step - auc: 0.9611 - loss: 0.1721 - precision: 0.8575 - recall: 0.7095 - val_auc: 0.9640 - val_loss: 0.1670 - val_precision: 0.8532 - val_recall: 0.7310\n",
            "Epoch 29/50\n",
            "\u001b[1m759/759\u001b[0m \u001b[32m━━━━━━━━━━━━━━━━━━━━\u001b[0m\u001b[37m\u001b[0m \u001b[1m141s\u001b[0m 115ms/step - auc: 0.9615 - loss: 0.1714 - precision: 0.8587 - recall: 0.7111 - val_auc: 0.9643 - val_loss: 0.1664 - val_precision: 0.8602 - val_recall: 0.7301\n",
            "Epoch 30/50\n",
            "\u001b[1m759/759\u001b[0m \u001b[32m━━━━━━━━━━━━━━━━━━━━\u001b[0m\u001b[37m\u001b[0m \u001b[1m142s\u001b[0m 114ms/step - auc: 0.9616 - loss: 0.1709 - precision: 0.8578 - recall: 0.7146 - val_auc: 0.9640 - val_loss: 0.1668 - val_precision: 0.8564 - val_recall: 0.7296\n",
            "Epoch 31/50\n",
            "\u001b[1m759/759\u001b[0m \u001b[32m━━━━━━━━━━━━━━━━━━━━\u001b[0m\u001b[37m\u001b[0m \u001b[1m162s\u001b[0m 142ms/step - auc: 0.9602 - loss: 0.1747 - precision: 0.8524 - recall: 0.7075 - val_auc: 0.9635 - val_loss: 0.1678 - val_precision: 0.8584 - val_recall: 0.7213\n",
            "Epoch 32/50\n",
            "\u001b[1m759/759\u001b[0m \u001b[32m━━━━━━━━━━━━━━━━━━━━\u001b[0m\u001b[37m\u001b[0m \u001b[1m87s\u001b[0m 115ms/step - auc: 0.9605 - loss: 0.1739 - precision: 0.8573 - recall: 0.7073 - val_auc: 0.9640 - val_loss: 0.1670 - val_precision: 0.8550 - val_recall: 0.7300\n",
            "Epoch 33/50\n",
            "\u001b[1m759/759\u001b[0m \u001b[32m━━━━━━━━━━━━━━━━━━━━\u001b[0m\u001b[37m\u001b[0m \u001b[1m143s\u001b[0m 116ms/step - auc: 0.9614 - loss: 0.1717 - precision: 0.8554 - recall: 0.7073 - val_auc: 0.9636 - val_loss: 0.1678 - val_precision: 0.8539 - val_recall: 0.7282\n",
            "Epoch 34/50\n",
            "\u001b[1m759/759\u001b[0m \u001b[32m━━━━━━━━━━━━━━━━━━━━\u001b[0m\u001b[37m\u001b[0m \u001b[1m142s\u001b[0m 115ms/step - auc: 0.9601 - loss: 0.1745 - precision: 0.8537 - recall: 0.7076 - val_auc: 0.9646 - val_loss: 0.1655 - val_precision: 0.8679 - val_recall: 0.7230\n",
            "Epoch 35/50\n",
            "\u001b[1m759/759\u001b[0m \u001b[32m━━━━━━━━━━━━━━━━━━━━\u001b[0m\u001b[37m\u001b[0m \u001b[1m142s\u001b[0m 115ms/step - auc: 0.9614 - loss: 0.1718 - precision: 0.8588 - recall: 0.7069 - val_auc: 0.9643 - val_loss: 0.1659 - val_precision: 0.8632 - val_recall: 0.7249\n",
            "Epoch 36/50\n",
            "\u001b[1m759/759\u001b[0m \u001b[32m━━━━━━━━━━━━━━━━━━━━\u001b[0m\u001b[37m\u001b[0m \u001b[1m107s\u001b[0m 141ms/step - auc: 0.9611 - loss: 0.1724 - precision: 0.8583 - recall: 0.7116 - val_auc: 0.9643 - val_loss: 0.1664 - val_precision: 0.8661 - val_recall: 0.7197\n",
            "Epoch 37/50\n",
            "\u001b[1m759/759\u001b[0m \u001b[32m━━━━━━━━━━━━━━━━━━━━\u001b[0m\u001b[37m\u001b[0m \u001b[1m122s\u001b[0m 115ms/step - auc: 0.9613 - loss: 0.1720 - precision: 0.8551 - recall: 0.7092 - val_auc: 0.9631 - val_loss: 0.1690 - val_precision: 0.8580 - val_recall: 0.7191\n",
            "Epoch 38/50\n",
            "\u001b[1m759/759\u001b[0m \u001b[32m━━━━━━━━━━━━━━━━━━━━\u001b[0m\u001b[37m\u001b[0m \u001b[1m142s\u001b[0m 114ms/step - auc: 0.9618 - loss: 0.1709 - precision: 0.8599 - recall: 0.7120 - val_auc: 0.9647 - val_loss: 0.1652 - val_precision: 0.8649 - val_recall: 0.7251\n",
            "Epoch 39/50\n",
            "\u001b[1m759/759\u001b[0m \u001b[32m━━━━━━━━━━━━━━━━━━━━\u001b[0m\u001b[37m\u001b[0m \u001b[1m87s\u001b[0m 115ms/step - auc: 0.9614 - loss: 0.1725 - precision: 0.8554 - recall: 0.7098 - val_auc: 0.9649 - val_loss: 0.1647 - val_precision: 0.8637 - val_recall: 0.7279\n",
            "Epoch 40/50\n",
            "\u001b[1m759/759\u001b[0m \u001b[32m━━━━━━━━━━━━━━━━━━━━\u001b[0m\u001b[37m\u001b[0m \u001b[1m142s\u001b[0m 115ms/step - auc: 0.9615 - loss: 0.1722 - precision: 0.8562 - recall: 0.7099 - val_auc: 0.9645 - val_loss: 0.1657 - val_precision: 0.8682 - val_recall: 0.7188\n",
            "Epoch 41/50\n",
            "\u001b[1m759/759\u001b[0m \u001b[32m━━━━━━━━━━━━━━━━━━━━\u001b[0m\u001b[37m\u001b[0m \u001b[1m143s\u001b[0m 116ms/step - auc: 0.9607 - loss: 0.1735 - precision: 0.8588 - recall: 0.7062 - val_auc: 0.9648 - val_loss: 0.1654 - val_precision: 0.8675 - val_recall: 0.7240\n",
            "Epoch 42/50\n",
            "\u001b[1m759/759\u001b[0m \u001b[32m━━━━━━━━━━━━━━━━━━━━\u001b[0m\u001b[37m\u001b[0m \u001b[1m142s\u001b[0m 116ms/step - auc: 0.9611 - loss: 0.1721 - precision: 0.8577 - recall: 0.7069 - val_auc: 0.9640 - val_loss: 0.1664 - val_precision: 0.8611 - val_recall: 0.7276\n",
            "Epoch 43/50\n",
            "\u001b[1m759/759\u001b[0m \u001b[32m━━━━━━━━━━━━━━━━━━━━\u001b[0m\u001b[37m\u001b[0m \u001b[1m162s\u001b[0m 142ms/step - auc: 0.9614 - loss: 0.1716 - precision: 0.8597 - recall: 0.7101 - val_auc: 0.9642 - val_loss: 0.1671 - val_precision: 0.8621 - val_recall: 0.7286\n",
            "Epoch 44/50\n",
            "\u001b[1m759/759\u001b[0m \u001b[32m━━━━━━━━━━━━━━━━━━━━\u001b[0m\u001b[37m\u001b[0m \u001b[1m87s\u001b[0m 115ms/step - auc: 0.9615 - loss: 0.1718 - precision: 0.8583 - recall: 0.7113 - val_auc: 0.9644 - val_loss: 0.1665 - val_precision: 0.8588 - val_recall: 0.7326\n",
            "Epoch 45/50\n",
            "\u001b[1m759/759\u001b[0m \u001b[32m━━━━━━━━━━━━━━━━━━━━\u001b[0m\u001b[37m\u001b[0m \u001b[1m108s\u001b[0m 142ms/step - auc: 0.9609 - loss: 0.1733 - precision: 0.8568 - recall: 0.7101 - val_auc: 0.9644 - val_loss: 0.1674 - val_precision: 0.8665 - val_recall: 0.7234\n",
            "Epoch 46/50\n",
            "\u001b[1m759/759\u001b[0m \u001b[32m━━━━━━━━━━━━━━━━━━━━\u001b[0m\u001b[37m\u001b[0m \u001b[1m122s\u001b[0m 115ms/step - auc: 0.9616 - loss: 0.1716 - precision: 0.8582 - recall: 0.7092 - val_auc: 0.9642 - val_loss: 0.1662 - val_precision: 0.8609 - val_recall: 0.7246\n",
            "Epoch 47/50\n",
            "\u001b[1m759/759\u001b[0m \u001b[32m━━━━━━━━━━━━━━━━━━━━\u001b[0m\u001b[37m\u001b[0m \u001b[1m108s\u001b[0m 142ms/step - auc: 0.9620 - loss: 0.1704 - precision: 0.8557 - recall: 0.7145 - val_auc: 0.9639 - val_loss: 0.1678 - val_precision: 0.8469 - val_recall: 0.7341\n",
            "Epoch 48/50\n",
            "\u001b[1m759/759\u001b[0m \u001b[32m━━━━━━━━━━━━━━━━━━━━\u001b[0m\u001b[37m\u001b[0m \u001b[1m89s\u001b[0m 117ms/step - auc: 0.9623 - loss: 0.1702 - precision: 0.8595 - recall: 0.7127 - val_auc: 0.9645 - val_loss: 0.1658 - val_precision: 0.8488 - val_recall: 0.7386\n",
            "Epoch 49/50\n",
            "\u001b[1m759/759\u001b[0m \u001b[32m━━━━━━━━━━━━━━━━━━━━\u001b[0m\u001b[37m\u001b[0m \u001b[1m141s\u001b[0m 116ms/step - auc: 0.9618 - loss: 0.1706 - precision: 0.8590 - recall: 0.7148 - val_auc: 0.9653 - val_loss: 0.1646 - val_precision: 0.8651 - val_recall: 0.7305\n",
            "Epoch 50/50\n",
            "\u001b[1m759/759\u001b[0m \u001b[32m━━━━━━━━━━━━━━━━━━━━\u001b[0m\u001b[37m\u001b[0m \u001b[1m142s\u001b[0m 116ms/step - auc: 0.9614 - loss: 0.1719 - precision: 0.8580 - recall: 0.7111 - val_auc: 0.9636 - val_loss: 0.1678 - val_precision: 0.8576 - val_recall: 0.7248\n"
          ]
        }
      ]
    },
    {
      "cell_type": "markdown",
      "source": [
        "## Model Evaluation"
      ],
      "metadata": {
        "id": "gS9QkgwDDBPE"
      }
    },
    {
      "cell_type": "code",
      "source": [
        "model_resnet50.evaluate(test_generator)"
      ],
      "metadata": {
        "colab": {
          "base_uri": "https://localhost:8080/"
        },
        "id": "ToKMcFns7jRk",
        "outputId": "f2b15339-7bf9-4854-de5a-337fc912ba1e"
      },
      "execution_count": null,
      "outputs": [
        {
          "output_type": "stream",
          "name": "stderr",
          "text": [
            "/usr/local/lib/python3.11/dist-packages/keras/src/trainers/data_adapters/py_dataset_adapter.py:121: UserWarning: Your `PyDataset` class should call `super().__init__(**kwargs)` in its constructor. `**kwargs` can include `workers`, `use_multiprocessing`, `max_queue_size`. Do not pass these arguments to `fit()`, as they will be ignored.\n",
            "  self._warn_if_super_not_called()\n"
          ]
        },
        {
          "output_type": "stream",
          "name": "stdout",
          "text": [
            "\u001b[1m253/253\u001b[0m \u001b[32m━━━━━━━━━━━━━━━━━━━━\u001b[0m\u001b[37m\u001b[0m \u001b[1m28s\u001b[0m 109ms/step - auc: 0.9622 - loss: 0.1696 - precision: 0.8581 - recall: 0.7268\n"
          ]
        },
        {
          "output_type": "execute_result",
          "data": {
            "text/plain": [
              "[0.16709177196025848,\n",
              " 0.859421968460083,\n",
              " 0.7263914942741394,\n",
              " 0.9634708762168884]"
            ]
          },
          "metadata": {},
          "execution_count": 16
        }
      ]
    },
    {
      "source": [
        "import numpy as np\n",
        "\n",
        "# Assuming you have your test generator (test_generator)\n",
        "\n",
        "# Get the true labels (y_true)\n",
        "y_true = []\n",
        "for i in range(len(test_generator)):\n",
        "    _, batch_y = test_generator[i]  # Get the labels from the generator\n",
        "    y_true.extend(batch_y)  # Extend the list with labels from the current batch\n",
        "y_true = np.array(y_true)  # Convert to a NumPy array\n",
        "\n",
        "# Get the predicted labels (y_pred)\n",
        "y_pred_probs = model_resnet50.predict(test_generator)  # Get predicted probabilities\n",
        "y_pred = (y_pred_probs > 0.5).astype(int)  # Convert probabilities to binary predictions (0 or 1)\n",
        "\n",
        "# Now you have y_true and y_pred, which you can use with the calculate_metrics function."
      ],
      "cell_type": "code",
      "metadata": {
        "colab": {
          "base_uri": "https://localhost:8080/"
        },
        "id": "RN9yC68M8rfj",
        "outputId": "ca86e4f3-7ccb-4abe-8723-ceca1aa28e19"
      },
      "execution_count": null,
      "outputs": [
        {
          "output_type": "stream",
          "name": "stdout",
          "text": [
            "\u001b[1m253/253\u001b[0m \u001b[32m━━━━━━━━━━━━━━━━━━━━\u001b[0m\u001b[37m\u001b[0m \u001b[1m27s\u001b[0m 86ms/step\n"
          ]
        }
      ]
    },
    {
      "cell_type": "markdown",
      "source": [
        "Results"
      ],
      "metadata": {
        "id": "2f0ujcCYDM6F"
      }
    },
    {
      "source": [
        "from sklearn.metrics import accuracy_score, precision_score, recall_score, f1_score, hamming_loss, jaccard_score\n",
        "\n",
        "def calculate_metrics(y_true, y_pred):\n",
        "    \"\"\"\n",
        "    Calculates various metrics for multi-label classification.\n",
        "\n",
        "    Args:\n",
        "        y_true: True labels (multi-hot encoded).\n",
        "        y_pred: Predicted labels (multi-hot encoded).\n",
        "\n",
        "    Returns:\n",
        "        A dictionary containing the calculated metrics.\n",
        "    \"\"\"\n",
        "\n",
        "    metrics = {}\n",
        "\n",
        "    # Accuracy\n",
        "    # metrics['Accuracy'] = accuracy_score(y_true, y_pred) # accuracy becomes less informative and can be misleading.\n",
        "\n",
        "    metrics['Precision_Weighted'] = precision_score(y_true, y_pred, average='weighted', zero_division=1)\n",
        "\n",
        "    metrics['Recall_Weighted'] = recall_score(y_true, y_pred, average='weighted')\n",
        "\n",
        "    metrics['F1_Weighted'] = f1_score(y_true, y_pred, average='weighted')\n",
        "\n",
        "    metrics['Jaccard_Weighted'] = jaccard_score(y_true, y_pred, average='weighted')\n",
        "\n",
        "    return metrics\n",
        "\n",
        "\n",
        "\n",
        "# Example usage:\n",
        "# Assuming you have y_true and y_pred (multi-hot encoded)\n",
        "metrics = calculate_metrics(y_true, y_pred)\n",
        "for metric_name, metric_value in metrics.items():\n",
        "    print(f\"{metric_name}: {metric_value}\")\n",
        "# print(metrics)"
      ],
      "cell_type": "code",
      "metadata": {
        "colab": {
          "base_uri": "https://localhost:8080/"
        },
        "id": "6eevCTeN87Ux",
        "outputId": "3b2638eb-fd45-476d-895f-3f6b9961b7cb"
      },
      "execution_count": null,
      "outputs": [
        {
          "output_type": "stream",
          "name": "stdout",
          "text": [
            "Precision_Weighted: 0.8454537180728346\n",
            "Recall_Weighted: 0.7263915216267448\n",
            "F1_Weighted: 0.7350512392760783\n",
            "Jaccard_Weighted: 0.6504553085482647\n"
          ]
        }
      ]
    },
    {
      "cell_type": "markdown",
      "source": [
        "## Conclusion"
      ],
      "metadata": {
        "id": "diPqRt5kDkbF"
      }
    },
    {
      "cell_type": "markdown",
      "source": [
        "We utilized a pretrained ResNet50 model, which provides very good results for multi-label detection."
      ],
      "metadata": {
        "id": "jFbkPY0cD9Pj"
      }
    },
    {
      "cell_type": "code",
      "source": [],
      "metadata": {
        "id": "vqv30507MCES"
      },
      "execution_count": null,
      "outputs": []
    },
    {
      "cell_type": "code",
      "source": [],
      "metadata": {
        "id": "AAhoE7W9MBxJ"
      },
      "execution_count": null,
      "outputs": []
    },
    {
      "cell_type": "markdown",
      "source": [],
      "metadata": {
        "id": "y0CocOOoFb9h"
      }
    }
  ]
}