{
  "nbformat": 4,
  "nbformat_minor": 0,
  "metadata": {
    "colab": {
      "provenance": []
    },
    "kernelspec": {
      "name": "python3",
      "display_name": "Python 3"
    },
    "language_info": {
      "name": "python"
    },
    "widgets": {
      "application/vnd.jupyter.widget-state+json": {
        "c0963ee0431f4f99a60295750dc0c543": {
          "model_module": "@jupyter-widgets/controls",
          "model_name": "HBoxModel",
          "model_module_version": "1.5.0",
          "state": {
            "_dom_classes": [],
            "_model_module": "@jupyter-widgets/controls",
            "_model_module_version": "1.5.0",
            "_model_name": "HBoxModel",
            "_view_count": null,
            "_view_module": "@jupyter-widgets/controls",
            "_view_module_version": "1.5.0",
            "_view_name": "HBoxView",
            "box_style": "",
            "children": [
              "IPY_MODEL_9e3d4fc7485c47adbe6128a38691bed7",
              "IPY_MODEL_086de9131348463db94585b40bac2f7d",
              "IPY_MODEL_6f717a1589884dd6853cea7f3d67967a"
            ],
            "layout": "IPY_MODEL_ea2721c4e6c747b9a9a4bbc5684d84cc"
          }
        },
        "9e3d4fc7485c47adbe6128a38691bed7": {
          "model_module": "@jupyter-widgets/controls",
          "model_name": "HTMLModel",
          "model_module_version": "1.5.0",
          "state": {
            "_dom_classes": [],
            "_model_module": "@jupyter-widgets/controls",
            "_model_module_version": "1.5.0",
            "_model_name": "HTMLModel",
            "_view_count": null,
            "_view_module": "@jupyter-widgets/controls",
            "_view_module_version": "1.5.0",
            "_view_name": "HTMLView",
            "description": "",
            "description_tooltip": null,
            "layout": "IPY_MODEL_6be813fdee7f49398538592616d60e50",
            "placeholder": "​",
            "style": "IPY_MODEL_99e91e584322492c927894b4b4282586",
            "value": "Processing: 100%"
          }
        },
        "086de9131348463db94585b40bac2f7d": {
          "model_module": "@jupyter-widgets/controls",
          "model_name": "FloatProgressModel",
          "model_module_version": "1.5.0",
          "state": {
            "_dom_classes": [],
            "_model_module": "@jupyter-widgets/controls",
            "_model_module_version": "1.5.0",
            "_model_name": "FloatProgressModel",
            "_view_count": null,
            "_view_module": "@jupyter-widgets/controls",
            "_view_module_version": "1.5.0",
            "_view_name": "ProgressView",
            "bar_style": "",
            "description": "",
            "description_tooltip": null,
            "layout": "IPY_MODEL_8db49dd57503487c902ac3c45656dc1a",
            "max": 65,
            "min": 0,
            "orientation": "horizontal",
            "style": "IPY_MODEL_f3cf3710148847d49b4752650ae35eb5",
            "value": 65
          }
        },
        "6f717a1589884dd6853cea7f3d67967a": {
          "model_module": "@jupyter-widgets/controls",
          "model_name": "HTMLModel",
          "model_module_version": "1.5.0",
          "state": {
            "_dom_classes": [],
            "_model_module": "@jupyter-widgets/controls",
            "_model_module_version": "1.5.0",
            "_model_name": "HTMLModel",
            "_view_count": null,
            "_view_module": "@jupyter-widgets/controls",
            "_view_module_version": "1.5.0",
            "_view_name": "HTMLView",
            "description": "",
            "description_tooltip": null,
            "layout": "IPY_MODEL_cca5307f3caa48858fa4a6835a4a95f5",
            "placeholder": "​",
            "style": "IPY_MODEL_db7166ef47cd4f0cb455940ec1352eb0",
            "value": " 65/65 [13:16&lt;00:00,  7.21s/it]"
          }
        },
        "ea2721c4e6c747b9a9a4bbc5684d84cc": {
          "model_module": "@jupyter-widgets/base",
          "model_name": "LayoutModel",
          "model_module_version": "1.2.0",
          "state": {
            "_model_module": "@jupyter-widgets/base",
            "_model_module_version": "1.2.0",
            "_model_name": "LayoutModel",
            "_view_count": null,
            "_view_module": "@jupyter-widgets/base",
            "_view_module_version": "1.2.0",
            "_view_name": "LayoutView",
            "align_content": null,
            "align_items": null,
            "align_self": null,
            "border": null,
            "bottom": null,
            "display": null,
            "flex": null,
            "flex_flow": null,
            "grid_area": null,
            "grid_auto_columns": null,
            "grid_auto_flow": null,
            "grid_auto_rows": null,
            "grid_column": null,
            "grid_gap": null,
            "grid_row": null,
            "grid_template_areas": null,
            "grid_template_columns": null,
            "grid_template_rows": null,
            "height": null,
            "justify_content": null,
            "justify_items": null,
            "left": null,
            "margin": null,
            "max_height": null,
            "max_width": null,
            "min_height": null,
            "min_width": null,
            "object_fit": null,
            "object_position": null,
            "order": null,
            "overflow": null,
            "overflow_x": null,
            "overflow_y": null,
            "padding": null,
            "right": null,
            "top": null,
            "visibility": "hidden",
            "width": null
          }
        },
        "6be813fdee7f49398538592616d60e50": {
          "model_module": "@jupyter-widgets/base",
          "model_name": "LayoutModel",
          "model_module_version": "1.2.0",
          "state": {
            "_model_module": "@jupyter-widgets/base",
            "_model_module_version": "1.2.0",
            "_model_name": "LayoutModel",
            "_view_count": null,
            "_view_module": "@jupyter-widgets/base",
            "_view_module_version": "1.2.0",
            "_view_name": "LayoutView",
            "align_content": null,
            "align_items": null,
            "align_self": null,
            "border": null,
            "bottom": null,
            "display": null,
            "flex": null,
            "flex_flow": null,
            "grid_area": null,
            "grid_auto_columns": null,
            "grid_auto_flow": null,
            "grid_auto_rows": null,
            "grid_column": null,
            "grid_gap": null,
            "grid_row": null,
            "grid_template_areas": null,
            "grid_template_columns": null,
            "grid_template_rows": null,
            "height": null,
            "justify_content": null,
            "justify_items": null,
            "left": null,
            "margin": null,
            "max_height": null,
            "max_width": null,
            "min_height": null,
            "min_width": null,
            "object_fit": null,
            "object_position": null,
            "order": null,
            "overflow": null,
            "overflow_x": null,
            "overflow_y": null,
            "padding": null,
            "right": null,
            "top": null,
            "visibility": null,
            "width": null
          }
        },
        "99e91e584322492c927894b4b4282586": {
          "model_module": "@jupyter-widgets/controls",
          "model_name": "DescriptionStyleModel",
          "model_module_version": "1.5.0",
          "state": {
            "_model_module": "@jupyter-widgets/controls",
            "_model_module_version": "1.5.0",
            "_model_name": "DescriptionStyleModel",
            "_view_count": null,
            "_view_module": "@jupyter-widgets/base",
            "_view_module_version": "1.2.0",
            "_view_name": "StyleView",
            "description_width": ""
          }
        },
        "8db49dd57503487c902ac3c45656dc1a": {
          "model_module": "@jupyter-widgets/base",
          "model_name": "LayoutModel",
          "model_module_version": "1.2.0",
          "state": {
            "_model_module": "@jupyter-widgets/base",
            "_model_module_version": "1.2.0",
            "_model_name": "LayoutModel",
            "_view_count": null,
            "_view_module": "@jupyter-widgets/base",
            "_view_module_version": "1.2.0",
            "_view_name": "LayoutView",
            "align_content": null,
            "align_items": null,
            "align_self": null,
            "border": null,
            "bottom": null,
            "display": null,
            "flex": null,
            "flex_flow": null,
            "grid_area": null,
            "grid_auto_columns": null,
            "grid_auto_flow": null,
            "grid_auto_rows": null,
            "grid_column": null,
            "grid_gap": null,
            "grid_row": null,
            "grid_template_areas": null,
            "grid_template_columns": null,
            "grid_template_rows": null,
            "height": null,
            "justify_content": null,
            "justify_items": null,
            "left": null,
            "margin": null,
            "max_height": null,
            "max_width": null,
            "min_height": null,
            "min_width": null,
            "object_fit": null,
            "object_position": null,
            "order": null,
            "overflow": null,
            "overflow_x": null,
            "overflow_y": null,
            "padding": null,
            "right": null,
            "top": null,
            "visibility": null,
            "width": null
          }
        },
        "f3cf3710148847d49b4752650ae35eb5": {
          "model_module": "@jupyter-widgets/controls",
          "model_name": "ProgressStyleModel",
          "model_module_version": "1.5.0",
          "state": {
            "_model_module": "@jupyter-widgets/controls",
            "_model_module_version": "1.5.0",
            "_model_name": "ProgressStyleModel",
            "_view_count": null,
            "_view_module": "@jupyter-widgets/base",
            "_view_module_version": "1.2.0",
            "_view_name": "StyleView",
            "bar_color": null,
            "description_width": ""
          }
        },
        "cca5307f3caa48858fa4a6835a4a95f5": {
          "model_module": "@jupyter-widgets/base",
          "model_name": "LayoutModel",
          "model_module_version": "1.2.0",
          "state": {
            "_model_module": "@jupyter-widgets/base",
            "_model_module_version": "1.2.0",
            "_model_name": "LayoutModel",
            "_view_count": null,
            "_view_module": "@jupyter-widgets/base",
            "_view_module_version": "1.2.0",
            "_view_name": "LayoutView",
            "align_content": null,
            "align_items": null,
            "align_self": null,
            "border": null,
            "bottom": null,
            "display": null,
            "flex": null,
            "flex_flow": null,
            "grid_area": null,
            "grid_auto_columns": null,
            "grid_auto_flow": null,
            "grid_auto_rows": null,
            "grid_column": null,
            "grid_gap": null,
            "grid_row": null,
            "grid_template_areas": null,
            "grid_template_columns": null,
            "grid_template_rows": null,
            "height": null,
            "justify_content": null,
            "justify_items": null,
            "left": null,
            "margin": null,
            "max_height": null,
            "max_width": null,
            "min_height": null,
            "min_width": null,
            "object_fit": null,
            "object_position": null,
            "order": null,
            "overflow": null,
            "overflow_x": null,
            "overflow_y": null,
            "padding": null,
            "right": null,
            "top": null,
            "visibility": null,
            "width": null
          }
        },
        "db7166ef47cd4f0cb455940ec1352eb0": {
          "model_module": "@jupyter-widgets/controls",
          "model_name": "DescriptionStyleModel",
          "model_module_version": "1.5.0",
          "state": {
            "_model_module": "@jupyter-widgets/controls",
            "_model_module_version": "1.5.0",
            "_model_name": "DescriptionStyleModel",
            "_view_count": null,
            "_view_module": "@jupyter-widgets/base",
            "_view_module_version": "1.2.0",
            "_view_name": "StyleView",
            "description_width": ""
          }
        },
        "92f56e0e9f11437f9b026043e7cc6f07": {
          "model_module": "@jupyter-widgets/controls",
          "model_name": "HBoxModel",
          "model_module_version": "1.5.0",
          "state": {
            "_dom_classes": [],
            "_model_module": "@jupyter-widgets/controls",
            "_model_module_version": "1.5.0",
            "_model_name": "HBoxModel",
            "_view_count": null,
            "_view_module": "@jupyter-widgets/controls",
            "_view_module_version": "1.5.0",
            "_view_name": "HBoxView",
            "box_style": "",
            "children": [
              "IPY_MODEL_2a4ef42c70df4b96a371cce3ee6f37cf",
              "IPY_MODEL_47e330e80e1b4c72b14aa24f4c755e3c",
              "IPY_MODEL_9b02993d65164020bf9ab7476995055e"
            ],
            "layout": "IPY_MODEL_5976dced66bc44638939754e9f1c8c9a"
          }
        },
        "2a4ef42c70df4b96a371cce3ee6f37cf": {
          "model_module": "@jupyter-widgets/controls",
          "model_name": "HTMLModel",
          "model_module_version": "1.5.0",
          "state": {
            "_dom_classes": [],
            "_model_module": "@jupyter-widgets/controls",
            "_model_module_version": "1.5.0",
            "_model_name": "HTMLModel",
            "_view_count": null,
            "_view_module": "@jupyter-widgets/controls",
            "_view_module_version": "1.5.0",
            "_view_name": "HTMLView",
            "description": "",
            "description_tooltip": null,
            "layout": "IPY_MODEL_199dea0a59114e139790900fc55420c7",
            "placeholder": "​",
            "style": "IPY_MODEL_3802e2c1e41f48edbb5f3dc64e39848a",
            "value": "Processing: 100%"
          }
        },
        "47e330e80e1b4c72b14aa24f4c755e3c": {
          "model_module": "@jupyter-widgets/controls",
          "model_name": "FloatProgressModel",
          "model_module_version": "1.5.0",
          "state": {
            "_dom_classes": [],
            "_model_module": "@jupyter-widgets/controls",
            "_model_module_version": "1.5.0",
            "_model_name": "FloatProgressModel",
            "_view_count": null,
            "_view_module": "@jupyter-widgets/controls",
            "_view_module_version": "1.5.0",
            "_view_name": "ProgressView",
            "bar_style": "",
            "description": "",
            "description_tooltip": null,
            "layout": "IPY_MODEL_cda627a138dd4d5593ba42c537512b54",
            "max": 4,
            "min": 0,
            "orientation": "horizontal",
            "style": "IPY_MODEL_396937d7f87741f6a23ee740c08b82d9",
            "value": 4
          }
        },
        "9b02993d65164020bf9ab7476995055e": {
          "model_module": "@jupyter-widgets/controls",
          "model_name": "HTMLModel",
          "model_module_version": "1.5.0",
          "state": {
            "_dom_classes": [],
            "_model_module": "@jupyter-widgets/controls",
            "_model_module_version": "1.5.0",
            "_model_name": "HTMLModel",
            "_view_count": null,
            "_view_module": "@jupyter-widgets/controls",
            "_view_module_version": "1.5.0",
            "_view_name": "HTMLView",
            "description": "",
            "description_tooltip": null,
            "layout": "IPY_MODEL_6be6aded8c3542c68bd19a6f8b9d0a7a",
            "placeholder": "​",
            "style": "IPY_MODEL_5f656bda567b492cb023df01d4d4bf50",
            "value": " 4/4 [03:46&lt;00:00, 53.32s/it]"
          }
        },
        "5976dced66bc44638939754e9f1c8c9a": {
          "model_module": "@jupyter-widgets/base",
          "model_name": "LayoutModel",
          "model_module_version": "1.2.0",
          "state": {
            "_model_module": "@jupyter-widgets/base",
            "_model_module_version": "1.2.0",
            "_model_name": "LayoutModel",
            "_view_count": null,
            "_view_module": "@jupyter-widgets/base",
            "_view_module_version": "1.2.0",
            "_view_name": "LayoutView",
            "align_content": null,
            "align_items": null,
            "align_self": null,
            "border": null,
            "bottom": null,
            "display": null,
            "flex": null,
            "flex_flow": null,
            "grid_area": null,
            "grid_auto_columns": null,
            "grid_auto_flow": null,
            "grid_auto_rows": null,
            "grid_column": null,
            "grid_gap": null,
            "grid_row": null,
            "grid_template_areas": null,
            "grid_template_columns": null,
            "grid_template_rows": null,
            "height": null,
            "justify_content": null,
            "justify_items": null,
            "left": null,
            "margin": null,
            "max_height": null,
            "max_width": null,
            "min_height": null,
            "min_width": null,
            "object_fit": null,
            "object_position": null,
            "order": null,
            "overflow": null,
            "overflow_x": null,
            "overflow_y": null,
            "padding": null,
            "right": null,
            "top": null,
            "visibility": "hidden",
            "width": null
          }
        },
        "199dea0a59114e139790900fc55420c7": {
          "model_module": "@jupyter-widgets/base",
          "model_name": "LayoutModel",
          "model_module_version": "1.2.0",
          "state": {
            "_model_module": "@jupyter-widgets/base",
            "_model_module_version": "1.2.0",
            "_model_name": "LayoutModel",
            "_view_count": null,
            "_view_module": "@jupyter-widgets/base",
            "_view_module_version": "1.2.0",
            "_view_name": "LayoutView",
            "align_content": null,
            "align_items": null,
            "align_self": null,
            "border": null,
            "bottom": null,
            "display": null,
            "flex": null,
            "flex_flow": null,
            "grid_area": null,
            "grid_auto_columns": null,
            "grid_auto_flow": null,
            "grid_auto_rows": null,
            "grid_column": null,
            "grid_gap": null,
            "grid_row": null,
            "grid_template_areas": null,
            "grid_template_columns": null,
            "grid_template_rows": null,
            "height": null,
            "justify_content": null,
            "justify_items": null,
            "left": null,
            "margin": null,
            "max_height": null,
            "max_width": null,
            "min_height": null,
            "min_width": null,
            "object_fit": null,
            "object_position": null,
            "order": null,
            "overflow": null,
            "overflow_x": null,
            "overflow_y": null,
            "padding": null,
            "right": null,
            "top": null,
            "visibility": null,
            "width": null
          }
        },
        "3802e2c1e41f48edbb5f3dc64e39848a": {
          "model_module": "@jupyter-widgets/controls",
          "model_name": "DescriptionStyleModel",
          "model_module_version": "1.5.0",
          "state": {
            "_model_module": "@jupyter-widgets/controls",
            "_model_module_version": "1.5.0",
            "_model_name": "DescriptionStyleModel",
            "_view_count": null,
            "_view_module": "@jupyter-widgets/base",
            "_view_module_version": "1.2.0",
            "_view_name": "StyleView",
            "description_width": ""
          }
        },
        "cda627a138dd4d5593ba42c537512b54": {
          "model_module": "@jupyter-widgets/base",
          "model_name": "LayoutModel",
          "model_module_version": "1.2.0",
          "state": {
            "_model_module": "@jupyter-widgets/base",
            "_model_module_version": "1.2.0",
            "_model_name": "LayoutModel",
            "_view_count": null,
            "_view_module": "@jupyter-widgets/base",
            "_view_module_version": "1.2.0",
            "_view_name": "LayoutView",
            "align_content": null,
            "align_items": null,
            "align_self": null,
            "border": null,
            "bottom": null,
            "display": null,
            "flex": null,
            "flex_flow": null,
            "grid_area": null,
            "grid_auto_columns": null,
            "grid_auto_flow": null,
            "grid_auto_rows": null,
            "grid_column": null,
            "grid_gap": null,
            "grid_row": null,
            "grid_template_areas": null,
            "grid_template_columns": null,
            "grid_template_rows": null,
            "height": null,
            "justify_content": null,
            "justify_items": null,
            "left": null,
            "margin": null,
            "max_height": null,
            "max_width": null,
            "min_height": null,
            "min_width": null,
            "object_fit": null,
            "object_position": null,
            "order": null,
            "overflow": null,
            "overflow_x": null,
            "overflow_y": null,
            "padding": null,
            "right": null,
            "top": null,
            "visibility": null,
            "width": null
          }
        },
        "396937d7f87741f6a23ee740c08b82d9": {
          "model_module": "@jupyter-widgets/controls",
          "model_name": "ProgressStyleModel",
          "model_module_version": "1.5.0",
          "state": {
            "_model_module": "@jupyter-widgets/controls",
            "_model_module_version": "1.5.0",
            "_model_name": "ProgressStyleModel",
            "_view_count": null,
            "_view_module": "@jupyter-widgets/base",
            "_view_module_version": "1.2.0",
            "_view_name": "StyleView",
            "bar_color": null,
            "description_width": ""
          }
        },
        "6be6aded8c3542c68bd19a6f8b9d0a7a": {
          "model_module": "@jupyter-widgets/base",
          "model_name": "LayoutModel",
          "model_module_version": "1.2.0",
          "state": {
            "_model_module": "@jupyter-widgets/base",
            "_model_module_version": "1.2.0",
            "_model_name": "LayoutModel",
            "_view_count": null,
            "_view_module": "@jupyter-widgets/base",
            "_view_module_version": "1.2.0",
            "_view_name": "LayoutView",
            "align_content": null,
            "align_items": null,
            "align_self": null,
            "border": null,
            "bottom": null,
            "display": null,
            "flex": null,
            "flex_flow": null,
            "grid_area": null,
            "grid_auto_columns": null,
            "grid_auto_flow": null,
            "grid_auto_rows": null,
            "grid_column": null,
            "grid_gap": null,
            "grid_row": null,
            "grid_template_areas": null,
            "grid_template_columns": null,
            "grid_template_rows": null,
            "height": null,
            "justify_content": null,
            "justify_items": null,
            "left": null,
            "margin": null,
            "max_height": null,
            "max_width": null,
            "min_height": null,
            "min_width": null,
            "object_fit": null,
            "object_position": null,
            "order": null,
            "overflow": null,
            "overflow_x": null,
            "overflow_y": null,
            "padding": null,
            "right": null,
            "top": null,
            "visibility": null,
            "width": null
          }
        },
        "5f656bda567b492cb023df01d4d4bf50": {
          "model_module": "@jupyter-widgets/controls",
          "model_name": "DescriptionStyleModel",
          "model_module_version": "1.5.0",
          "state": {
            "_model_module": "@jupyter-widgets/controls",
            "_model_module_version": "1.5.0",
            "_model_name": "DescriptionStyleModel",
            "_view_count": null,
            "_view_module": "@jupyter-widgets/base",
            "_view_module_version": "1.2.0",
            "_view_name": "StyleView",
            "description_width": ""
          }
        }
      }
    }
  },
  "cells": [
    {
      "cell_type": "markdown",
      "source": [
        "Muhammad Hassaan Azam\n",
        "\n",
        "AI/ML Intern\n",
        "\n",
        "DHC 831"
      ],
      "metadata": {
        "id": "TuKa098vTH1H"
      }
    },
    {
      "cell_type": "markdown",
      "source": [
        "# Task 4: Credit Risk Analysis"
      ],
      "metadata": {
        "id": "aAS07Sp0T-Rj"
      }
    },
    {
      "cell_type": "markdown",
      "source": [
        "## Important Libraries and Loading Dataset"
      ],
      "metadata": {
        "id": "1ZZOLCfuF9wo"
      }
    },
    {
      "cell_type": "code",
      "execution_count": 2,
      "metadata": {
        "colab": {
          "base_uri": "https://localhost:8080/",
          "height": 261
        },
        "id": "j3L7IV9HWE3A",
        "outputId": "4805e3c9-1187-4ad9-87a7-e125c5f20d7b"
      },
      "outputs": [
        {
          "output_type": "stream",
          "name": "stdout",
          "text": [
            "(150000, 12)\n"
          ]
        },
        {
          "output_type": "display_data",
          "data": {
            "text/plain": [
              "   Unnamed: 0  SeriousDlqin2yrs  RevolvingUtilizationOfUnsecuredLines  age  \\\n",
              "0           1                 1                              0.766127   45   \n",
              "1           2                 0                              0.957151   40   \n",
              "2           3                 0                              0.658180   38   \n",
              "3           4                 0                              0.233810   30   \n",
              "4           5                 0                              0.907239   49   \n",
              "\n",
              "   NumberOfTime30-59DaysPastDueNotWorse  DebtRatio  MonthlyIncome  \\\n",
              "0                                     2   0.802982         9120.0   \n",
              "1                                     0   0.121876         2600.0   \n",
              "2                                     1   0.085113         3042.0   \n",
              "3                                     0   0.036050         3300.0   \n",
              "4                                     1   0.024926        63588.0   \n",
              "\n",
              "   NumberOfOpenCreditLinesAndLoans  NumberOfTimes90DaysLate  \\\n",
              "0                               13                        0   \n",
              "1                                4                        0   \n",
              "2                                2                        1   \n",
              "3                                5                        0   \n",
              "4                                7                        0   \n",
              "\n",
              "   NumberRealEstateLoansOrLines  NumberOfTime60-89DaysPastDueNotWorse  \\\n",
              "0                             6                                     0   \n",
              "1                             0                                     0   \n",
              "2                             0                                     0   \n",
              "3                             0                                     0   \n",
              "4                             1                                     0   \n",
              "\n",
              "   NumberOfDependents  \n",
              "0                 2.0  \n",
              "1                 1.0  \n",
              "2                 0.0  \n",
              "3                 0.0  \n",
              "4                 0.0  "
            ],
            "text/html": [
              "\n",
              "  <div id=\"df-eee8cf15-2fe9-487b-8567-60612c7ca9c1\" class=\"colab-df-container\">\n",
              "    <div>\n",
              "<style scoped>\n",
              "    .dataframe tbody tr th:only-of-type {\n",
              "        vertical-align: middle;\n",
              "    }\n",
              "\n",
              "    .dataframe tbody tr th {\n",
              "        vertical-align: top;\n",
              "    }\n",
              "\n",
              "    .dataframe thead th {\n",
              "        text-align: right;\n",
              "    }\n",
              "</style>\n",
              "<table border=\"1\" class=\"dataframe\">\n",
              "  <thead>\n",
              "    <tr style=\"text-align: right;\">\n",
              "      <th></th>\n",
              "      <th>Unnamed: 0</th>\n",
              "      <th>SeriousDlqin2yrs</th>\n",
              "      <th>RevolvingUtilizationOfUnsecuredLines</th>\n",
              "      <th>age</th>\n",
              "      <th>NumberOfTime30-59DaysPastDueNotWorse</th>\n",
              "      <th>DebtRatio</th>\n",
              "      <th>MonthlyIncome</th>\n",
              "      <th>NumberOfOpenCreditLinesAndLoans</th>\n",
              "      <th>NumberOfTimes90DaysLate</th>\n",
              "      <th>NumberRealEstateLoansOrLines</th>\n",
              "      <th>NumberOfTime60-89DaysPastDueNotWorse</th>\n",
              "      <th>NumberOfDependents</th>\n",
              "    </tr>\n",
              "  </thead>\n",
              "  <tbody>\n",
              "    <tr>\n",
              "      <th>0</th>\n",
              "      <td>1</td>\n",
              "      <td>1</td>\n",
              "      <td>0.766127</td>\n",
              "      <td>45</td>\n",
              "      <td>2</td>\n",
              "      <td>0.802982</td>\n",
              "      <td>9120.0</td>\n",
              "      <td>13</td>\n",
              "      <td>0</td>\n",
              "      <td>6</td>\n",
              "      <td>0</td>\n",
              "      <td>2.0</td>\n",
              "    </tr>\n",
              "    <tr>\n",
              "      <th>1</th>\n",
              "      <td>2</td>\n",
              "      <td>0</td>\n",
              "      <td>0.957151</td>\n",
              "      <td>40</td>\n",
              "      <td>0</td>\n",
              "      <td>0.121876</td>\n",
              "      <td>2600.0</td>\n",
              "      <td>4</td>\n",
              "      <td>0</td>\n",
              "      <td>0</td>\n",
              "      <td>0</td>\n",
              "      <td>1.0</td>\n",
              "    </tr>\n",
              "    <tr>\n",
              "      <th>2</th>\n",
              "      <td>3</td>\n",
              "      <td>0</td>\n",
              "      <td>0.658180</td>\n",
              "      <td>38</td>\n",
              "      <td>1</td>\n",
              "      <td>0.085113</td>\n",
              "      <td>3042.0</td>\n",
              "      <td>2</td>\n",
              "      <td>1</td>\n",
              "      <td>0</td>\n",
              "      <td>0</td>\n",
              "      <td>0.0</td>\n",
              "    </tr>\n",
              "    <tr>\n",
              "      <th>3</th>\n",
              "      <td>4</td>\n",
              "      <td>0</td>\n",
              "      <td>0.233810</td>\n",
              "      <td>30</td>\n",
              "      <td>0</td>\n",
              "      <td>0.036050</td>\n",
              "      <td>3300.0</td>\n",
              "      <td>5</td>\n",
              "      <td>0</td>\n",
              "      <td>0</td>\n",
              "      <td>0</td>\n",
              "      <td>0.0</td>\n",
              "    </tr>\n",
              "    <tr>\n",
              "      <th>4</th>\n",
              "      <td>5</td>\n",
              "      <td>0</td>\n",
              "      <td>0.907239</td>\n",
              "      <td>49</td>\n",
              "      <td>1</td>\n",
              "      <td>0.024926</td>\n",
              "      <td>63588.0</td>\n",
              "      <td>7</td>\n",
              "      <td>0</td>\n",
              "      <td>1</td>\n",
              "      <td>0</td>\n",
              "      <td>0.0</td>\n",
              "    </tr>\n",
              "  </tbody>\n",
              "</table>\n",
              "</div>\n",
              "    <div class=\"colab-df-buttons\">\n",
              "\n",
              "  <div class=\"colab-df-container\">\n",
              "    <button class=\"colab-df-convert\" onclick=\"convertToInteractive('df-eee8cf15-2fe9-487b-8567-60612c7ca9c1')\"\n",
              "            title=\"Convert this dataframe to an interactive table.\"\n",
              "            style=\"display:none;\">\n",
              "\n",
              "  <svg xmlns=\"http://www.w3.org/2000/svg\" height=\"24px\" viewBox=\"0 -960 960 960\">\n",
              "    <path d=\"M120-120v-720h720v720H120Zm60-500h600v-160H180v160Zm220 220h160v-160H400v160Zm0 220h160v-160H400v160ZM180-400h160v-160H180v160Zm440 0h160v-160H620v160ZM180-180h160v-160H180v160Zm440 0h160v-160H620v160Z\"/>\n",
              "  </svg>\n",
              "    </button>\n",
              "\n",
              "  <style>\n",
              "    .colab-df-container {\n",
              "      display:flex;\n",
              "      gap: 12px;\n",
              "    }\n",
              "\n",
              "    .colab-df-convert {\n",
              "      background-color: #E8F0FE;\n",
              "      border: none;\n",
              "      border-radius: 50%;\n",
              "      cursor: pointer;\n",
              "      display: none;\n",
              "      fill: #1967D2;\n",
              "      height: 32px;\n",
              "      padding: 0 0 0 0;\n",
              "      width: 32px;\n",
              "    }\n",
              "\n",
              "    .colab-df-convert:hover {\n",
              "      background-color: #E2EBFA;\n",
              "      box-shadow: 0px 1px 2px rgba(60, 64, 67, 0.3), 0px 1px 3px 1px rgba(60, 64, 67, 0.15);\n",
              "      fill: #174EA6;\n",
              "    }\n",
              "\n",
              "    .colab-df-buttons div {\n",
              "      margin-bottom: 4px;\n",
              "    }\n",
              "\n",
              "    [theme=dark] .colab-df-convert {\n",
              "      background-color: #3B4455;\n",
              "      fill: #D2E3FC;\n",
              "    }\n",
              "\n",
              "    [theme=dark] .colab-df-convert:hover {\n",
              "      background-color: #434B5C;\n",
              "      box-shadow: 0px 1px 3px 1px rgba(0, 0, 0, 0.15);\n",
              "      filter: drop-shadow(0px 1px 2px rgba(0, 0, 0, 0.3));\n",
              "      fill: #FFFFFF;\n",
              "    }\n",
              "  </style>\n",
              "\n",
              "    <script>\n",
              "      const buttonEl =\n",
              "        document.querySelector('#df-eee8cf15-2fe9-487b-8567-60612c7ca9c1 button.colab-df-convert');\n",
              "      buttonEl.style.display =\n",
              "        google.colab.kernel.accessAllowed ? 'block' : 'none';\n",
              "\n",
              "      async function convertToInteractive(key) {\n",
              "        const element = document.querySelector('#df-eee8cf15-2fe9-487b-8567-60612c7ca9c1');\n",
              "        const dataTable =\n",
              "          await google.colab.kernel.invokeFunction('convertToInteractive',\n",
              "                                                    [key], {});\n",
              "        if (!dataTable) return;\n",
              "\n",
              "        const docLinkHtml = 'Like what you see? Visit the ' +\n",
              "          '<a target=\"_blank\" href=https://colab.research.google.com/notebooks/data_table.ipynb>data table notebook</a>'\n",
              "          + ' to learn more about interactive tables.';\n",
              "        element.innerHTML = '';\n",
              "        dataTable['output_type'] = 'display_data';\n",
              "        await google.colab.output.renderOutput(dataTable, element);\n",
              "        const docLink = document.createElement('div');\n",
              "        docLink.innerHTML = docLinkHtml;\n",
              "        element.appendChild(docLink);\n",
              "      }\n",
              "    </script>\n",
              "  </div>\n",
              "\n",
              "\n",
              "<div id=\"df-dbb03340-7808-41ff-9296-3cedf1b382b4\">\n",
              "  <button class=\"colab-df-quickchart\" onclick=\"quickchart('df-dbb03340-7808-41ff-9296-3cedf1b382b4')\"\n",
              "            title=\"Suggest charts\"\n",
              "            style=\"display:none;\">\n",
              "\n",
              "<svg xmlns=\"http://www.w3.org/2000/svg\" height=\"24px\"viewBox=\"0 0 24 24\"\n",
              "     width=\"24px\">\n",
              "    <g>\n",
              "        <path d=\"M19 3H5c-1.1 0-2 .9-2 2v14c0 1.1.9 2 2 2h14c1.1 0 2-.9 2-2V5c0-1.1-.9-2-2-2zM9 17H7v-7h2v7zm4 0h-2V7h2v10zm4 0h-2v-4h2v4z\"/>\n",
              "    </g>\n",
              "</svg>\n",
              "  </button>\n",
              "\n",
              "<style>\n",
              "  .colab-df-quickchart {\n",
              "      --bg-color: #E8F0FE;\n",
              "      --fill-color: #1967D2;\n",
              "      --hover-bg-color: #E2EBFA;\n",
              "      --hover-fill-color: #174EA6;\n",
              "      --disabled-fill-color: #AAA;\n",
              "      --disabled-bg-color: #DDD;\n",
              "  }\n",
              "\n",
              "  [theme=dark] .colab-df-quickchart {\n",
              "      --bg-color: #3B4455;\n",
              "      --fill-color: #D2E3FC;\n",
              "      --hover-bg-color: #434B5C;\n",
              "      --hover-fill-color: #FFFFFF;\n",
              "      --disabled-bg-color: #3B4455;\n",
              "      --disabled-fill-color: #666;\n",
              "  }\n",
              "\n",
              "  .colab-df-quickchart {\n",
              "    background-color: var(--bg-color);\n",
              "    border: none;\n",
              "    border-radius: 50%;\n",
              "    cursor: pointer;\n",
              "    display: none;\n",
              "    fill: var(--fill-color);\n",
              "    height: 32px;\n",
              "    padding: 0;\n",
              "    width: 32px;\n",
              "  }\n",
              "\n",
              "  .colab-df-quickchart:hover {\n",
              "    background-color: var(--hover-bg-color);\n",
              "    box-shadow: 0 1px 2px rgba(60, 64, 67, 0.3), 0 1px 3px 1px rgba(60, 64, 67, 0.15);\n",
              "    fill: var(--button-hover-fill-color);\n",
              "  }\n",
              "\n",
              "  .colab-df-quickchart-complete:disabled,\n",
              "  .colab-df-quickchart-complete:disabled:hover {\n",
              "    background-color: var(--disabled-bg-color);\n",
              "    fill: var(--disabled-fill-color);\n",
              "    box-shadow: none;\n",
              "  }\n",
              "\n",
              "  .colab-df-spinner {\n",
              "    border: 2px solid var(--fill-color);\n",
              "    border-color: transparent;\n",
              "    border-bottom-color: var(--fill-color);\n",
              "    animation:\n",
              "      spin 1s steps(1) infinite;\n",
              "  }\n",
              "\n",
              "  @keyframes spin {\n",
              "    0% {\n",
              "      border-color: transparent;\n",
              "      border-bottom-color: var(--fill-color);\n",
              "      border-left-color: var(--fill-color);\n",
              "    }\n",
              "    20% {\n",
              "      border-color: transparent;\n",
              "      border-left-color: var(--fill-color);\n",
              "      border-top-color: var(--fill-color);\n",
              "    }\n",
              "    30% {\n",
              "      border-color: transparent;\n",
              "      border-left-color: var(--fill-color);\n",
              "      border-top-color: var(--fill-color);\n",
              "      border-right-color: var(--fill-color);\n",
              "    }\n",
              "    40% {\n",
              "      border-color: transparent;\n",
              "      border-right-color: var(--fill-color);\n",
              "      border-top-color: var(--fill-color);\n",
              "    }\n",
              "    60% {\n",
              "      border-color: transparent;\n",
              "      border-right-color: var(--fill-color);\n",
              "    }\n",
              "    80% {\n",
              "      border-color: transparent;\n",
              "      border-right-color: var(--fill-color);\n",
              "      border-bottom-color: var(--fill-color);\n",
              "    }\n",
              "    90% {\n",
              "      border-color: transparent;\n",
              "      border-bottom-color: var(--fill-color);\n",
              "    }\n",
              "  }\n",
              "</style>\n",
              "\n",
              "  <script>\n",
              "    async function quickchart(key) {\n",
              "      const quickchartButtonEl =\n",
              "        document.querySelector('#' + key + ' button');\n",
              "      quickchartButtonEl.disabled = true;  // To prevent multiple clicks.\n",
              "      quickchartButtonEl.classList.add('colab-df-spinner');\n",
              "      try {\n",
              "        const charts = await google.colab.kernel.invokeFunction(\n",
              "            'suggestCharts', [key], {});\n",
              "      } catch (error) {\n",
              "        console.error('Error during call to suggestCharts:', error);\n",
              "      }\n",
              "      quickchartButtonEl.classList.remove('colab-df-spinner');\n",
              "      quickchartButtonEl.classList.add('colab-df-quickchart-complete');\n",
              "    }\n",
              "    (() => {\n",
              "      let quickchartButtonEl =\n",
              "        document.querySelector('#df-dbb03340-7808-41ff-9296-3cedf1b382b4 button');\n",
              "      quickchartButtonEl.style.display =\n",
              "        google.colab.kernel.accessAllowed ? 'block' : 'none';\n",
              "    })();\n",
              "  </script>\n",
              "</div>\n",
              "\n",
              "    </div>\n",
              "  </div>\n"
            ],
            "application/vnd.google.colaboratory.intrinsic+json": {
              "type": "dataframe",
              "summary": "{\n  \"name\": \"display(df\",\n  \"rows\": 5,\n  \"fields\": [\n    {\n      \"column\": \"Unnamed: 0\",\n      \"properties\": {\n        \"dtype\": \"number\",\n        \"std\": 1,\n        \"min\": 1,\n        \"max\": 5,\n        \"num_unique_values\": 5,\n        \"samples\": [\n          2,\n          5,\n          3\n        ],\n        \"semantic_type\": \"\",\n        \"description\": \"\"\n      }\n    },\n    {\n      \"column\": \"SeriousDlqin2yrs\",\n      \"properties\": {\n        \"dtype\": \"number\",\n        \"std\": 0,\n        \"min\": 0,\n        \"max\": 1,\n        \"num_unique_values\": 2,\n        \"samples\": [\n          0,\n          1\n        ],\n        \"semantic_type\": \"\",\n        \"description\": \"\"\n      }\n    },\n    {\n      \"column\": \"RevolvingUtilizationOfUnsecuredLines\",\n      \"properties\": {\n        \"dtype\": \"number\",\n        \"std\": 0.28828304539154015,\n        \"min\": 0.233809776,\n        \"max\": 0.957151019,\n        \"num_unique_values\": 5,\n        \"samples\": [\n          0.957151019,\n          0.9072394\n        ],\n        \"semantic_type\": \"\",\n        \"description\": \"\"\n      }\n    },\n    {\n      \"column\": \"age\",\n      \"properties\": {\n        \"dtype\": \"number\",\n        \"std\": 7,\n        \"min\": 30,\n        \"max\": 49,\n        \"num_unique_values\": 5,\n        \"samples\": [\n          40,\n          49\n        ],\n        \"semantic_type\": \"\",\n        \"description\": \"\"\n      }\n    },\n    {\n      \"column\": \"NumberOfTime30-59DaysPastDueNotWorse\",\n      \"properties\": {\n        \"dtype\": \"number\",\n        \"std\": 0,\n        \"min\": 0,\n        \"max\": 2,\n        \"num_unique_values\": 3,\n        \"samples\": [\n          2,\n          0\n        ],\n        \"semantic_type\": \"\",\n        \"description\": \"\"\n      }\n    },\n    {\n      \"column\": \"DebtRatio\",\n      \"properties\": {\n        \"dtype\": \"number\",\n        \"std\": 0.3314414480048199,\n        \"min\": 0.024925695,\n        \"max\": 0.802982129,\n        \"num_unique_values\": 5,\n        \"samples\": [\n          0.121876201,\n          0.024925695\n        ],\n        \"semantic_type\": \"\",\n        \"description\": \"\"\n      }\n    },\n    {\n      \"column\": \"MonthlyIncome\",\n      \"properties\": {\n        \"dtype\": \"number\",\n        \"std\": 26552.624201762053,\n        \"min\": 2600.0,\n        \"max\": 63588.0,\n        \"num_unique_values\": 5,\n        \"samples\": [\n          2600.0,\n          63588.0\n        ],\n        \"semantic_type\": \"\",\n        \"description\": \"\"\n      }\n    },\n    {\n      \"column\": \"NumberOfOpenCreditLinesAndLoans\",\n      \"properties\": {\n        \"dtype\": \"number\",\n        \"std\": 4,\n        \"min\": 2,\n        \"max\": 13,\n        \"num_unique_values\": 5,\n        \"samples\": [\n          4,\n          7\n        ],\n        \"semantic_type\": \"\",\n        \"description\": \"\"\n      }\n    },\n    {\n      \"column\": \"NumberOfTimes90DaysLate\",\n      \"properties\": {\n        \"dtype\": \"number\",\n        \"std\": 0,\n        \"min\": 0,\n        \"max\": 1,\n        \"num_unique_values\": 2,\n        \"samples\": [\n          1,\n          0\n        ],\n        \"semantic_type\": \"\",\n        \"description\": \"\"\n      }\n    },\n    {\n      \"column\": \"NumberRealEstateLoansOrLines\",\n      \"properties\": {\n        \"dtype\": \"number\",\n        \"std\": 2,\n        \"min\": 0,\n        \"max\": 6,\n        \"num_unique_values\": 3,\n        \"samples\": [\n          6,\n          0\n        ],\n        \"semantic_type\": \"\",\n        \"description\": \"\"\n      }\n    },\n    {\n      \"column\": \"NumberOfTime60-89DaysPastDueNotWorse\",\n      \"properties\": {\n        \"dtype\": \"number\",\n        \"std\": 0,\n        \"min\": 0,\n        \"max\": 0,\n        \"num_unique_values\": 1,\n        \"samples\": [\n          0\n        ],\n        \"semantic_type\": \"\",\n        \"description\": \"\"\n      }\n    },\n    {\n      \"column\": \"NumberOfDependents\",\n      \"properties\": {\n        \"dtype\": \"number\",\n        \"std\": 0.8944271909999157,\n        \"min\": 0.0,\n        \"max\": 2.0,\n        \"num_unique_values\": 3,\n        \"samples\": [\n          2.0\n        ],\n        \"semantic_type\": \"\",\n        \"description\": \"\"\n      }\n    }\n  ]\n}"
            }
          },
          "metadata": {}
        }
      ],
      "source": [
        "import pandas as pd\n",
        "import numpy as np\n",
        "\n",
        "df = pd.read_csv('/content/cs-training.csv')\n",
        "# test_df = pd.read_csv('/content/cs-test.csv')\n",
        "print(df.shape)\n",
        "# print(test_df.shape)\n",
        "\n",
        "display(df.head())\n"
      ]
    },
    {
      "cell_type": "markdown",
      "source": [
        "\n",
        "\n",
        "| **Variable Name** | **Description** | **Data Type** |\n",
        "|------------------|----------------|--------------|\n",
        "| **SeriousDlqin2yrs** | Indicates whether the person has experienced 90+ days past due delinquency. | Y/N (Boolean) |\n",
        "| **RevolvingUtilizationOfUnsecuredLines** | Ratio of total balance on credit cards and personal lines of credit (excluding real estate and installment debt) to the total credit limit. | Percentage |\n",
        "| **Age** | Borrower’s age in years. | Integer |\n",
        "| **NumberOfTime30-59DaysPastDueNotWorse** | Number of times the borrower has been 30-59 days past due in the last 2 years, without being worse. | Integer |\n",
        "| **DebtRatio** | Ratio of monthly debt payments, alimony, and living costs to monthly gross income. | Percentage |\n",
        "| **MonthlyIncome** | Borrower’s monthly income. | Real (Float) |\n",
        "| **NumberOfOpenCreditLinesAndLoans** | Number of open loans (e.g., car loans, mortgages) and credit lines (e.g., credit cards). | Integer |\n",
        "| **NumberOfTimes90DaysLate** | Number of times the borrower has been 90 or more days past due. | Integer |\n",
        "| **NumberRealEstateLoansOrLines** | Number of mortgage and real estate loans, including home equity lines of credit. | Integer |\n",
        "| **NumberOfTime60-89DaysPastDueNotWorse** | Number of times the borrower has been 60-89 days past due in the last 2 years, without being worse. | Integer |\n",
        "| **NumberOfDependents** | Number of dependents in the borrower's family (excluding themselves). | Integer |\n",
        "\n",
        "---"
      ],
      "metadata": {
        "id": "2Diuwjo4HQgK"
      }
    },
    {
      "cell_type": "markdown",
      "source": [
        "## EDA"
      ],
      "metadata": {
        "id": "UiAvvOWVIW57"
      }
    },
    {
      "cell_type": "code",
      "source": [
        "df.info()"
      ],
      "metadata": {
        "colab": {
          "base_uri": "https://localhost:8080/"
        },
        "id": "PUXV7y-rb2_r",
        "outputId": "74c12dc4-fe49-45e0-bba3-1daf862ee8c7"
      },
      "execution_count": 3,
      "outputs": [
        {
          "output_type": "stream",
          "name": "stdout",
          "text": [
            "<class 'pandas.core.frame.DataFrame'>\n",
            "RangeIndex: 150000 entries, 0 to 149999\n",
            "Data columns (total 12 columns):\n",
            " #   Column                                Non-Null Count   Dtype  \n",
            "---  ------                                --------------   -----  \n",
            " 0   Unnamed: 0                            150000 non-null  int64  \n",
            " 1   SeriousDlqin2yrs                      150000 non-null  int64  \n",
            " 2   RevolvingUtilizationOfUnsecuredLines  150000 non-null  float64\n",
            " 3   age                                   150000 non-null  int64  \n",
            " 4   NumberOfTime30-59DaysPastDueNotWorse  150000 non-null  int64  \n",
            " 5   DebtRatio                             150000 non-null  float64\n",
            " 6   MonthlyIncome                         120269 non-null  float64\n",
            " 7   NumberOfOpenCreditLinesAndLoans       150000 non-null  int64  \n",
            " 8   NumberOfTimes90DaysLate               150000 non-null  int64  \n",
            " 9   NumberRealEstateLoansOrLines          150000 non-null  int64  \n",
            " 10  NumberOfTime60-89DaysPastDueNotWorse  150000 non-null  int64  \n",
            " 11  NumberOfDependents                    146076 non-null  float64\n",
            "dtypes: float64(4), int64(8)\n",
            "memory usage: 13.7 MB\n"
          ]
        }
      ]
    },
    {
      "cell_type": "markdown",
      "source": [
        "Checking Null Values"
      ],
      "metadata": {
        "id": "74x5_TjxIG_Q"
      }
    },
    {
      "cell_type": "code",
      "source": [
        "df.isna().sum()"
      ],
      "metadata": {
        "colab": {
          "base_uri": "https://localhost:8080/",
          "height": 460
        },
        "id": "pwA5VCB2f3Cn",
        "outputId": "9179cfa5-1c4f-4790-8b23-5625df9fa970"
      },
      "execution_count": 4,
      "outputs": [
        {
          "output_type": "execute_result",
          "data": {
            "text/plain": [
              "Unnamed: 0                                  0\n",
              "SeriousDlqin2yrs                            0\n",
              "RevolvingUtilizationOfUnsecuredLines        0\n",
              "age                                         0\n",
              "NumberOfTime30-59DaysPastDueNotWorse        0\n",
              "DebtRatio                                   0\n",
              "MonthlyIncome                           29731\n",
              "NumberOfOpenCreditLinesAndLoans             0\n",
              "NumberOfTimes90DaysLate                     0\n",
              "NumberRealEstateLoansOrLines                0\n",
              "NumberOfTime60-89DaysPastDueNotWorse        0\n",
              "NumberOfDependents                       3924\n",
              "dtype: int64"
            ],
            "text/html": [
              "<div>\n",
              "<style scoped>\n",
              "    .dataframe tbody tr th:only-of-type {\n",
              "        vertical-align: middle;\n",
              "    }\n",
              "\n",
              "    .dataframe tbody tr th {\n",
              "        vertical-align: top;\n",
              "    }\n",
              "\n",
              "    .dataframe thead th {\n",
              "        text-align: right;\n",
              "    }\n",
              "</style>\n",
              "<table border=\"1\" class=\"dataframe\">\n",
              "  <thead>\n",
              "    <tr style=\"text-align: right;\">\n",
              "      <th></th>\n",
              "      <th>0</th>\n",
              "    </tr>\n",
              "  </thead>\n",
              "  <tbody>\n",
              "    <tr>\n",
              "      <th>Unnamed: 0</th>\n",
              "      <td>0</td>\n",
              "    </tr>\n",
              "    <tr>\n",
              "      <th>SeriousDlqin2yrs</th>\n",
              "      <td>0</td>\n",
              "    </tr>\n",
              "    <tr>\n",
              "      <th>RevolvingUtilizationOfUnsecuredLines</th>\n",
              "      <td>0</td>\n",
              "    </tr>\n",
              "    <tr>\n",
              "      <th>age</th>\n",
              "      <td>0</td>\n",
              "    </tr>\n",
              "    <tr>\n",
              "      <th>NumberOfTime30-59DaysPastDueNotWorse</th>\n",
              "      <td>0</td>\n",
              "    </tr>\n",
              "    <tr>\n",
              "      <th>DebtRatio</th>\n",
              "      <td>0</td>\n",
              "    </tr>\n",
              "    <tr>\n",
              "      <th>MonthlyIncome</th>\n",
              "      <td>29731</td>\n",
              "    </tr>\n",
              "    <tr>\n",
              "      <th>NumberOfOpenCreditLinesAndLoans</th>\n",
              "      <td>0</td>\n",
              "    </tr>\n",
              "    <tr>\n",
              "      <th>NumberOfTimes90DaysLate</th>\n",
              "      <td>0</td>\n",
              "    </tr>\n",
              "    <tr>\n",
              "      <th>NumberRealEstateLoansOrLines</th>\n",
              "      <td>0</td>\n",
              "    </tr>\n",
              "    <tr>\n",
              "      <th>NumberOfTime60-89DaysPastDueNotWorse</th>\n",
              "      <td>0</td>\n",
              "    </tr>\n",
              "    <tr>\n",
              "      <th>NumberOfDependents</th>\n",
              "      <td>3924</td>\n",
              "    </tr>\n",
              "  </tbody>\n",
              "</table>\n",
              "</div><br><label><b>dtype:</b> int64</label>"
            ]
          },
          "metadata": {},
          "execution_count": 4
        }
      ]
    },
    {
      "cell_type": "code",
      "source": [
        "# Droping null records\n",
        "df.dropna(inplace=True)"
      ],
      "metadata": {
        "id": "c3mxqws6heQ2"
      },
      "execution_count": 5,
      "outputs": []
    },
    {
      "cell_type": "code",
      "source": [
        "df.isna().sum()"
      ],
      "metadata": {
        "colab": {
          "base_uri": "https://localhost:8080/",
          "height": 460
        },
        "id": "4GN_KL_4kaQJ",
        "outputId": "f2990a09-9943-4b01-ae60-a1684c4f1b2b"
      },
      "execution_count": 6,
      "outputs": [
        {
          "output_type": "execute_result",
          "data": {
            "text/plain": [
              "Unnamed: 0                              0\n",
              "SeriousDlqin2yrs                        0\n",
              "RevolvingUtilizationOfUnsecuredLines    0\n",
              "age                                     0\n",
              "NumberOfTime30-59DaysPastDueNotWorse    0\n",
              "DebtRatio                               0\n",
              "MonthlyIncome                           0\n",
              "NumberOfOpenCreditLinesAndLoans         0\n",
              "NumberOfTimes90DaysLate                 0\n",
              "NumberRealEstateLoansOrLines            0\n",
              "NumberOfTime60-89DaysPastDueNotWorse    0\n",
              "NumberOfDependents                      0\n",
              "dtype: int64"
            ],
            "text/html": [
              "<div>\n",
              "<style scoped>\n",
              "    .dataframe tbody tr th:only-of-type {\n",
              "        vertical-align: middle;\n",
              "    }\n",
              "\n",
              "    .dataframe tbody tr th {\n",
              "        vertical-align: top;\n",
              "    }\n",
              "\n",
              "    .dataframe thead th {\n",
              "        text-align: right;\n",
              "    }\n",
              "</style>\n",
              "<table border=\"1\" class=\"dataframe\">\n",
              "  <thead>\n",
              "    <tr style=\"text-align: right;\">\n",
              "      <th></th>\n",
              "      <th>0</th>\n",
              "    </tr>\n",
              "  </thead>\n",
              "  <tbody>\n",
              "    <tr>\n",
              "      <th>Unnamed: 0</th>\n",
              "      <td>0</td>\n",
              "    </tr>\n",
              "    <tr>\n",
              "      <th>SeriousDlqin2yrs</th>\n",
              "      <td>0</td>\n",
              "    </tr>\n",
              "    <tr>\n",
              "      <th>RevolvingUtilizationOfUnsecuredLines</th>\n",
              "      <td>0</td>\n",
              "    </tr>\n",
              "    <tr>\n",
              "      <th>age</th>\n",
              "      <td>0</td>\n",
              "    </tr>\n",
              "    <tr>\n",
              "      <th>NumberOfTime30-59DaysPastDueNotWorse</th>\n",
              "      <td>0</td>\n",
              "    </tr>\n",
              "    <tr>\n",
              "      <th>DebtRatio</th>\n",
              "      <td>0</td>\n",
              "    </tr>\n",
              "    <tr>\n",
              "      <th>MonthlyIncome</th>\n",
              "      <td>0</td>\n",
              "    </tr>\n",
              "    <tr>\n",
              "      <th>NumberOfOpenCreditLinesAndLoans</th>\n",
              "      <td>0</td>\n",
              "    </tr>\n",
              "    <tr>\n",
              "      <th>NumberOfTimes90DaysLate</th>\n",
              "      <td>0</td>\n",
              "    </tr>\n",
              "    <tr>\n",
              "      <th>NumberRealEstateLoansOrLines</th>\n",
              "      <td>0</td>\n",
              "    </tr>\n",
              "    <tr>\n",
              "      <th>NumberOfTime60-89DaysPastDueNotWorse</th>\n",
              "      <td>0</td>\n",
              "    </tr>\n",
              "    <tr>\n",
              "      <th>NumberOfDependents</th>\n",
              "      <td>0</td>\n",
              "    </tr>\n",
              "  </tbody>\n",
              "</table>\n",
              "</div><br><label><b>dtype:</b> int64</label>"
            ]
          },
          "metadata": {},
          "execution_count": 6
        }
      ]
    },
    {
      "cell_type": "code",
      "source": [
        "# Droping unamed column\n",
        "df.drop('Unnamed: 0', axis=1, inplace=True)"
      ],
      "metadata": {
        "id": "sHXHW9BrlfLr"
      },
      "execution_count": 7,
      "outputs": []
    },
    {
      "cell_type": "code",
      "source": [
        "df.columns"
      ],
      "metadata": {
        "colab": {
          "base_uri": "https://localhost:8080/"
        },
        "id": "K99UCsZimRPt",
        "outputId": "2aa59593-41da-42c3-e3d6-d9e56a8d8b4c"
      },
      "execution_count": 8,
      "outputs": [
        {
          "output_type": "execute_result",
          "data": {
            "text/plain": [
              "Index(['SeriousDlqin2yrs', 'RevolvingUtilizationOfUnsecuredLines', 'age',\n",
              "       'NumberOfTime30-59DaysPastDueNotWorse', 'DebtRatio', 'MonthlyIncome',\n",
              "       'NumberOfOpenCreditLinesAndLoans', 'NumberOfTimes90DaysLate',\n",
              "       'NumberRealEstateLoansOrLines', 'NumberOfTime60-89DaysPastDueNotWorse',\n",
              "       'NumberOfDependents'],\n",
              "      dtype='object')"
            ]
          },
          "metadata": {},
          "execution_count": 8
        }
      ]
    },
    {
      "cell_type": "code",
      "source": [
        "X = df.drop('SeriousDlqin2yrs', axis=1)\n",
        "y = df['SeriousDlqin2yrs']"
      ],
      "metadata": {
        "id": "fB1rwUmXnPAi"
      },
      "execution_count": 9,
      "outputs": []
    },
    {
      "cell_type": "code",
      "source": [
        "import matplotlib.pyplot as plt\n",
        "import seaborn as sns\n",
        "\n",
        "y.value_counts().plot(kind='bar')\n",
        "title = 'Count of Classes'\n",
        "unique_values, value_counts = np.unique(y, return_counts=True)\n",
        "ax = sns.countplot(x=y)\n",
        "ax.bar_label(ax.containers[0])\n",
        "plt.title(title)\n",
        "plt.xlabel('Class')\n",
        "plt.ylabel('Count')\n",
        "plt.xticks(unique_values)\n",
        "plt.show()\n",
        "print()"
      ],
      "metadata": {
        "colab": {
          "base_uri": "https://localhost:8080/",
          "height": 484
        },
        "id": "FO4Ywm-AnUK9",
        "outputId": "d7e47340-ad04-4c4b-a844-c5e9aa5c9c8e"
      },
      "execution_count": 10,
      "outputs": [
        {
          "output_type": "display_data",
          "data": {
            "text/plain": [
              "<Figure size 640x480 with 1 Axes>"
            ],
            "image/png": "[encoded data removed]"
          },
          "metadata": {}
        },
        {
          "output_type": "stream",
          "name": "stdout",
          "text": [
            "\n"
          ]
        }
      ]
    },
    {
      "cell_type": "markdown",
      "source": [
        "## Data Split"
      ],
      "metadata": {
        "id": "npvlVIHsInj5"
      }
    },
    {
      "cell_type": "code",
      "source": [
        "from sklearn.model_selection import train_test_split\n",
        "\n",
        "X_train, X_test, y_train, y_test = train_test_split(X, y, stratify=y, test_size=0.2, random_state=42)"
      ],
      "metadata": {
        "id": "1oFU-GyepUKo"
      },
      "execution_count": 11,
      "outputs": []
    },
    {
      "cell_type": "code",
      "source": [
        "y_train.value_counts()"
      ],
      "metadata": {
        "colab": {
          "base_uri": "https://localhost:8080/",
          "height": 178
        },
        "id": "6L5wdviJSEje",
        "outputId": "1de66a43-2c68-4c8c-a850-54715ea64708"
      },
      "execution_count": 12,
      "outputs": [
        {
          "output_type": "execute_result",
          "data": {
            "text/plain": [
              "SeriousDlqin2yrs\n",
              "0    89529\n",
              "1     6686\n",
              "Name: count, dtype: int64"
            ],
            "text/html": [
              "<div>\n",
              "<style scoped>\n",
              "    .dataframe tbody tr th:only-of-type {\n",
              "        vertical-align: middle;\n",
              "    }\n",
              "\n",
              "    .dataframe tbody tr th {\n",
              "        vertical-align: top;\n",
              "    }\n",
              "\n",
              "    .dataframe thead th {\n",
              "        text-align: right;\n",
              "    }\n",
              "</style>\n",
              "<table border=\"1\" class=\"dataframe\">\n",
              "  <thead>\n",
              "    <tr style=\"text-align: right;\">\n",
              "      <th></th>\n",
              "      <th>count</th>\n",
              "    </tr>\n",
              "    <tr>\n",
              "      <th>SeriousDlqin2yrs</th>\n",
              "      <th></th>\n",
              "    </tr>\n",
              "  </thead>\n",
              "  <tbody>\n",
              "    <tr>\n",
              "      <th>0</th>\n",
              "      <td>89529</td>\n",
              "    </tr>\n",
              "    <tr>\n",
              "      <th>1</th>\n",
              "      <td>6686</td>\n",
              "    </tr>\n",
              "  </tbody>\n",
              "</table>\n",
              "</div><br><label><b>dtype:</b> int64</label>"
            ]
          },
          "metadata": {},
          "execution_count": 12
        }
      ]
    },
    {
      "cell_type": "code",
      "source": [
        "y_test.value_counts()"
      ],
      "metadata": {
        "colab": {
          "base_uri": "https://localhost:8080/",
          "height": 178
        },
        "id": "olrKNKxlSPiL",
        "outputId": "e8fdb6a9-c1cb-40bb-c9c7-6817855a3c41"
      },
      "execution_count": 13,
      "outputs": [
        {
          "output_type": "execute_result",
          "data": {
            "text/plain": [
              "SeriousDlqin2yrs\n",
              "0    22383\n",
              "1     1671\n",
              "Name: count, dtype: int64"
            ],
            "text/html": [
              "<div>\n",
              "<style scoped>\n",
              "    .dataframe tbody tr th:only-of-type {\n",
              "        vertical-align: middle;\n",
              "    }\n",
              "\n",
              "    .dataframe tbody tr th {\n",
              "        vertical-align: top;\n",
              "    }\n",
              "\n",
              "    .dataframe thead th {\n",
              "        text-align: right;\n",
              "    }\n",
              "</style>\n",
              "<table border=\"1\" class=\"dataframe\">\n",
              "  <thead>\n",
              "    <tr style=\"text-align: right;\">\n",
              "      <th></th>\n",
              "      <th>count</th>\n",
              "    </tr>\n",
              "    <tr>\n",
              "      <th>SeriousDlqin2yrs</th>\n",
              "      <th></th>\n",
              "    </tr>\n",
              "  </thead>\n",
              "  <tbody>\n",
              "    <tr>\n",
              "      <th>0</th>\n",
              "      <td>22383</td>\n",
              "    </tr>\n",
              "    <tr>\n",
              "      <th>1</th>\n",
              "      <td>1671</td>\n",
              "    </tr>\n",
              "  </tbody>\n",
              "</table>\n",
              "</div><br><label><b>dtype:</b> int64</label>"
            ]
          },
          "metadata": {},
          "execution_count": 13
        }
      ]
    },
    {
      "cell_type": "markdown",
      "source": [
        "## SMOTE Implementation"
      ],
      "metadata": {
        "id": "xYaRzdZxqwdk"
      }
    },
    {
      "cell_type": "code",
      "source": [
        "# Now we going to equal both classes by generating synthetic data using smote\n",
        "from imblearn.over_sampling import SMOTE\n",
        "\n",
        "smote = SMOTE(sampling_strategy='minority')\n",
        "X_train_syndata, y_train_syndata = smote.fit_resample(X_train, y_train)"
      ],
      "metadata": {
        "id": "A7WohiyZsczI"
      },
      "execution_count": null,
      "outputs": []
    },
    {
      "cell_type": "code",
      "source": [
        "y_train_syndata.value_counts()"
      ],
      "metadata": {
        "colab": {
          "base_uri": "https://localhost:8080/",
          "height": 178
        },
        "id": "ap5jVQJksjbH",
        "outputId": "4accfe8d-9ec5-4c1e-9cce-c5e6e60858dc"
      },
      "execution_count": null,
      "outputs": [
        {
          "output_type": "execute_result",
          "data": {
            "text/plain": [
              "SeriousDlqin2yrs\n",
              "0    89529\n",
              "1    89529\n",
              "Name: count, dtype: int64"
            ],
            "text/html": [
              "<div>\n",
              "<style scoped>\n",
              "    .dataframe tbody tr th:only-of-type {\n",
              "        vertical-align: middle;\n",
              "    }\n",
              "\n",
              "    .dataframe tbody tr th {\n",
              "        vertical-align: top;\n",
              "    }\n",
              "\n",
              "    .dataframe thead th {\n",
              "        text-align: right;\n",
              "    }\n",
              "</style>\n",
              "<table border=\"1\" class=\"dataframe\">\n",
              "  <thead>\n",
              "    <tr style=\"text-align: right;\">\n",
              "      <th></th>\n",
              "      <th>count</th>\n",
              "    </tr>\n",
              "    <tr>\n",
              "      <th>SeriousDlqin2yrs</th>\n",
              "      <th></th>\n",
              "    </tr>\n",
              "  </thead>\n",
              "  <tbody>\n",
              "    <tr>\n",
              "      <th>0</th>\n",
              "      <td>89529</td>\n",
              "    </tr>\n",
              "    <tr>\n",
              "      <th>1</th>\n",
              "      <td>89529</td>\n",
              "    </tr>\n",
              "  </tbody>\n",
              "</table>\n",
              "</div><br><label><b>dtype:</b> int64</label>"
            ]
          },
          "metadata": {},
          "execution_count": 14
        }
      ]
    },
    {
      "cell_type": "markdown",
      "source": [
        "## Scalling"
      ],
      "metadata": {
        "id": "oUFBPSFXJnP6"
      }
    },
    {
      "cell_type": "code",
      "source": [
        "from sklearn.preprocessing import MinMaxScaler, StandardScaler\n",
        "\n",
        "scaler = MinMaxScaler()\n",
        "X_train_scaled = scaler.fit_transform(X_train_syndata)\n",
        "X_test_scaled = scaler.transform(X_test)"
      ],
      "metadata": {
        "id": "mj9H0qoyqUXf"
      },
      "execution_count": null,
      "outputs": []
    },
    {
      "cell_type": "code",
      "source": [],
      "metadata": {
        "id": "ybT8xiUZvWuU"
      },
      "execution_count": null,
      "outputs": []
    },
    {
      "cell_type": "markdown",
      "source": [
        "## Logistic Regression"
      ],
      "metadata": {
        "id": "AGhdUC8ivXKz"
      }
    },
    {
      "cell_type": "code",
      "source": [
        "from sklearn.linear_model import LogisticRegression\n",
        "from sklearn.metrics import accuracy_score, confusion_matrix, classification_report, precision_score, recall_score, f1_score\n",
        "\n",
        "log_reg = LogisticRegression()\n",
        "log_reg.fit(X_train_scaled, y_train_syndata)\n",
        "y_pred = log_reg.predict(X_test_scaled)\n",
        "\n",
        "print(\"Accuracy Score\", accuracy_score(y_test, y_pred))\n",
        "print(\"Precision Score\", precision_score(y_test, y_pred, average=\"weighted\"))\n",
        "print(\"Recall Score\", recall_score(y_test, y_pred))\n",
        "print(\"F1 Score\", f1_score(y_test, y_pred))\n",
        "# print(confusion_matrix(y_test, y_pred))\n",
        "print(classification_report(y_test, y_pred))"
      ],
      "metadata": {
        "colab": {
          "base_uri": "https://localhost:8080/"
        },
        "id": "iQUKavzBrTJu",
        "outputId": "01859dc0-1dca-445d-c16b-c8d585bfb655"
      },
      "execution_count": null,
      "outputs": [
        {
          "output_type": "stream",
          "name": "stdout",
          "text": [
            "Accuracy Score 0.6566059699010559\n",
            "Precision Score 0.9053546816387208\n",
            "Recall Score 0.6672651107121484\n",
            "F1 Score 0.21258341277407056\n",
            "              precision    recall  f1-score   support\n",
            "\n",
            "           0       0.96      0.66      0.78     22383\n",
            "           1       0.13      0.67      0.21      1671\n",
            "\n",
            "    accuracy                           0.66     24054\n",
            "   macro avg       0.54      0.66      0.50     24054\n",
            "weighted avg       0.91      0.66      0.74     24054\n",
            "\n"
          ]
        }
      ]
    },
    {
      "cell_type": "code",
      "source": [
        "class_names = ['No', 'Yes']"
      ],
      "metadata": {
        "id": "Vk1i9yNVu8NB"
      },
      "execution_count": null,
      "outputs": []
    },
    {
      "cell_type": "code",
      "source": [
        "import matplotlib.pyplot as plt\n",
        "from sklearn import metrics\n",
        "import seaborn as sns\n",
        "# font = {\n",
        "#     'size'   : 7}\n",
        "# plt.rc('font', **font)\n",
        "cm = metrics.confusion_matrix(y_test, y_pred)\n",
        "fig, ax = plt.subplots(figsize=(10,5), dpi=125)\n",
        "# Create colored confusion matrix with unique labels\n",
        "\n",
        "labels = list(class_names)\n",
        "sns.heatmap(cm, annot=True, cmap='Blues', fmt='d', xticklabels=labels, yticklabels=labels)\n",
        " # Rotate the tick labels and set their alignment.\n",
        "plt.setp(ax.get_xticklabels(), rotation=45, ha=\"right\",\n",
        "             rotation_mode=\"anchor\")\n",
        "# Adjust the margins around the figure\n",
        "plt.subplots_adjust(left=0.2, right=0.9, top=0.9, bottom=0.2)\n",
        "plt.xlabel('Predicted Labels')\n",
        "plt.ylabel('True Labels')\n",
        "# fig.savefig('Confusion Matrix.png')\n",
        "plt.show()"
      ],
      "metadata": {
        "colab": {
          "base_uri": "https://localhost:8080/",
          "height": 401
        },
        "id": "BWkbmgrGuqbx",
        "outputId": "02c4e370-d5f3-42c7-e17b-ea8c3b56a9e5"
      },
      "execution_count": null,
      "outputs": [
        {
          "output_type": "display_data",
          "data": {
            "text/plain": [
              "<Figure size 1250x625 with 2 Axes>"
            ],
            "image/png": "[encoded data removed]"
          },
          "metadata": {}
        }
      ]
    },
    {
      "cell_type": "markdown",
      "source": [
        "## Navie Bayes"
      ],
      "metadata": {
        "id": "QRGnlDIivc0P"
      }
    },
    {
      "cell_type": "code",
      "source": [
        "from sklearn.naive_bayes import GaussianNB\n",
        "nb = GaussianNB()\n",
        "nb.fit(X_train_scaled, y_train_syndata)\n",
        "y_pred = nb.predict(X_test_scaled)\n",
        "\n",
        "print(\"Accuracy Score\", accuracy_score(y_test, y_pred))\n",
        "print(\"Precision Score\", precision_score(y_test, y_pred, average=\"weighted\"))\n",
        "print(\"Recall Score\", recall_score(y_test, y_pred))\n",
        "print(\"F1 Score\", f1_score(y_test, y_pred))\n",
        "print(classification_report(y_test, y_pred))"
      ],
      "metadata": {
        "colab": {
          "base_uri": "https://localhost:8080/"
        },
        "id": "ogw9P6w6vb9e",
        "outputId": "a148bbfc-349a-49a0-d112-2fd1d3636cf8"
      },
      "execution_count": null,
      "outputs": [
        {
          "output_type": "stream",
          "name": "stdout",
          "text": [
            "Accuracy Score 0.9322773759042156\n",
            "Precision Score 0.9123916625236238\n",
            "Recall Score 0.1490125673249551\n",
            "F1 Score 0.23413258110014104\n",
            "              precision    recall  f1-score   support\n",
            "\n",
            "           0       0.94      0.99      0.96     22383\n",
            "           1       0.55      0.15      0.23      1671\n",
            "\n",
            "    accuracy                           0.93     24054\n",
            "   macro avg       0.74      0.57      0.60     24054\n",
            "weighted avg       0.91      0.93      0.91     24054\n",
            "\n"
          ]
        }
      ]
    },
    {
      "cell_type": "code",
      "source": [
        "import matplotlib.pyplot as plt\n",
        "from sklearn import metrics\n",
        "import seaborn as sns\n",
        "# font = {\n",
        "#     'size'   : 7}\n",
        "# plt.rc('font', **font)\n",
        "cm = metrics.confusion_matrix(y_test, y_pred)\n",
        "fig, ax = plt.subplots(figsize=(10,5), dpi=125)\n",
        "# Create colored confusion matrix with unique labels\n",
        "\n",
        "labels = list(class_names)\n",
        "sns.heatmap(cm, annot=True, cmap='Blues', fmt='d', xticklabels=labels, yticklabels=labels)\n",
        " # Rotate the tick labels and set their alignment.\n",
        "plt.setp(ax.get_xticklabels(), rotation=45, ha=\"right\",\n",
        "             rotation_mode=\"anchor\")\n",
        "# Adjust the margins around the figure\n",
        "plt.subplots_adjust(left=0.2, right=0.9, top=0.9, bottom=0.2)\n",
        "plt.xlabel('Predicted Labels')\n",
        "plt.ylabel('True Labels')\n",
        "# fig.savefig('Confusion Matrix.png')\n",
        "plt.show()"
      ],
      "metadata": {
        "colab": {
          "base_uri": "https://localhost:8080/",
          "height": 401
        },
        "id": "voxuMht3w06k",
        "outputId": "0d68e54b-3b65-4b5f-a405-d97844fdae11"
      },
      "execution_count": null,
      "outputs": [
        {
          "output_type": "display_data",
          "data": {
            "text/plain": [
              "<Figure size 1250x625 with 2 Axes>"
            ],
            "image/png": "[encoded data removed]"
          },
          "metadata": {}
        }
      ]
    },
    {
      "cell_type": "markdown",
      "source": [
        "## Random Forest"
      ],
      "metadata": {
        "id": "I4M3KjOgxCwa"
      }
    },
    {
      "cell_type": "code",
      "source": [
        "from sklearn.ensemble import RandomForestClassifier\n",
        "\n",
        "rfc = RandomForestClassifier()\n",
        "rfc.fit(X_train_scaled, y_train_syndata)\n",
        "y_pred = rfc.predict(X_test_scaled)\n",
        "\n",
        "print(\"Accuracy Score\", accuracy_score(y_test, y_pred))\n",
        "print(\"Precision Score\", precision_score(y_test, y_pred, average=\"weighted\"))\n",
        "print(\"Recall Score\", recall_score(y_test, y_pred, average=\"weighted\"))\n",
        "print(\"F1 Score\", f1_score(y_test, y_pred, average=\"weighted\"))\n",
        "print(classification_report(y_test, y_pred))"
      ],
      "metadata": {
        "colab": {
          "base_uri": "https://localhost:8080/"
        },
        "id": "iIL3f9pFxHTK",
        "outputId": "a1074d41-9b95-4011-dc58-3821397a6a33"
      },
      "execution_count": null,
      "outputs": [
        {
          "output_type": "stream",
          "name": "stdout",
          "text": [
            "Accuracy Score 0.8902053712480252\n",
            "Precision Score 0.9078940601184057\n",
            "Recall Score 0.8902053712480252\n",
            "F1 Score 0.8982427254933666\n",
            "              precision    recall  f1-score   support\n",
            "\n",
            "           0       0.95      0.93      0.94     22383\n",
            "           1       0.29      0.40      0.34      1671\n",
            "\n",
            "    accuracy                           0.89     24054\n",
            "   macro avg       0.62      0.66      0.64     24054\n",
            "weighted avg       0.91      0.89      0.90     24054\n",
            "\n"
          ]
        }
      ]
    },
    {
      "cell_type": "code",
      "source": [
        "import matplotlib.pyplot as plt\n",
        "from sklearn import metrics\n",
        "import seaborn as sns\n",
        "# font = {\n",
        "#     'size'   : 7}\n",
        "# plt.rc('font', **font)\n",
        "cm = metrics.confusion_matrix(y_test, y_pred)\n",
        "fig, ax = plt.subplots(figsize=(10,5), dpi=125)\n",
        "# Create colored confusion matrix with unique labels\n",
        "\n",
        "labels = list(class_names)\n",
        "sns.heatmap(cm, annot=True, cmap='Blues', fmt='d', xticklabels=labels, yticklabels=labels)\n",
        " # Rotate the tick labels and set their alignment.\n",
        "plt.setp(ax.get_xticklabels(), rotation=45, ha=\"right\",\n",
        "             rotation_mode=\"anchor\")\n",
        "# Adjust the margins around the figure\n",
        "plt.subplots_adjust(left=0.2, right=0.9, top=0.9, bottom=0.2)\n",
        "plt.xlabel('Predicted Labels')\n",
        "plt.ylabel('True Labels')\n",
        "# fig.savefig('Confusion Matrix.png')\n",
        "plt.show()"
      ],
      "metadata": {
        "colab": {
          "base_uri": "https://localhost:8080/",
          "height": 401
        },
        "id": "57JwitMVxnWC",
        "outputId": "0eea689c-6c27-4d20-ed43-26f47c3e878f"
      },
      "execution_count": null,
      "outputs": [
        {
          "output_type": "display_data",
          "data": {
            "text/plain": [
              "<Figure size 1250x625 with 2 Axes>"
            ],
            "image/png": "[encoded data removed]"
          },
          "metadata": {}
        }
      ]
    },
    {
      "cell_type": "markdown",
      "source": [
        "## XGBOOST"
      ],
      "metadata": {
        "id": "DjgiEwB5LjYX"
      }
    },
    {
      "cell_type": "code",
      "source": [
        "import xgboost as xgb\n",
        "from sklearn.metrics import accuracy_score, confusion_matrix, classification_report, precision_score, recall_score, f1_score\n",
        "\n",
        "xgb_clf = xgb.XGBClassifier()\n",
        "xgb_clf.fit(X_train_scaled, y_train_syndata)\n",
        "y_pred = xgb_clf.predict(X_test_scaled)\n",
        "\n",
        "print(\"Accuracy Score\", accuracy_score(y_test, y_pred))\n",
        "print(\"Precision Score\", precision_score(y_test, y_pred, average=\"weighted\"))\n",
        "print(\"Recall Score\", recall_score(y_test, y_pred, average=\"weighted\"))\n",
        "print(\"F1 Score\", f1_score(y_test, y_pred, average=\"weighted\"))\n",
        "print(classification_report(y_test, y_pred))\n"
      ],
      "metadata": {
        "colab": {
          "base_uri": "https://localhost:8080/"
        },
        "id": "mOrEV6Zbx4eI",
        "outputId": "c32dc917-f442-4d40-a73e-1900d2d58194"
      },
      "execution_count": null,
      "outputs": [
        {
          "output_type": "stream",
          "name": "stdout",
          "text": [
            "Accuracy Score 0.8773592749646628\n",
            "Precision Score 0.9087392780568887\n",
            "Recall Score 0.8773592749646628\n",
            "F1 Score 0.8909817791081598\n",
            "              precision    recall  f1-score   support\n",
            "\n",
            "           0       0.96      0.91      0.93     22383\n",
            "           1       0.27      0.45      0.34      1671\n",
            "\n",
            "    accuracy                           0.88     24054\n",
            "   macro avg       0.61      0.68      0.63     24054\n",
            "weighted avg       0.91      0.88      0.89     24054\n",
            "\n"
          ]
        }
      ]
    },
    {
      "cell_type": "code",
      "source": [
        "import matplotlib.pyplot as plt\n",
        "from sklearn import metrics\n",
        "import seaborn as sns\n",
        "# font = {\n",
        "#     'size'   : 7}\n",
        "# plt.rc('font', **font)\n",
        "cm = metrics.confusion_matrix(y_test, y_pred)\n",
        "fig, ax = plt.subplots(figsize=(10,5), dpi=125)\n",
        "# Create colored confusion matrix with unique labels\n",
        "\n",
        "labels = list(class_names)\n",
        "sns.heatmap(cm, annot=True, cmap='Blues', fmt='d', xticklabels=labels, yticklabels=labels)\n",
        " # Rotate the tick labels and set their alignment.\n",
        "plt.setp(ax.get_xticklabels(), rotation=45, ha=\"right\",\n",
        "             rotation_mode=\"anchor\")\n",
        "# Adjust the margins around the figure\n",
        "plt.subplots_adjust(left=0.2, right=0.9, top=0.9, bottom=0.2)\n",
        "plt.xlabel('Predicted Labels')\n",
        "plt.ylabel('True Labels')\n",
        "# fig.savefig('Confusion Matrix.png')\n",
        "plt.show()"
      ],
      "metadata": {
        "colab": {
          "base_uri": "https://localhost:8080/",
          "height": 401
        },
        "id": "3anNWmruycdr",
        "outputId": "27f01b4f-ee47-47d8-b272-ce0ce6fa2271"
      },
      "execution_count": null,
      "outputs": [
        {
          "output_type": "display_data",
          "data": {
            "text/plain": [
              "<Figure size 1250x625 with 2 Axes>"
            ],
            "image/png": "[encoded data removed]"
          },
          "metadata": {}
        }
      ]
    },
    {
      "cell_type": "markdown",
      "source": [
        "## PYCARET"
      ],
      "metadata": {
        "id": "KtvnPea8MBLs"
      }
    },
    {
      "cell_type": "markdown",
      "source": [
        "PyCaret is an open-source, low-code machine learning library in Python that automates machine learning workflows."
      ],
      "metadata": {
        "id": "GZ_9MH0lMmXO"
      }
    },
    {
      "cell_type": "code",
      "source": [
        "!pip install -q pycaret"
      ],
      "metadata": {
        "colab": {
          "base_uri": "https://localhost:8080/"
        },
        "id": "PXUjxecryrYz",
        "outputId": "c928e0da-7167-4402-d61f-0a3cad54d9d4"
      },
      "execution_count": null,
      "outputs": [
        {
          "output_type": "stream",
          "name": "stdout",
          "text": [
            "\u001b[2K     \u001b[90m━━━━━━━━━━━━━━━━━━━━━━━━━━━━━━━━━━━━━━━━\u001b[0m \u001b[32m60.4/60.4 kB\u001b[0m \u001b[31m2.5 MB/s\u001b[0m eta \u001b[36m0:00:00\u001b[0m\n",
            "\u001b[2K     \u001b[90m━━━━━━━━━━━━━━━━━━━━━━━━━━━━━━━━━━━━━━━━\u001b[0m \u001b[32m169.6/169.6 kB\u001b[0m \u001b[31m7.2 MB/s\u001b[0m eta \u001b[36m0:00:00\u001b[0m\n",
            "\u001b[?25h  Preparing metadata (setup.py) ... \u001b[?25l\u001b[?25hdone\n",
            "\u001b[2K   \u001b[90m━━━━━━━━━━━━━━━━━━━━━━━━━━━━━━━━━━━━━━━━\u001b[0m \u001b[32m486.1/486.1 kB\u001b[0m \u001b[31m16.8 MB/s\u001b[0m eta \u001b[36m0:00:00\u001b[0m\n",
            "\u001b[2K   \u001b[90m━━━━━━━━━━━━━━━━━━━━━━━━━━━━━━━━━━━━━━━━\u001b[0m \u001b[32m106.8/106.8 kB\u001b[0m \u001b[31m7.4 MB/s\u001b[0m eta \u001b[36m0:00:00\u001b[0m\n",
            "\u001b[2K   \u001b[90m━━━━━━━━━━━━━━━━━━━━━━━━━━━━━━━━━━━━━━━━\u001b[0m \u001b[32m21.8/21.8 MB\u001b[0m \u001b[31m68.0 MB/s\u001b[0m eta \u001b[36m0:00:00\u001b[0m\n",
            "\u001b[2K   \u001b[90m━━━━━━━━━━━━━━━━━━━━━━━━━━━━━━━━━━━━━━━━\u001b[0m \u001b[32m85.4/85.4 kB\u001b[0m \u001b[31m5.2 MB/s\u001b[0m eta \u001b[36m0:00:00\u001b[0m\n",
            "\u001b[2K   \u001b[90m━━━━━━━━━━━━━━━━━━━━━━━━━━━━━━━━━━━━━━━━\u001b[0m \u001b[32m302.2/302.2 kB\u001b[0m \u001b[31m15.6 MB/s\u001b[0m eta \u001b[36m0:00:00\u001b[0m\n",
            "\u001b[2K   \u001b[90m━━━━━━━━━━━━━━━━━━━━━━━━━━━━━━━━━━━━━━━━\u001b[0m \u001b[32m79.9/79.9 MB\u001b[0m \u001b[31m8.8 MB/s\u001b[0m eta \u001b[36m0:00:00\u001b[0m\n",
            "\u001b[2K   \u001b[90m━━━━━━━━━━━━━━━━━━━━━━━━━━━━━━━━━━━━━━━━\u001b[0m \u001b[32m11.6/11.6 MB\u001b[0m \u001b[31m96.0 MB/s\u001b[0m eta \u001b[36m0:00:00\u001b[0m\n",
            "\u001b[2K   \u001b[90m━━━━━━━━━━━━━━━━━━━━━━━━━━━━━━━━━━━━━━━━\u001b[0m \u001b[32m12.2/12.2 MB\u001b[0m \u001b[31m84.4 MB/s\u001b[0m eta \u001b[36m0:00:00\u001b[0m\n",
            "\u001b[2K   \u001b[90m━━━━━━━━━━━━━━━━━━━━━━━━━━━━━━━━━━━━━━━━\u001b[0m \u001b[32m80.7/80.7 kB\u001b[0m \u001b[31m5.0 MB/s\u001b[0m eta \u001b[36m0:00:00\u001b[0m\n",
            "\u001b[2K   \u001b[90m━━━━━━━━━━━━━━━━━━━━━━━━━━━━━━━━━━━━━━━━\u001b[0m \u001b[32m2.2/2.2 MB\u001b[0m \u001b[31m54.4 MB/s\u001b[0m eta \u001b[36m0:00:00\u001b[0m\n",
            "\u001b[2K   \u001b[90m━━━━━━━━━━━━━━━━━━━━━━━━━━━━━━━━━━━━━━━━\u001b[0m \u001b[32m12.1/12.1 MB\u001b[0m \u001b[31m66.8 MB/s\u001b[0m eta \u001b[36m0:00:00\u001b[0m\n",
            "\u001b[2K   \u001b[90m━━━━━━━━━━━━━━━━━━━━━━━━━━━━━━━━━━━━━━━━\u001b[0m \u001b[32m36.4/36.4 MB\u001b[0m \u001b[31m12.2 MB/s\u001b[0m eta \u001b[36m0:00:00\u001b[0m\n",
            "\u001b[2K   \u001b[90m━━━━━━━━━━━━━━━━━━━━━━━━━━━━━━━━━━━━━━━━\u001b[0m \u001b[32m44.0/44.0 kB\u001b[0m \u001b[31m2.4 MB/s\u001b[0m eta \u001b[36m0:00:00\u001b[0m\n",
            "\u001b[2K   \u001b[90m━━━━━━━━━━━━━━━━━━━━━━━━━━━━━━━━━━━━━━━━\u001b[0m \u001b[32m194.8/194.8 kB\u001b[0m \u001b[31m12.9 MB/s\u001b[0m eta \u001b[36m0:00:00\u001b[0m\n",
            "\u001b[2K   \u001b[90m━━━━━━━━━━━━━━━━━━━━━━━━━━━━━━━━━━━━━━━━\u001b[0m \u001b[32m7.8/7.8 MB\u001b[0m \u001b[31m59.5 MB/s\u001b[0m eta \u001b[36m0:00:00\u001b[0m\n",
            "\u001b[2K   \u001b[90m━━━━━━━━━━━━━━━━━━━━━━━━━━━━━━━━━━━━━━━━\u001b[0m \u001b[32m1.6/1.6 MB\u001b[0m \u001b[31m44.4 MB/s\u001b[0m eta \u001b[36m0:00:00\u001b[0m\n",
            "\u001b[2K   \u001b[90m━━━━━━━━━━━━━━━━━━━━━━━━━━━━━━━━━━━━━━━━\u001b[0m \u001b[32m130.1/130.1 kB\u001b[0m \u001b[31m7.7 MB/s\u001b[0m eta \u001b[36m0:00:00\u001b[0m\n",
            "\u001b[2K   \u001b[90m━━━━━━━━━━━━━━━━━━━━━━━━━━━━━━━━━━━━━━━━\u001b[0m \u001b[32m1.3/1.3 MB\u001b[0m \u001b[31m41.6 MB/s\u001b[0m eta \u001b[36m0:00:00\u001b[0m\n",
            "\u001b[2K   \u001b[90m━━━━━━━━━━━━━━━━━━━━━━━━━━━━━━━━━━━━━━━━\u001b[0m \u001b[32m101.7/101.7 kB\u001b[0m \u001b[31m6.4 MB/s\u001b[0m eta \u001b[36m0:00:00\u001b[0m\n",
            "\u001b[2K   \u001b[90m━━━━━━━━━━━━━━━━━━━━━━━━━━━━━━━━━━━━━━━━\u001b[0m \u001b[32m228.0/228.0 kB\u001b[0m \u001b[31m13.3 MB/s\u001b[0m eta \u001b[36m0:00:00\u001b[0m\n",
            "\u001b[?25h  Building wheel for pyod (setup.py) ... \u001b[?25l\u001b[?25hdone\n",
            "\u001b[31mERROR: pip's dependency resolver does not currently take into account all the packages that are installed. This behaviour is the source of the following dependency conflicts.\n",
            "google-colab 1.0.0 requires pandas==2.2.2, but you have pandas 2.1.4 which is incompatible.\n",
            "mizani 0.13.1 requires pandas>=2.2.0, but you have pandas 2.1.4 which is incompatible.\n",
            "plotnine 0.14.5 requires matplotlib>=3.8.0, but you have matplotlib 3.7.5 which is incompatible.\n",
            "plotnine 0.14.5 requires pandas>=2.2.0, but you have pandas 2.1.4 which is incompatible.\u001b[0m\u001b[31m\n",
            "\u001b[0m"
          ]
        }
      ]
    },
    {
      "cell_type": "code",
      "source": [
        "!pip install scikit-learn==1.4"
      ],
      "metadata": {
        "colab": {
          "base_uri": "https://localhost:8080/",
          "height": 411
        },
        "id": "KtEIupE_zrkh",
        "outputId": "a8c3b412-fba3-4d5e-a196-90745e7a6ebf"
      },
      "execution_count": null,
      "outputs": [
        {
          "output_type": "stream",
          "name": "stdout",
          "text": [
            "Collecting scikit-learn==1.4\n",
            "  Downloading scikit_learn-1.4.0-1-cp311-cp311-manylinux_2_17_x86_64.manylinux2014_x86_64.whl.metadata (11 kB)\n",
            "Requirement already satisfied: numpy<2.0,>=1.19.5 in /usr/local/lib/python3.11/dist-packages (from scikit-learn==1.4) (1.26.4)\n",
            "Requirement already satisfied: scipy>=1.6.0 in /usr/local/lib/python3.11/dist-packages (from scikit-learn==1.4) (1.11.4)\n",
            "Requirement already satisfied: joblib>=1.2.0 in /usr/local/lib/python3.11/dist-packages (from scikit-learn==1.4) (1.3.2)\n",
            "Requirement already satisfied: threadpoolctl>=2.0.0 in /usr/local/lib/python3.11/dist-packages (from scikit-learn==1.4) (3.5.0)\n",
            "Downloading scikit_learn-1.4.0-1-cp311-cp311-manylinux_2_17_x86_64.manylinux2014_x86_64.whl (12.1 MB)\n",
            "\u001b[2K   \u001b[90m━━━━━━━━━━━━━━━━━━━━━━━━━━━━━━━━━━━━━━━━\u001b[0m \u001b[32m12.1/12.1 MB\u001b[0m \u001b[31m16.6 MB/s\u001b[0m eta \u001b[36m0:00:00\u001b[0m\n",
            "\u001b[?25hInstalling collected packages: scikit-learn\n",
            "  Attempting uninstall: scikit-learn\n",
            "    Found existing installation: scikit-learn 1.4.2\n",
            "    Uninstalling scikit-learn-1.4.2:\n",
            "      Successfully uninstalled scikit-learn-1.4.2\n",
            "\u001b[31mERROR: pip's dependency resolver does not currently take into account all the packages that are installed. This behaviour is the source of the following dependency conflicts.\n",
            "pycaret 3.3.2 requires scikit-learn>1.4.0, but you have scikit-learn 1.4.0 which is incompatible.\u001b[0m\u001b[31m\n",
            "\u001b[0mSuccessfully installed scikit-learn-1.4.0\n"
          ]
        },
        {
          "output_type": "display_data",
          "data": {
            "application/vnd.colab-display-data+json": {
              "pip_warning": {
                "packages": [
                  "sklearn"
                ]
              },
              "id": "7d954f149d83486f9f1fa3c58922f447"
            }
          },
          "metadata": {}
        }
      ]
    },
    {
      "cell_type": "markdown",
      "source": [
        "Uploading pipline for Classification"
      ],
      "metadata": {
        "id": "gDjzXAHXMqd0"
      }
    },
    {
      "cell_type": "code",
      "source": [
        "# import ClassificationExperiment and init the class\n",
        "from pycaret.classification import ClassificationExperiment\n",
        "exp = ClassificationExperiment()"
      ],
      "metadata": {
        "id": "sbwY8bBFy9_U"
      },
      "execution_count": null,
      "outputs": []
    },
    {
      "cell_type": "markdown",
      "source": [
        "Adding data for training (also you can set different parameters for data preprocessing)"
      ],
      "metadata": {
        "id": "ve6eNATPMy2v"
      }
    },
    {
      "cell_type": "code",
      "source": [
        "exp.setup(X_train_scaled, target = y_train_syndata, session_id = 7)"
      ],
      "metadata": {
        "colab": {
          "base_uri": "https://localhost:8080/",
          "height": 662
        },
        "id": "kz3iWktS3d9F",
        "outputId": "a326d98c-9419-414d-c952-d7f89c991234"
      },
      "execution_count": null,
      "outputs": [
        {
          "output_type": "display_data",
          "data": {
            "text/plain": [
              "<pandas.io.formats.style.Styler at 0x7c08963f80d0>"
            ],
            "text/html": [
              "<style type=\"text/css\">\n",
              "#T_8e333_row8_col1 {\n",
              "  background-color: lightgreen;\n",
              "}\n",
              "</style>\n",
              "<table id=\"T_8e333\" class=\"dataframe\">\n",
              "  <thead>\n",
              "    <tr>\n",
              "      <th class=\"blank level0\" >&nbsp;</th>\n",
              "      <th id=\"T_8e333_level0_col0\" class=\"col_heading level0 col0\" >Description</th>\n",
              "      <th id=\"T_8e333_level0_col1\" class=\"col_heading level0 col1\" >Value</th>\n",
              "    </tr>\n",
              "  </thead>\n",
              "  <tbody>\n",
              "    <tr>\n",
              "      <th id=\"T_8e333_level0_row0\" class=\"row_heading level0 row0\" >0</th>\n",
              "      <td id=\"T_8e333_row0_col0\" class=\"data row0 col0\" >Session id</td>\n",
              "      <td id=\"T_8e333_row0_col1\" class=\"data row0 col1\" >7</td>\n",
              "    </tr>\n",
              "    <tr>\n",
              "      <th id=\"T_8e333_level0_row1\" class=\"row_heading level0 row1\" >1</th>\n",
              "      <td id=\"T_8e333_row1_col0\" class=\"data row1 col0\" >Target</td>\n",
              "      <td id=\"T_8e333_row1_col1\" class=\"data row1 col1\" >SeriousDlqin2yrs</td>\n",
              "    </tr>\n",
              "    <tr>\n",
              "      <th id=\"T_8e333_level0_row2\" class=\"row_heading level0 row2\" >2</th>\n",
              "      <td id=\"T_8e333_row2_col0\" class=\"data row2 col0\" >Target type</td>\n",
              "      <td id=\"T_8e333_row2_col1\" class=\"data row2 col1\" >Binary</td>\n",
              "    </tr>\n",
              "    <tr>\n",
              "      <th id=\"T_8e333_level0_row3\" class=\"row_heading level0 row3\" >3</th>\n",
              "      <td id=\"T_8e333_row3_col0\" class=\"data row3 col0\" >Original data shape</td>\n",
              "      <td id=\"T_8e333_row3_col1\" class=\"data row3 col1\" >(179058, 11)</td>\n",
              "    </tr>\n",
              "    <tr>\n",
              "      <th id=\"T_8e333_level0_row4\" class=\"row_heading level0 row4\" >4</th>\n",
              "      <td id=\"T_8e333_row4_col0\" class=\"data row4 col0\" >Transformed data shape</td>\n",
              "      <td id=\"T_8e333_row4_col1\" class=\"data row4 col1\" >(179058, 11)</td>\n",
              "    </tr>\n",
              "    <tr>\n",
              "      <th id=\"T_8e333_level0_row5\" class=\"row_heading level0 row5\" >5</th>\n",
              "      <td id=\"T_8e333_row5_col0\" class=\"data row5 col0\" >Transformed train set shape</td>\n",
              "      <td id=\"T_8e333_row5_col1\" class=\"data row5 col1\" >(125340, 11)</td>\n",
              "    </tr>\n",
              "    <tr>\n",
              "      <th id=\"T_8e333_level0_row6\" class=\"row_heading level0 row6\" >6</th>\n",
              "      <td id=\"T_8e333_row6_col0\" class=\"data row6 col0\" >Transformed test set shape</td>\n",
              "      <td id=\"T_8e333_row6_col1\" class=\"data row6 col1\" >(53718, 11)</td>\n",
              "    </tr>\n",
              "    <tr>\n",
              "      <th id=\"T_8e333_level0_row7\" class=\"row_heading level0 row7\" >7</th>\n",
              "      <td id=\"T_8e333_row7_col0\" class=\"data row7 col0\" >Numeric features</td>\n",
              "      <td id=\"T_8e333_row7_col1\" class=\"data row7 col1\" >10</td>\n",
              "    </tr>\n",
              "    <tr>\n",
              "      <th id=\"T_8e333_level0_row8\" class=\"row_heading level0 row8\" >8</th>\n",
              "      <td id=\"T_8e333_row8_col0\" class=\"data row8 col0\" >Preprocess</td>\n",
              "      <td id=\"T_8e333_row8_col1\" class=\"data row8 col1\" >True</td>\n",
              "    </tr>\n",
              "    <tr>\n",
              "      <th id=\"T_8e333_level0_row9\" class=\"row_heading level0 row9\" >9</th>\n",
              "      <td id=\"T_8e333_row9_col0\" class=\"data row9 col0\" >Imputation type</td>\n",
              "      <td id=\"T_8e333_row9_col1\" class=\"data row9 col1\" >simple</td>\n",
              "    </tr>\n",
              "    <tr>\n",
              "      <th id=\"T_8e333_level0_row10\" class=\"row_heading level0 row10\" >10</th>\n",
              "      <td id=\"T_8e333_row10_col0\" class=\"data row10 col0\" >Numeric imputation</td>\n",
              "      <td id=\"T_8e333_row10_col1\" class=\"data row10 col1\" >mean</td>\n",
              "    </tr>\n",
              "    <tr>\n",
              "      <th id=\"T_8e333_level0_row11\" class=\"row_heading level0 row11\" >11</th>\n",
              "      <td id=\"T_8e333_row11_col0\" class=\"data row11 col0\" >Categorical imputation</td>\n",
              "      <td id=\"T_8e333_row11_col1\" class=\"data row11 col1\" >mode</td>\n",
              "    </tr>\n",
              "    <tr>\n",
              "      <th id=\"T_8e333_level0_row12\" class=\"row_heading level0 row12\" >12</th>\n",
              "      <td id=\"T_8e333_row12_col0\" class=\"data row12 col0\" >Fold Generator</td>\n",
              "      <td id=\"T_8e333_row12_col1\" class=\"data row12 col1\" >StratifiedKFold</td>\n",
              "    </tr>\n",
              "    <tr>\n",
              "      <th id=\"T_8e333_level0_row13\" class=\"row_heading level0 row13\" >13</th>\n",
              "      <td id=\"T_8e333_row13_col0\" class=\"data row13 col0\" >Fold Number</td>\n",
              "      <td id=\"T_8e333_row13_col1\" class=\"data row13 col1\" >10</td>\n",
              "    </tr>\n",
              "    <tr>\n",
              "      <th id=\"T_8e333_level0_row14\" class=\"row_heading level0 row14\" >14</th>\n",
              "      <td id=\"T_8e333_row14_col0\" class=\"data row14 col0\" >CPU Jobs</td>\n",
              "      <td id=\"T_8e333_row14_col1\" class=\"data row14 col1\" >-1</td>\n",
              "    </tr>\n",
              "    <tr>\n",
              "      <th id=\"T_8e333_level0_row15\" class=\"row_heading level0 row15\" >15</th>\n",
              "      <td id=\"T_8e333_row15_col0\" class=\"data row15 col0\" >Use GPU</td>\n",
              "      <td id=\"T_8e333_row15_col1\" class=\"data row15 col1\" >False</td>\n",
              "    </tr>\n",
              "    <tr>\n",
              "      <th id=\"T_8e333_level0_row16\" class=\"row_heading level0 row16\" >16</th>\n",
              "      <td id=\"T_8e333_row16_col0\" class=\"data row16 col0\" >Log Experiment</td>\n",
              "      <td id=\"T_8e333_row16_col1\" class=\"data row16 col1\" >False</td>\n",
              "    </tr>\n",
              "    <tr>\n",
              "      <th id=\"T_8e333_level0_row17\" class=\"row_heading level0 row17\" >17</th>\n",
              "      <td id=\"T_8e333_row17_col0\" class=\"data row17 col0\" >Experiment Name</td>\n",
              "      <td id=\"T_8e333_row17_col1\" class=\"data row17 col1\" >clf-default-name</td>\n",
              "    </tr>\n",
              "    <tr>\n",
              "      <th id=\"T_8e333_level0_row18\" class=\"row_heading level0 row18\" >18</th>\n",
              "      <td id=\"T_8e333_row18_col0\" class=\"data row18 col0\" >USI</td>\n",
              "      <td id=\"T_8e333_row18_col1\" class=\"data row18 col1\" >216d</td>\n",
              "    </tr>\n",
              "  </tbody>\n",
              "</table>\n"
            ]
          },
          "metadata": {}
        },
        {
          "output_type": "execute_result",
          "data": {
            "text/plain": [
              "<pycaret.classification.oop.ClassificationExperiment at 0x7c08e2bd8750>"
            ]
          },
          "metadata": {},
          "execution_count": 17
        }
      ]
    },
    {
      "cell_type": "markdown",
      "source": [
        "PyCaret automatically runs different machine learning models up to 10 folds and also performs hyperparameter optimization."
      ],
      "metadata": {
        "id": "2eTj3bQUNw-Y"
      }
    },
    {
      "cell_type": "code",
      "source": [
        "# compare baseline models\n",
        "best = exp.compare_models()"
      ],
      "metadata": {
        "colab": {
          "base_uri": "https://localhost:8080/",
          "height": 901,
          "referenced_widgets": [
            "c0963ee0431f4f99a60295750dc0c543",
            "9e3d4fc7485c47adbe6128a38691bed7",
            "086de9131348463db94585b40bac2f7d",
            "6f717a1589884dd6853cea7f3d67967a",
            "ea2721c4e6c747b9a9a4bbc5684d84cc",
            "6be813fdee7f49398538592616d60e50",
            "99e91e584322492c927894b4b4282586",
            "8db49dd57503487c902ac3c45656dc1a",
            "f3cf3710148847d49b4752650ae35eb5",
            "cca5307f3caa48858fa4a6835a4a95f5",
            "db7166ef47cd4f0cb455940ec1352eb0"
          ]
        },
        "id": "uyq-Mr0U4Fm-",
        "outputId": "0b66782e-03ab-4919-d375-98b6e517dcae"
      },
      "execution_count": null,
      "outputs": [
        {
          "output_type": "display_data",
          "data": {
            "text/plain": [
              "<IPython.core.display.HTML object>"
            ],
            "text/html": []
          },
          "metadata": {}
        },
        {
          "output_type": "display_data",
          "data": {
            "text/plain": [
              "<pandas.io.formats.style.Styler at 0x7c089a686250>"
            ],
            "text/html": [
              "<style type=\"text/css\">\n",
              "#T_07951 th {\n",
              "  text-align: left;\n",
              "}\n",
              "#T_07951_row0_col0, #T_07951_row0_col3, #T_07951_row1_col0, #T_07951_row1_col1, #T_07951_row1_col2, #T_07951_row1_col4, #T_07951_row1_col5, #T_07951_row1_col6, #T_07951_row1_col7, #T_07951_row2_col0, #T_07951_row2_col1, #T_07951_row2_col2, #T_07951_row2_col3, #T_07951_row2_col4, #T_07951_row2_col5, #T_07951_row2_col6, #T_07951_row2_col7, #T_07951_row3_col0, #T_07951_row3_col1, #T_07951_row3_col2, #T_07951_row3_col3, #T_07951_row3_col4, #T_07951_row3_col5, #T_07951_row3_col6, #T_07951_row3_col7, #T_07951_row4_col0, #T_07951_row4_col1, #T_07951_row4_col2, #T_07951_row4_col3, #T_07951_row4_col4, #T_07951_row4_col5, #T_07951_row4_col6, #T_07951_row4_col7, #T_07951_row5_col0, #T_07951_row5_col1, #T_07951_row5_col2, #T_07951_row5_col3, #T_07951_row5_col4, #T_07951_row5_col5, #T_07951_row5_col6, #T_07951_row5_col7, #T_07951_row6_col0, #T_07951_row6_col1, #T_07951_row6_col2, #T_07951_row6_col3, #T_07951_row6_col4, #T_07951_row6_col5, #T_07951_row6_col6, #T_07951_row6_col7, #T_07951_row7_col0, #T_07951_row7_col1, #T_07951_row7_col2, #T_07951_row7_col3, #T_07951_row7_col4, #T_07951_row7_col5, #T_07951_row7_col6, #T_07951_row7_col7, #T_07951_row8_col0, #T_07951_row8_col1, #T_07951_row8_col2, #T_07951_row8_col3, #T_07951_row8_col4, #T_07951_row8_col5, #T_07951_row8_col6, #T_07951_row8_col7, #T_07951_row9_col0, #T_07951_row9_col1, #T_07951_row9_col2, #T_07951_row9_col3, #T_07951_row9_col4, #T_07951_row9_col5, #T_07951_row9_col6, #T_07951_row9_col7, #T_07951_row10_col0, #T_07951_row10_col1, #T_07951_row10_col2, #T_07951_row10_col3, #T_07951_row10_col4, #T_07951_row10_col5, #T_07951_row10_col6, #T_07951_row10_col7, #T_07951_row11_col0, #T_07951_row11_col1, #T_07951_row11_col2, #T_07951_row11_col3, #T_07951_row11_col4, #T_07951_row11_col5, #T_07951_row11_col6, #T_07951_row11_col7, #T_07951_row12_col0, #T_07951_row12_col1, #T_07951_row12_col2, #T_07951_row12_col3, #T_07951_row12_col4, #T_07951_row12_col5, #T_07951_row12_col6, #T_07951_row12_col7, #T_07951_row13_col0, #T_07951_row13_col1, #T_07951_row13_col2, #T_07951_row13_col3, #T_07951_row13_col4, #T_07951_row13_col5, #T_07951_row13_col6, #T_07951_row13_col7, #T_07951_row14_col0, #T_07951_row14_col1, #T_07951_row14_col2, #T_07951_row14_col3, #T_07951_row14_col4, #T_07951_row14_col5, #T_07951_row14_col6, #T_07951_row14_col7 {\n",
              "  text-align: left;\n",
              "}\n",
              "#T_07951_row0_col1, #T_07951_row0_col2, #T_07951_row0_col4, #T_07951_row0_col5, #T_07951_row0_col6, #T_07951_row0_col7, #T_07951_row1_col3 {\n",
              "  text-align: left;\n",
              "  background-color: yellow;\n",
              "}\n",
              "#T_07951_row0_col8, #T_07951_row1_col8, #T_07951_row2_col8, #T_07951_row3_col8, #T_07951_row4_col8, #T_07951_row5_col8, #T_07951_row6_col8, #T_07951_row7_col8, #T_07951_row8_col8, #T_07951_row9_col8, #T_07951_row10_col8, #T_07951_row11_col8, #T_07951_row12_col8, #T_07951_row13_col8 {\n",
              "  text-align: left;\n",
              "  background-color: lightgrey;\n",
              "}\n",
              "#T_07951_row14_col8 {\n",
              "  text-align: left;\n",
              "  background-color: yellow;\n",
              "  background-color: lightgrey;\n",
              "}\n",
              "</style>\n",
              "<table id=\"T_07951\" class=\"dataframe\">\n",
              "  <thead>\n",
              "    <tr>\n",
              "      <th class=\"blank level0\" >&nbsp;</th>\n",
              "      <th id=\"T_07951_level0_col0\" class=\"col_heading level0 col0\" >Model</th>\n",
              "      <th id=\"T_07951_level0_col1\" class=\"col_heading level0 col1\" >Accuracy</th>\n",
              "      <th id=\"T_07951_level0_col2\" class=\"col_heading level0 col2\" >AUC</th>\n",
              "      <th id=\"T_07951_level0_col3\" class=\"col_heading level0 col3\" >Recall</th>\n",
              "      <th id=\"T_07951_level0_col4\" class=\"col_heading level0 col4\" >Prec.</th>\n",
              "      <th id=\"T_07951_level0_col5\" class=\"col_heading level0 col5\" >F1</th>\n",
              "      <th id=\"T_07951_level0_col6\" class=\"col_heading level0 col6\" >Kappa</th>\n",
              "      <th id=\"T_07951_level0_col7\" class=\"col_heading level0 col7\" >MCC</th>\n",
              "      <th id=\"T_07951_level0_col8\" class=\"col_heading level0 col8\" >TT (Sec)</th>\n",
              "    </tr>\n",
              "  </thead>\n",
              "  <tbody>\n",
              "    <tr>\n",
              "      <th id=\"T_07951_level0_row0\" class=\"row_heading level0 row0\" >rf</th>\n",
              "      <td id=\"T_07951_row0_col0\" class=\"data row0 col0\" >Random Forest Classifier</td>\n",
              "      <td id=\"T_07951_row0_col1\" class=\"data row0 col1\" >0.9146</td>\n",
              "      <td id=\"T_07951_row0_col2\" class=\"data row0 col2\" >0.9744</td>\n",
              "      <td id=\"T_07951_row0_col3\" class=\"data row0 col3\" >0.9081</td>\n",
              "      <td id=\"T_07951_row0_col4\" class=\"data row0 col4\" >0.9202</td>\n",
              "      <td id=\"T_07951_row0_col5\" class=\"data row0 col5\" >0.9141</td>\n",
              "      <td id=\"T_07951_row0_col6\" class=\"data row0 col6\" >0.8293</td>\n",
              "      <td id=\"T_07951_row0_col7\" class=\"data row0 col7\" >0.8294</td>\n",
              "      <td id=\"T_07951_row0_col8\" class=\"data row0 col8\" >20.7270</td>\n",
              "    </tr>\n",
              "    <tr>\n",
              "      <th id=\"T_07951_level0_row1\" class=\"row_heading level0 row1\" >et</th>\n",
              "      <td id=\"T_07951_row1_col0\" class=\"data row1 col0\" >Extra Trees Classifier</td>\n",
              "      <td id=\"T_07951_row1_col1\" class=\"data row1 col1\" >0.9062</td>\n",
              "      <td id=\"T_07951_row1_col2\" class=\"data row1 col2\" >0.9694</td>\n",
              "      <td id=\"T_07951_row1_col3\" class=\"data row1 col3\" >0.9147</td>\n",
              "      <td id=\"T_07951_row1_col4\" class=\"data row1 col4\" >0.8994</td>\n",
              "      <td id=\"T_07951_row1_col5\" class=\"data row1 col5\" >0.9070</td>\n",
              "      <td id=\"T_07951_row1_col6\" class=\"data row1 col6\" >0.8124</td>\n",
              "      <td id=\"T_07951_row1_col7\" class=\"data row1 col7\" >0.8125</td>\n",
              "      <td id=\"T_07951_row1_col8\" class=\"data row1 col8\" >17.0130</td>\n",
              "    </tr>\n",
              "    <tr>\n",
              "      <th id=\"T_07951_level0_row2\" class=\"row_heading level0 row2\" >dt</th>\n",
              "      <td id=\"T_07951_row2_col0\" class=\"data row2 col0\" >Decision Tree Classifier</td>\n",
              "      <td id=\"T_07951_row2_col1\" class=\"data row2 col1\" >0.8806</td>\n",
              "      <td id=\"T_07951_row2_col2\" class=\"data row2 col2\" >0.8806</td>\n",
              "      <td id=\"T_07951_row2_col3\" class=\"data row2 col3\" >0.8994</td>\n",
              "      <td id=\"T_07951_row2_col4\" class=\"data row2 col4\" >0.8668</td>\n",
              "      <td id=\"T_07951_row2_col5\" class=\"data row2 col5\" >0.8828</td>\n",
              "      <td id=\"T_07951_row2_col6\" class=\"data row2 col6\" >0.7612</td>\n",
              "      <td id=\"T_07951_row2_col7\" class=\"data row2 col7\" >0.7618</td>\n",
              "      <td id=\"T_07951_row2_col8\" class=\"data row2 col8\" >0.8100</td>\n",
              "    </tr>\n",
              "    <tr>\n",
              "      <th id=\"T_07951_level0_row3\" class=\"row_heading level0 row3\" >xgboost</th>\n",
              "      <td id=\"T_07951_row3_col0\" class=\"data row3 col0\" >Extreme Gradient Boosting</td>\n",
              "      <td id=\"T_07951_row3_col1\" class=\"data row3 col1\" >0.8799</td>\n",
              "      <td id=\"T_07951_row3_col2\" class=\"data row3 col2\" >0.9552</td>\n",
              "      <td id=\"T_07951_row3_col3\" class=\"data row3 col3\" >0.8514</td>\n",
              "      <td id=\"T_07951_row3_col4\" class=\"data row3 col4\" >0.9029</td>\n",
              "      <td id=\"T_07951_row3_col5\" class=\"data row3 col5\" >0.8764</td>\n",
              "      <td id=\"T_07951_row3_col6\" class=\"data row3 col6\" >0.7598</td>\n",
              "      <td id=\"T_07951_row3_col7\" class=\"data row3 col7\" >0.7611</td>\n",
              "      <td id=\"T_07951_row3_col8\" class=\"data row3 col8\" >1.1430</td>\n",
              "    </tr>\n",
              "    <tr>\n",
              "      <th id=\"T_07951_level0_row4\" class=\"row_heading level0 row4\" >lightgbm</th>\n",
              "      <td id=\"T_07951_row4_col0\" class=\"data row4 col0\" >Light Gradient Boosting Machine</td>\n",
              "      <td id=\"T_07951_row4_col1\" class=\"data row4 col1\" >0.8745</td>\n",
              "      <td id=\"T_07951_row4_col2\" class=\"data row4 col2\" >0.9509</td>\n",
              "      <td id=\"T_07951_row4_col3\" class=\"data row4 col3\" >0.8422</td>\n",
              "      <td id=\"T_07951_row4_col4\" class=\"data row4 col4\" >0.9003</td>\n",
              "      <td id=\"T_07951_row4_col5\" class=\"data row4 col5\" >0.8703</td>\n",
              "      <td id=\"T_07951_row4_col6\" class=\"data row4 col6\" >0.7489</td>\n",
              "      <td id=\"T_07951_row4_col7\" class=\"data row4 col7\" >0.7505</td>\n",
              "      <td id=\"T_07951_row4_col8\" class=\"data row4 col8\" >4.5450</td>\n",
              "    </tr>\n",
              "    <tr>\n",
              "      <th id=\"T_07951_level0_row5\" class=\"row_heading level0 row5\" >gbc</th>\n",
              "      <td id=\"T_07951_row5_col0\" class=\"data row5 col0\" >Gradient Boosting Classifier</td>\n",
              "      <td id=\"T_07951_row5_col1\" class=\"data row5 col1\" >0.8445</td>\n",
              "      <td id=\"T_07951_row5_col2\" class=\"data row5 col2\" >0.9162</td>\n",
              "      <td id=\"T_07951_row5_col3\" class=\"data row5 col3\" >0.7547</td>\n",
              "      <td id=\"T_07951_row5_col4\" class=\"data row5 col4\" >0.9198</td>\n",
              "      <td id=\"T_07951_row5_col5\" class=\"data row5 col5\" >0.8291</td>\n",
              "      <td id=\"T_07951_row5_col6\" class=\"data row5 col6\" >0.6889</td>\n",
              "      <td id=\"T_07951_row5_col7\" class=\"data row5 col7\" >0.7003</td>\n",
              "      <td id=\"T_07951_row5_col8\" class=\"data row5 col8\" >18.6930</td>\n",
              "    </tr>\n",
              "    <tr>\n",
              "      <th id=\"T_07951_level0_row6\" class=\"row_heading level0 row6\" >ada</th>\n",
              "      <td id=\"T_07951_row6_col0\" class=\"data row6 col0\" >Ada Boost Classifier</td>\n",
              "      <td id=\"T_07951_row6_col1\" class=\"data row6 col1\" >0.8368</td>\n",
              "      <td id=\"T_07951_row6_col2\" class=\"data row6 col2\" >0.9017</td>\n",
              "      <td id=\"T_07951_row6_col3\" class=\"data row6 col3\" >0.7586</td>\n",
              "      <td id=\"T_07951_row6_col4\" class=\"data row6 col4\" >0.8993</td>\n",
              "      <td id=\"T_07951_row6_col5\" class=\"data row6 col5\" >0.8229</td>\n",
              "      <td id=\"T_07951_row6_col6\" class=\"data row6 col6\" >0.6736</td>\n",
              "      <td id=\"T_07951_row6_col7\" class=\"data row6 col7\" >0.6820</td>\n",
              "      <td id=\"T_07951_row6_col8\" class=\"data row6 col8\" >4.2000</td>\n",
              "    </tr>\n",
              "    <tr>\n",
              "      <th id=\"T_07951_level0_row7\" class=\"row_heading level0 row7\" >knn</th>\n",
              "      <td id=\"T_07951_row7_col0\" class=\"data row7 col0\" >K Neighbors Classifier</td>\n",
              "      <td id=\"T_07951_row7_col1\" class=\"data row7 col1\" >0.7810</td>\n",
              "      <td id=\"T_07951_row7_col2\" class=\"data row7 col2\" >0.8532</td>\n",
              "      <td id=\"T_07951_row7_col3\" class=\"data row7 col3\" >0.7264</td>\n",
              "      <td id=\"T_07951_row7_col4\" class=\"data row7 col4\" >0.8155</td>\n",
              "      <td id=\"T_07951_row7_col5\" class=\"data row7 col5\" >0.7684</td>\n",
              "      <td id=\"T_07951_row7_col6\" class=\"data row7 col6\" >0.5621</td>\n",
              "      <td id=\"T_07951_row7_col7\" class=\"data row7 col7\" >0.5655</td>\n",
              "      <td id=\"T_07951_row7_col8\" class=\"data row7 col8\" >7.4000</td>\n",
              "    </tr>\n",
              "    <tr>\n",
              "      <th id=\"T_07951_level0_row8\" class=\"row_heading level0 row8\" >qda</th>\n",
              "      <td id=\"T_07951_row8_col0\" class=\"data row8 col0\" >Quadratic Discriminant Analysis</td>\n",
              "      <td id=\"T_07951_row8_col1\" class=\"data row8 col1\" >0.6671</td>\n",
              "      <td id=\"T_07951_row8_col2\" class=\"data row8 col2\" >0.7540</td>\n",
              "      <td id=\"T_07951_row8_col3\" class=\"data row8 col3\" >0.7890</td>\n",
              "      <td id=\"T_07951_row8_col4\" class=\"data row8 col4\" >0.6372</td>\n",
              "      <td id=\"T_07951_row8_col5\" class=\"data row8 col5\" >0.7031</td>\n",
              "      <td id=\"T_07951_row8_col6\" class=\"data row8 col6\" >0.3342</td>\n",
              "      <td id=\"T_07951_row8_col7\" class=\"data row8 col7\" >0.3469</td>\n",
              "      <td id=\"T_07951_row8_col8\" class=\"data row8 col8\" >0.1430</td>\n",
              "    </tr>\n",
              "    <tr>\n",
              "      <th id=\"T_07951_level0_row9\" class=\"row_heading level0 row9\" >lr</th>\n",
              "      <td id=\"T_07951_row9_col0\" class=\"data row9 col0\" >Logistic Regression</td>\n",
              "      <td id=\"T_07951_row9_col1\" class=\"data row9 col1\" >0.6548</td>\n",
              "      <td id=\"T_07951_row9_col2\" class=\"data row9 col2\" >0.7216</td>\n",
              "      <td id=\"T_07951_row9_col3\" class=\"data row9 col3\" >0.6563</td>\n",
              "      <td id=\"T_07951_row9_col4\" class=\"data row9 col4\" >0.6544</td>\n",
              "      <td id=\"T_07951_row9_col5\" class=\"data row9 col5\" >0.6553</td>\n",
              "      <td id=\"T_07951_row9_col6\" class=\"data row9 col6\" >0.3096</td>\n",
              "      <td id=\"T_07951_row9_col7\" class=\"data row9 col7\" >0.3097</td>\n",
              "      <td id=\"T_07951_row9_col8\" class=\"data row9 col8\" >1.4170</td>\n",
              "    </tr>\n",
              "    <tr>\n",
              "      <th id=\"T_07951_level0_row10\" class=\"row_heading level0 row10\" >lda</th>\n",
              "      <td id=\"T_07951_row10_col0\" class=\"data row10 col0\" >Linear Discriminant Analysis</td>\n",
              "      <td id=\"T_07951_row10_col1\" class=\"data row10 col1\" >0.6397</td>\n",
              "      <td id=\"T_07951_row10_col2\" class=\"data row10 col2\" >0.6979</td>\n",
              "      <td id=\"T_07951_row10_col3\" class=\"data row10 col3\" >0.6340</td>\n",
              "      <td id=\"T_07951_row10_col4\" class=\"data row10 col4\" >0.6414</td>\n",
              "      <td id=\"T_07951_row10_col5\" class=\"data row10 col5\" >0.6376</td>\n",
              "      <td id=\"T_07951_row10_col6\" class=\"data row10 col6\" >0.2795</td>\n",
              "      <td id=\"T_07951_row10_col7\" class=\"data row10 col7\" >0.2795</td>\n",
              "      <td id=\"T_07951_row10_col8\" class=\"data row10 col8\" >0.1550</td>\n",
              "    </tr>\n",
              "    <tr>\n",
              "      <th id=\"T_07951_level0_row11\" class=\"row_heading level0 row11\" >ridge</th>\n",
              "      <td id=\"T_07951_row11_col0\" class=\"data row11 col0\" >Ridge Classifier</td>\n",
              "      <td id=\"T_07951_row11_col1\" class=\"data row11 col1\" >0.6358</td>\n",
              "      <td id=\"T_07951_row11_col2\" class=\"data row11 col2\" >0.6940</td>\n",
              "      <td id=\"T_07951_row11_col3\" class=\"data row11 col3\" >0.6403</td>\n",
              "      <td id=\"T_07951_row11_col4\" class=\"data row11 col4\" >0.6345</td>\n",
              "      <td id=\"T_07951_row11_col5\" class=\"data row11 col5\" >0.6374</td>\n",
              "      <td id=\"T_07951_row11_col6\" class=\"data row11 col6\" >0.2715</td>\n",
              "      <td id=\"T_07951_row11_col7\" class=\"data row11 col7\" >0.2715</td>\n",
              "      <td id=\"T_07951_row11_col8\" class=\"data row11 col8\" >0.1070</td>\n",
              "    </tr>\n",
              "    <tr>\n",
              "      <th id=\"T_07951_level0_row12\" class=\"row_heading level0 row12\" >svm</th>\n",
              "      <td id=\"T_07951_row12_col0\" class=\"data row12 col0\" >SVM - Linear Kernel</td>\n",
              "      <td id=\"T_07951_row12_col1\" class=\"data row12 col1\" >0.6268</td>\n",
              "      <td id=\"T_07951_row12_col2\" class=\"data row12 col2\" >0.6828</td>\n",
              "      <td id=\"T_07951_row12_col3\" class=\"data row12 col3\" >0.6711</td>\n",
              "      <td id=\"T_07951_row12_col4\" class=\"data row12 col4\" >0.6168</td>\n",
              "      <td id=\"T_07951_row12_col5\" class=\"data row12 col5\" >0.6423</td>\n",
              "      <td id=\"T_07951_row12_col6\" class=\"data row12 col6\" >0.2536</td>\n",
              "      <td id=\"T_07951_row12_col7\" class=\"data row12 col7\" >0.2551</td>\n",
              "      <td id=\"T_07951_row12_col8\" class=\"data row12 col8\" >0.2650</td>\n",
              "    </tr>\n",
              "    <tr>\n",
              "      <th id=\"T_07951_level0_row13\" class=\"row_heading level0 row13\" >nb</th>\n",
              "      <td id=\"T_07951_row13_col0\" class=\"data row13 col0\" >Naive Bayes</td>\n",
              "      <td id=\"T_07951_row13_col1\" class=\"data row13 col1\" >0.5502</td>\n",
              "      <td id=\"T_07951_row13_col2\" class=\"data row13 col2\" >0.7065</td>\n",
              "      <td id=\"T_07951_row13_col3\" class=\"data row13 col3\" >0.1163</td>\n",
              "      <td id=\"T_07951_row13_col4\" class=\"data row13 col4\" >0.8860</td>\n",
              "      <td id=\"T_07951_row13_col5\" class=\"data row13 col5\" >0.2032</td>\n",
              "      <td id=\"T_07951_row13_col6\" class=\"data row13 col6\" >0.1005</td>\n",
              "      <td id=\"T_07951_row13_col7\" class=\"data row13 col7\" >0.2009</td>\n",
              "      <td id=\"T_07951_row13_col8\" class=\"data row13 col8\" >0.1090</td>\n",
              "    </tr>\n",
              "    <tr>\n",
              "      <th id=\"T_07951_level0_row14\" class=\"row_heading level0 row14\" >dummy</th>\n",
              "      <td id=\"T_07951_row14_col0\" class=\"data row14 col0\" >Dummy Classifier</td>\n",
              "      <td id=\"T_07951_row14_col1\" class=\"data row14 col1\" >0.5000</td>\n",
              "      <td id=\"T_07951_row14_col2\" class=\"data row14 col2\" >0.5000</td>\n",
              "      <td id=\"T_07951_row14_col3\" class=\"data row14 col3\" >0.0000</td>\n",
              "      <td id=\"T_07951_row14_col4\" class=\"data row14 col4\" >0.0000</td>\n",
              "      <td id=\"T_07951_row14_col5\" class=\"data row14 col5\" >0.0000</td>\n",
              "      <td id=\"T_07951_row14_col6\" class=\"data row14 col6\" >0.0000</td>\n",
              "      <td id=\"T_07951_row14_col7\" class=\"data row14 col7\" >0.0000</td>\n",
              "      <td id=\"T_07951_row14_col8\" class=\"data row14 col8\" >0.0840</td>\n",
              "    </tr>\n",
              "  </tbody>\n",
              "</table>\n"
            ]
          },
          "metadata": {}
        },
        {
          "output_type": "display_data",
          "data": {
            "text/plain": [
              "Processing:   0%|          | 0/65 [00:00<?, ?it/s]"
            ],
            "application/vnd.jupyter.widget-view+json": {
              "version_major": 2,
              "version_minor": 0,
              "model_id": "c0963ee0431f4f99a60295750dc0c543"
            }
          },
          "metadata": {
            "application/vnd.jupyter.widget-view+json": {
              "colab": {
                "custom_widget_manager": {
                  "url": "https://ssl.gstatic.com/colaboratory-static/widgets/colab-cdn-widget-manager/2b70e893a8ba7c0f/manager.min.js"
                }
              }
            }
          }
        },
        {
          "output_type": "display_data",
          "data": {
            "text/plain": [
              "<IPython.core.display.HTML object>"
            ],
            "text/html": []
          },
          "metadata": {}
        }
      ]
    },
    {
      "cell_type": "markdown",
      "source": [
        "Checking best highlighted models"
      ],
      "metadata": {
        "id": "_1W2qGNVOsgu"
      }
    },
    {
      "cell_type": "code",
      "source": [
        "exp.create_model('rf') # Checking again and best model solo"
      ],
      "metadata": {
        "colab": {
          "base_uri": "https://localhost:8080/",
          "height": 641,
          "referenced_widgets": [
            "92f56e0e9f11437f9b026043e7cc6f07",
            "2a4ef42c70df4b96a371cce3ee6f37cf",
            "47e330e80e1b4c72b14aa24f4c755e3c",
            "9b02993d65164020bf9ab7476995055e",
            "5976dced66bc44638939754e9f1c8c9a",
            "199dea0a59114e139790900fc55420c7",
            "3802e2c1e41f48edbb5f3dc64e39848a",
            "cda627a138dd4d5593ba42c537512b54",
            "396937d7f87741f6a23ee740c08b82d9",
            "6be6aded8c3542c68bd19a6f8b9d0a7a",
            "5f656bda567b492cb023df01d4d4bf50"
          ]
        },
        "id": "qijC4Eod7M9U",
        "outputId": "38a7ad64-3ec5-46d5-b83b-f5b10cddcb7c"
      },
      "execution_count": null,
      "outputs": [
        {
          "output_type": "display_data",
          "data": {
            "text/plain": [
              "<IPython.core.display.HTML object>"
            ],
            "text/html": []
          },
          "metadata": {}
        },
        {
          "output_type": "display_data",
          "data": {
            "text/plain": [
              "<pandas.io.formats.style.Styler at 0x7c089a778590>"
            ],
            "text/html": [
              "<style type=\"text/css\">\n",
              "#T_ea784_row10_col0, #T_ea784_row10_col1, #T_ea784_row10_col2, #T_ea784_row10_col3, #T_ea784_row10_col4, #T_ea784_row10_col5, #T_ea784_row10_col6 {\n",
              "  background: yellow;\n",
              "}\n",
              "</style>\n",
              "<table id=\"T_ea784\" class=\"dataframe\">\n",
              "  <thead>\n",
              "    <tr>\n",
              "      <th class=\"blank level0\" >&nbsp;</th>\n",
              "      <th id=\"T_ea784_level0_col0\" class=\"col_heading level0 col0\" >Accuracy</th>\n",
              "      <th id=\"T_ea784_level0_col1\" class=\"col_heading level0 col1\" >AUC</th>\n",
              "      <th id=\"T_ea784_level0_col2\" class=\"col_heading level0 col2\" >Recall</th>\n",
              "      <th id=\"T_ea784_level0_col3\" class=\"col_heading level0 col3\" >Prec.</th>\n",
              "      <th id=\"T_ea784_level0_col4\" class=\"col_heading level0 col4\" >F1</th>\n",
              "      <th id=\"T_ea784_level0_col5\" class=\"col_heading level0 col5\" >Kappa</th>\n",
              "      <th id=\"T_ea784_level0_col6\" class=\"col_heading level0 col6\" >MCC</th>\n",
              "    </tr>\n",
              "    <tr>\n",
              "      <th class=\"index_name level0\" >Fold</th>\n",
              "      <th class=\"blank col0\" >&nbsp;</th>\n",
              "      <th class=\"blank col1\" >&nbsp;</th>\n",
              "      <th class=\"blank col2\" >&nbsp;</th>\n",
              "      <th class=\"blank col3\" >&nbsp;</th>\n",
              "      <th class=\"blank col4\" >&nbsp;</th>\n",
              "      <th class=\"blank col5\" >&nbsp;</th>\n",
              "      <th class=\"blank col6\" >&nbsp;</th>\n",
              "    </tr>\n",
              "  </thead>\n",
              "  <tbody>\n",
              "    <tr>\n",
              "      <th id=\"T_ea784_level0_row0\" class=\"row_heading level0 row0\" >0</th>\n",
              "      <td id=\"T_ea784_row0_col0\" class=\"data row0 col0\" >0.9138</td>\n",
              "      <td id=\"T_ea784_row0_col1\" class=\"data row0 col1\" >0.9727</td>\n",
              "      <td id=\"T_ea784_row0_col2\" class=\"data row0 col2\" >0.9114</td>\n",
              "      <td id=\"T_ea784_row0_col3\" class=\"data row0 col3\" >0.9158</td>\n",
              "      <td id=\"T_ea784_row0_col4\" class=\"data row0 col4\" >0.9136</td>\n",
              "      <td id=\"T_ea784_row0_col5\" class=\"data row0 col5\" >0.8277</td>\n",
              "      <td id=\"T_ea784_row0_col6\" class=\"data row0 col6\" >0.8277</td>\n",
              "    </tr>\n",
              "    <tr>\n",
              "      <th id=\"T_ea784_level0_row1\" class=\"row_heading level0 row1\" >1</th>\n",
              "      <td id=\"T_ea784_row1_col0\" class=\"data row1 col0\" >0.9162</td>\n",
              "      <td id=\"T_ea784_row1_col1\" class=\"data row1 col1\" >0.9759</td>\n",
              "      <td id=\"T_ea784_row1_col2\" class=\"data row1 col2\" >0.9092</td>\n",
              "      <td id=\"T_ea784_row1_col3\" class=\"data row1 col3\" >0.9222</td>\n",
              "      <td id=\"T_ea784_row1_col4\" class=\"data row1 col4\" >0.9156</td>\n",
              "      <td id=\"T_ea784_row1_col5\" class=\"data row1 col5\" >0.8325</td>\n",
              "      <td id=\"T_ea784_row1_col6\" class=\"data row1 col6\" >0.8325</td>\n",
              "    </tr>\n",
              "    <tr>\n",
              "      <th id=\"T_ea784_level0_row2\" class=\"row_heading level0 row2\" >2</th>\n",
              "      <td id=\"T_ea784_row2_col0\" class=\"data row2 col0\" >0.9126</td>\n",
              "      <td id=\"T_ea784_row2_col1\" class=\"data row2 col1\" >0.9735</td>\n",
              "      <td id=\"T_ea784_row2_col2\" class=\"data row2 col2\" >0.9051</td>\n",
              "      <td id=\"T_ea784_row2_col3\" class=\"data row2 col3\" >0.9188</td>\n",
              "      <td id=\"T_ea784_row2_col4\" class=\"data row2 col4\" >0.9119</td>\n",
              "      <td id=\"T_ea784_row2_col5\" class=\"data row2 col5\" >0.8251</td>\n",
              "      <td id=\"T_ea784_row2_col6\" class=\"data row2 col6\" >0.8252</td>\n",
              "    </tr>\n",
              "    <tr>\n",
              "      <th id=\"T_ea784_level0_row3\" class=\"row_heading level0 row3\" >3</th>\n",
              "      <td id=\"T_ea784_row3_col0\" class=\"data row3 col0\" >0.9134</td>\n",
              "      <td id=\"T_ea784_row3_col1\" class=\"data row3 col1\" >0.9744</td>\n",
              "      <td id=\"T_ea784_row3_col2\" class=\"data row3 col2\" >0.9054</td>\n",
              "      <td id=\"T_ea784_row3_col3\" class=\"data row3 col3\" >0.9201</td>\n",
              "      <td id=\"T_ea784_row3_col4\" class=\"data row3 col4\" >0.9127</td>\n",
              "      <td id=\"T_ea784_row3_col5\" class=\"data row3 col5\" >0.8267</td>\n",
              "      <td id=\"T_ea784_row3_col6\" class=\"data row3 col6\" >0.8268</td>\n",
              "    </tr>\n",
              "    <tr>\n",
              "      <th id=\"T_ea784_level0_row4\" class=\"row_heading level0 row4\" >4</th>\n",
              "      <td id=\"T_ea784_row4_col0\" class=\"data row4 col0\" >0.9179</td>\n",
              "      <td id=\"T_ea784_row4_col1\" class=\"data row4 col1\" >0.9767</td>\n",
              "      <td id=\"T_ea784_row4_col2\" class=\"data row4 col2\" >0.9100</td>\n",
              "      <td id=\"T_ea784_row4_col3\" class=\"data row4 col3\" >0.9246</td>\n",
              "      <td id=\"T_ea784_row4_col4\" class=\"data row4 col4\" >0.9172</td>\n",
              "      <td id=\"T_ea784_row4_col5\" class=\"data row4 col5\" >0.8358</td>\n",
              "      <td id=\"T_ea784_row4_col6\" class=\"data row4 col6\" >0.8359</td>\n",
              "    </tr>\n",
              "    <tr>\n",
              "      <th id=\"T_ea784_level0_row5\" class=\"row_heading level0 row5\" >5</th>\n",
              "      <td id=\"T_ea784_row5_col0\" class=\"data row5 col0\" >0.9109</td>\n",
              "      <td id=\"T_ea784_row5_col1\" class=\"data row5 col1\" >0.9734</td>\n",
              "      <td id=\"T_ea784_row5_col2\" class=\"data row5 col2\" >0.9075</td>\n",
              "      <td id=\"T_ea784_row5_col3\" class=\"data row5 col3\" >0.9137</td>\n",
              "      <td id=\"T_ea784_row5_col4\" class=\"data row5 col4\" >0.9106</td>\n",
              "      <td id=\"T_ea784_row5_col5\" class=\"data row5 col5\" >0.8218</td>\n",
              "      <td id=\"T_ea784_row5_col6\" class=\"data row5 col6\" >0.8218</td>\n",
              "    </tr>\n",
              "    <tr>\n",
              "      <th id=\"T_ea784_level0_row6\" class=\"row_heading level0 row6\" >6</th>\n",
              "      <td id=\"T_ea784_row6_col0\" class=\"data row6 col0\" >0.9130</td>\n",
              "      <td id=\"T_ea784_row6_col1\" class=\"data row6 col1\" >0.9741</td>\n",
              "      <td id=\"T_ea784_row6_col2\" class=\"data row6 col2\" >0.9073</td>\n",
              "      <td id=\"T_ea784_row6_col3\" class=\"data row6 col3\" >0.9178</td>\n",
              "      <td id=\"T_ea784_row6_col4\" class=\"data row6 col4\" >0.9125</td>\n",
              "      <td id=\"T_ea784_row6_col5\" class=\"data row6 col5\" >0.8261</td>\n",
              "      <td id=\"T_ea784_row6_col6\" class=\"data row6 col6\" >0.8261</td>\n",
              "    </tr>\n",
              "    <tr>\n",
              "      <th id=\"T_ea784_level0_row7\" class=\"row_heading level0 row7\" >7</th>\n",
              "      <td id=\"T_ea784_row7_col0\" class=\"data row7 col0\" >0.9184</td>\n",
              "      <td id=\"T_ea784_row7_col1\" class=\"data row7 col1\" >0.9752</td>\n",
              "      <td id=\"T_ea784_row7_col2\" class=\"data row7 col2\" >0.9113</td>\n",
              "      <td id=\"T_ea784_row7_col3\" class=\"data row7 col3\" >0.9244</td>\n",
              "      <td id=\"T_ea784_row7_col4\" class=\"data row7 col4\" >0.9178</td>\n",
              "      <td id=\"T_ea784_row7_col5\" class=\"data row7 col5\" >0.8368</td>\n",
              "      <td id=\"T_ea784_row7_col6\" class=\"data row7 col6\" >0.8368</td>\n",
              "    </tr>\n",
              "    <tr>\n",
              "      <th id=\"T_ea784_level0_row8\" class=\"row_heading level0 row8\" >8</th>\n",
              "      <td id=\"T_ea784_row8_col0\" class=\"data row8 col0\" >0.9205</td>\n",
              "      <td id=\"T_ea784_row8_col1\" class=\"data row8 col1\" >0.9760</td>\n",
              "      <td id=\"T_ea784_row8_col2\" class=\"data row8 col2\" >0.9108</td>\n",
              "      <td id=\"T_ea784_row8_col3\" class=\"data row8 col3\" >0.9287</td>\n",
              "      <td id=\"T_ea784_row8_col4\" class=\"data row8 col4\" >0.9197</td>\n",
              "      <td id=\"T_ea784_row8_col5\" class=\"data row8 col5\" >0.8409</td>\n",
              "      <td id=\"T_ea784_row8_col6\" class=\"data row8 col6\" >0.8411</td>\n",
              "    </tr>\n",
              "    <tr>\n",
              "      <th id=\"T_ea784_level0_row9\" class=\"row_heading level0 row9\" >9</th>\n",
              "      <td id=\"T_ea784_row9_col0\" class=\"data row9 col0\" >0.9098</td>\n",
              "      <td id=\"T_ea784_row9_col1\" class=\"data row9 col1\" >0.9719</td>\n",
              "      <td id=\"T_ea784_row9_col2\" class=\"data row9 col2\" >0.9027</td>\n",
              "      <td id=\"T_ea784_row9_col3\" class=\"data row9 col3\" >0.9157</td>\n",
              "      <td id=\"T_ea784_row9_col4\" class=\"data row9 col4\" >0.9091</td>\n",
              "      <td id=\"T_ea784_row9_col5\" class=\"data row9 col5\" >0.8195</td>\n",
              "      <td id=\"T_ea784_row9_col6\" class=\"data row9 col6\" >0.8196</td>\n",
              "    </tr>\n",
              "    <tr>\n",
              "      <th id=\"T_ea784_level0_row10\" class=\"row_heading level0 row10\" >Mean</th>\n",
              "      <td id=\"T_ea784_row10_col0\" class=\"data row10 col0\" >0.9146</td>\n",
              "      <td id=\"T_ea784_row10_col1\" class=\"data row10 col1\" >0.9744</td>\n",
              "      <td id=\"T_ea784_row10_col2\" class=\"data row10 col2\" >0.9081</td>\n",
              "      <td id=\"T_ea784_row10_col3\" class=\"data row10 col3\" >0.9202</td>\n",
              "      <td id=\"T_ea784_row10_col4\" class=\"data row10 col4\" >0.9141</td>\n",
              "      <td id=\"T_ea784_row10_col5\" class=\"data row10 col5\" >0.8293</td>\n",
              "      <td id=\"T_ea784_row10_col6\" class=\"data row10 col6\" >0.8294</td>\n",
              "    </tr>\n",
              "    <tr>\n",
              "      <th id=\"T_ea784_level0_row11\" class=\"row_heading level0 row11\" >Std</th>\n",
              "      <td id=\"T_ea784_row11_col0\" class=\"data row11 col0\" >0.0033</td>\n",
              "      <td id=\"T_ea784_row11_col1\" class=\"data row11 col1\" >0.0015</td>\n",
              "      <td id=\"T_ea784_row11_col2\" class=\"data row11 col2\" >0.0028</td>\n",
              "      <td id=\"T_ea784_row11_col3\" class=\"data row11 col3\" >0.0045</td>\n",
              "      <td id=\"T_ea784_row11_col4\" class=\"data row11 col4\" >0.0032</td>\n",
              "      <td id=\"T_ea784_row11_col5\" class=\"data row11 col5\" >0.0066</td>\n",
              "      <td id=\"T_ea784_row11_col6\" class=\"data row11 col6\" >0.0066</td>\n",
              "    </tr>\n",
              "  </tbody>\n",
              "</table>\n"
            ]
          },
          "metadata": {}
        },
        {
          "output_type": "display_data",
          "data": {
            "text/plain": [
              "Processing:   0%|          | 0/4 [00:00<?, ?it/s]"
            ],
            "application/vnd.jupyter.widget-view+json": {
              "version_major": 2,
              "version_minor": 0,
              "model_id": "92f56e0e9f11437f9b026043e7cc6f07"
            }
          },
          "metadata": {
            "application/vnd.jupyter.widget-view+json": {
              "colab": {
                "custom_widget_manager": {
                  "url": "https://ssl.gstatic.com/colaboratory-static/widgets/colab-cdn-widget-manager/2b70e893a8ba7c0f/manager.min.js"
                }
              }
            }
          }
        },
        {
          "output_type": "display_data",
          "data": {
            "text/plain": [
              "<IPython.core.display.HTML object>"
            ],
            "text/html": []
          },
          "metadata": {}
        },
        {
          "output_type": "execute_result",
          "data": {
            "text/plain": [
              "RandomForestClassifier(bootstrap=True, ccp_alpha=0.0, class_weight=None,\n",
              "                       criterion='gini', max_depth=None, max_features='sqrt',\n",
              "                       max_leaf_nodes=None, max_samples=None,\n",
              "                       min_impurity_decrease=0.0, min_samples_leaf=1,\n",
              "                       min_samples_split=2, min_weight_fraction_leaf=0.0,\n",
              "                       monotonic_cst=None, n_estimators=100, n_jobs=-1,\n",
              "                       oob_score=False, random_state=7, verbose=0,\n",
              "                       warm_start=False)"
            ],
            "text/html": [
              "<style>#sk-container-id-1 {\n",
              "  /* Definition of color scheme common for light and dark mode */\n",
              "  --sklearn-color-text: black;\n",
              "  --sklearn-color-line: gray;\n",
              "  /* Definition of color scheme for unfitted estimators */\n",
              "  --sklearn-color-unfitted-level-0: #fff5e6;\n",
              "  --sklearn-color-unfitted-level-1: #f6e4d2;\n",
              "  --sklearn-color-unfitted-level-2: #ffe0b3;\n",
              "  --sklearn-color-unfitted-level-3: chocolate;\n",
              "  /* Definition of color scheme for fitted estimators */\n",
              "  --sklearn-color-fitted-level-0: #f0f8ff;\n",
              "  --sklearn-color-fitted-level-1: #d4ebff;\n",
              "  --sklearn-color-fitted-level-2: #b3dbfd;\n",
              "  --sklearn-color-fitted-level-3: cornflowerblue;\n",
              "\n",
              "  /* Specific color for light theme */\n",
              "  --sklearn-color-text-on-default-background: var(--sg-text-color, var(--theme-code-foreground, var(--jp-content-font-color1, black)));\n",
              "  --sklearn-color-background: var(--sg-background-color, var(--theme-background, var(--jp-layout-color0, white)));\n",
              "  --sklearn-color-border-box: var(--sg-text-color, var(--theme-code-foreground, var(--jp-content-font-color1, black)));\n",
              "  --sklearn-color-icon: #696969;\n",
              "\n",
              "  @media (prefers-color-scheme: dark) {\n",
              "    /* Redefinition of color scheme for dark theme */\n",
              "    --sklearn-color-text-on-default-background: var(--sg-text-color, var(--theme-code-foreground, var(--jp-content-font-color1, white)));\n",
              "    --sklearn-color-background: var(--sg-background-color, var(--theme-background, var(--jp-layout-color0, #111)));\n",
              "    --sklearn-color-border-box: var(--sg-text-color, var(--theme-code-foreground, var(--jp-content-font-color1, white)));\n",
              "    --sklearn-color-icon: #878787;\n",
              "  }\n",
              "}\n",
              "\n",
              "#sk-container-id-1 {\n",
              "  color: var(--sklearn-color-text);\n",
              "}\n",
              "\n",
              "#sk-container-id-1 pre {\n",
              "  padding: 0;\n",
              "}\n",
              "\n",
              "#sk-container-id-1 input.sk-hidden--visually {\n",
              "  border: 0;\n",
              "  clip: rect(1px 1px 1px 1px);\n",
              "  clip: rect(1px, 1px, 1px, 1px);\n",
              "  height: 1px;\n",
              "  margin: -1px;\n",
              "  overflow: hidden;\n",
              "  padding: 0;\n",
              "  position: absolute;\n",
              "  width: 1px;\n",
              "}\n",
              "\n",
              "#sk-container-id-1 div.sk-dashed-wrapped {\n",
              "  border: 1px dashed var(--sklearn-color-line);\n",
              "  margin: 0 0.4em 0.5em 0.4em;\n",
              "  box-sizing: border-box;\n",
              "  padding-bottom: 0.4em;\n",
              "  background-color: var(--sklearn-color-background);\n",
              "}\n",
              "\n",
              "#sk-container-id-1 div.sk-container {\n",
              "  /* jupyter's `normalize.less` sets `[hidden] { display: none; }`\n",
              "     but bootstrap.min.css set `[hidden] { display: none !important; }`\n",
              "     so we also need the `!important` here to be able to override the\n",
              "     default hidden behavior on the sphinx rendered scikit-learn.org.\n",
              "     See: https://github.com/scikit-learn/scikit-learn/issues/21755 */\n",
              "  display: inline-block !important;\n",
              "  position: relative;\n",
              "}\n",
              "\n",
              "#sk-container-id-1 div.sk-text-repr-fallback {\n",
              "  display: none;\n",
              "}\n",
              "\n",
              "div.sk-parallel-item,\n",
              "div.sk-serial,\n",
              "div.sk-item {\n",
              "  /* draw centered vertical line to link estimators */\n",
              "  background-image: linear-gradient(var(--sklearn-color-text-on-default-background), var(--sklearn-color-text-on-default-background));\n",
              "  background-size: 2px 100%;\n",
              "  background-repeat: no-repeat;\n",
              "  background-position: center center;\n",
              "}\n",
              "\n",
              "/* Parallel-specific style estimator block */\n",
              "\n",
              "#sk-container-id-1 div.sk-parallel-item::after {\n",
              "  content: \"\";\n",
              "  width: 100%;\n",
              "  border-bottom: 2px solid var(--sklearn-color-text-on-default-background);\n",
              "  flex-grow: 1;\n",
              "}\n",
              "\n",
              "#sk-container-id-1 div.sk-parallel {\n",
              "  display: flex;\n",
              "  align-items: stretch;\n",
              "  justify-content: center;\n",
              "  background-color: var(--sklearn-color-background);\n",
              "  position: relative;\n",
              "}\n",
              "\n",
              "#sk-container-id-1 div.sk-parallel-item {\n",
              "  display: flex;\n",
              "  flex-direction: column;\n",
              "}\n",
              "\n",
              "#sk-container-id-1 div.sk-parallel-item:first-child::after {\n",
              "  align-self: flex-end;\n",
              "  width: 50%;\n",
              "}\n",
              "\n",
              "#sk-container-id-1 div.sk-parallel-item:last-child::after {\n",
              "  align-self: flex-start;\n",
              "  width: 50%;\n",
              "}\n",
              "\n",
              "#sk-container-id-1 div.sk-parallel-item:only-child::after {\n",
              "  width: 0;\n",
              "}\n",
              "\n",
              "/* Serial-specific style estimator block */\n",
              "\n",
              "#sk-container-id-1 div.sk-serial {\n",
              "  display: flex;\n",
              "  flex-direction: column;\n",
              "  align-items: center;\n",
              "  background-color: var(--sklearn-color-background);\n",
              "  padding-right: 1em;\n",
              "  padding-left: 1em;\n",
              "}\n",
              "\n",
              "\n",
              "/* Toggleable style: style used for estimator/Pipeline/ColumnTransformer box that is\n",
              "clickable and can be expanded/collapsed.\n",
              "- Pipeline and ColumnTransformer use this feature and define the default style\n",
              "- Estimators will overwrite some part of the style using the `sk-estimator` class\n",
              "*/\n",
              "\n",
              "/* Pipeline and ColumnTransformer style (default) */\n",
              "\n",
              "#sk-container-id-1 div.sk-toggleable {\n",
              "  /* Default theme specific background. It is overwritten whether we have a\n",
              "  specific estimator or a Pipeline/ColumnTransformer */\n",
              "  background-color: var(--sklearn-color-background);\n",
              "}\n",
              "\n",
              "/* Toggleable label */\n",
              "#sk-container-id-1 label.sk-toggleable__label {\n",
              "  cursor: pointer;\n",
              "  display: block;\n",
              "  width: 100%;\n",
              "  margin-bottom: 0;\n",
              "  padding: 0.5em;\n",
              "  box-sizing: border-box;\n",
              "  text-align: center;\n",
              "}\n",
              "\n",
              "#sk-container-id-1 label.sk-toggleable__label-arrow:before {\n",
              "  /* Arrow on the left of the label */\n",
              "  content: \"▸\";\n",
              "  float: left;\n",
              "  margin-right: 0.25em;\n",
              "  color: var(--sklearn-color-icon);\n",
              "}\n",
              "\n",
              "#sk-container-id-1 label.sk-toggleable__label-arrow:hover:before {\n",
              "  color: var(--sklearn-color-text);\n",
              "}\n",
              "\n",
              "/* Toggleable content - dropdown */\n",
              "\n",
              "#sk-container-id-1 div.sk-toggleable__content {\n",
              "  max-height: 0;\n",
              "  max-width: 0;\n",
              "  overflow: hidden;\n",
              "  text-align: left;\n",
              "  /* unfitted */\n",
              "  background-color: var(--sklearn-color-unfitted-level-0);\n",
              "}\n",
              "\n",
              "#sk-container-id-1 div.sk-toggleable__content.fitted {\n",
              "  /* fitted */\n",
              "  background-color: var(--sklearn-color-fitted-level-0);\n",
              "}\n",
              "\n",
              "#sk-container-id-1 div.sk-toggleable__content pre {\n",
              "  margin: 0.2em;\n",
              "  border-radius: 0.25em;\n",
              "  color: var(--sklearn-color-text);\n",
              "  /* unfitted */\n",
              "  background-color: var(--sklearn-color-unfitted-level-0);\n",
              "}\n",
              "\n",
              "#sk-container-id-1 div.sk-toggleable__content.fitted pre {\n",
              "  /* unfitted */\n",
              "  background-color: var(--sklearn-color-fitted-level-0);\n",
              "}\n",
              "\n",
              "#sk-container-id-1 input.sk-toggleable__control:checked~div.sk-toggleable__content {\n",
              "  /* Expand drop-down */\n",
              "  max-height: 200px;\n",
              "  max-width: 100%;\n",
              "  overflow: auto;\n",
              "}\n",
              "\n",
              "#sk-container-id-1 input.sk-toggleable__control:checked~label.sk-toggleable__label-arrow:before {\n",
              "  content: \"▾\";\n",
              "}\n",
              "\n",
              "/* Pipeline/ColumnTransformer-specific style */\n",
              "\n",
              "#sk-container-id-1 div.sk-label input.sk-toggleable__control:checked~label.sk-toggleable__label {\n",
              "  color: var(--sklearn-color-text);\n",
              "  background-color: var(--sklearn-color-unfitted-level-2);\n",
              "}\n",
              "\n",
              "#sk-container-id-1 div.sk-label.fitted input.sk-toggleable__control:checked~label.sk-toggleable__label {\n",
              "  background-color: var(--sklearn-color-fitted-level-2);\n",
              "}\n",
              "\n",
              "/* Estimator-specific style */\n",
              "\n",
              "/* Colorize estimator box */\n",
              "#sk-container-id-1 div.sk-estimator input.sk-toggleable__control:checked~label.sk-toggleable__label {\n",
              "  /* unfitted */\n",
              "  background-color: var(--sklearn-color-unfitted-level-2);\n",
              "}\n",
              "\n",
              "#sk-container-id-1 div.sk-estimator.fitted input.sk-toggleable__control:checked~label.sk-toggleable__label {\n",
              "  /* fitted */\n",
              "  background-color: var(--sklearn-color-fitted-level-2);\n",
              "}\n",
              "\n",
              "#sk-container-id-1 div.sk-label label.sk-toggleable__label,\n",
              "#sk-container-id-1 div.sk-label label {\n",
              "  /* The background is the default theme color */\n",
              "  color: var(--sklearn-color-text-on-default-background);\n",
              "}\n",
              "\n",
              "/* On hover, darken the color of the background */\n",
              "#sk-container-id-1 div.sk-label:hover label.sk-toggleable__label {\n",
              "  color: var(--sklearn-color-text);\n",
              "  background-color: var(--sklearn-color-unfitted-level-2);\n",
              "}\n",
              "\n",
              "/* Label box, darken color on hover, fitted */\n",
              "#sk-container-id-1 div.sk-label.fitted:hover label.sk-toggleable__label.fitted {\n",
              "  color: var(--sklearn-color-text);\n",
              "  background-color: var(--sklearn-color-fitted-level-2);\n",
              "}\n",
              "\n",
              "/* Estimator label */\n",
              "\n",
              "#sk-container-id-1 div.sk-label label {\n",
              "  font-family: monospace;\n",
              "  font-weight: bold;\n",
              "  display: inline-block;\n",
              "  line-height: 1.2em;\n",
              "}\n",
              "\n",
              "#sk-container-id-1 div.sk-label-container {\n",
              "  text-align: center;\n",
              "}\n",
              "\n",
              "/* Estimator-specific */\n",
              "#sk-container-id-1 div.sk-estimator {\n",
              "  font-family: monospace;\n",
              "  border: 1px dotted var(--sklearn-color-border-box);\n",
              "  border-radius: 0.25em;\n",
              "  box-sizing: border-box;\n",
              "  margin-bottom: 0.5em;\n",
              "  /* unfitted */\n",
              "  background-color: var(--sklearn-color-unfitted-level-0);\n",
              "}\n",
              "\n",
              "#sk-container-id-1 div.sk-estimator.fitted {\n",
              "  /* fitted */\n",
              "  background-color: var(--sklearn-color-fitted-level-0);\n",
              "}\n",
              "\n",
              "/* on hover */\n",
              "#sk-container-id-1 div.sk-estimator:hover {\n",
              "  /* unfitted */\n",
              "  background-color: var(--sklearn-color-unfitted-level-2);\n",
              "}\n",
              "\n",
              "#sk-container-id-1 div.sk-estimator.fitted:hover {\n",
              "  /* fitted */\n",
              "  background-color: var(--sklearn-color-fitted-level-2);\n",
              "}\n",
              "\n",
              "/* Specification for estimator info (e.g. \"i\" and \"?\") */\n",
              "\n",
              "/* Common style for \"i\" and \"?\" */\n",
              "\n",
              ".sk-estimator-doc-link,\n",
              "a:link.sk-estimator-doc-link,\n",
              "a:visited.sk-estimator-doc-link {\n",
              "  float: right;\n",
              "  font-size: smaller;\n",
              "  line-height: 1em;\n",
              "  font-family: monospace;\n",
              "  background-color: var(--sklearn-color-background);\n",
              "  border-radius: 1em;\n",
              "  height: 1em;\n",
              "  width: 1em;\n",
              "  text-decoration: none !important;\n",
              "  margin-left: 1ex;\n",
              "  /* unfitted */\n",
              "  border: var(--sklearn-color-unfitted-level-1) 1pt solid;\n",
              "  color: var(--sklearn-color-unfitted-level-1);\n",
              "}\n",
              "\n",
              ".sk-estimator-doc-link.fitted,\n",
              "a:link.sk-estimator-doc-link.fitted,\n",
              "a:visited.sk-estimator-doc-link.fitted {\n",
              "  /* fitted */\n",
              "  border: var(--sklearn-color-fitted-level-1) 1pt solid;\n",
              "  color: var(--sklearn-color-fitted-level-1);\n",
              "}\n",
              "\n",
              "/* On hover */\n",
              "div.sk-estimator:hover .sk-estimator-doc-link:hover,\n",
              ".sk-estimator-doc-link:hover,\n",
              "div.sk-label-container:hover .sk-estimator-doc-link:hover,\n",
              ".sk-estimator-doc-link:hover {\n",
              "  /* unfitted */\n",
              "  background-color: var(--sklearn-color-unfitted-level-3);\n",
              "  color: var(--sklearn-color-background);\n",
              "  text-decoration: none;\n",
              "}\n",
              "\n",
              "div.sk-estimator.fitted:hover .sk-estimator-doc-link.fitted:hover,\n",
              ".sk-estimator-doc-link.fitted:hover,\n",
              "div.sk-label-container:hover .sk-estimator-doc-link.fitted:hover,\n",
              ".sk-estimator-doc-link.fitted:hover {\n",
              "  /* fitted */\n",
              "  background-color: var(--sklearn-color-fitted-level-3);\n",
              "  color: var(--sklearn-color-background);\n",
              "  text-decoration: none;\n",
              "}\n",
              "\n",
              "/* Span, style for the box shown on hovering the info icon */\n",
              ".sk-estimator-doc-link span {\n",
              "  display: none;\n",
              "  z-index: 9999;\n",
              "  position: relative;\n",
              "  font-weight: normal;\n",
              "  right: .2ex;\n",
              "  padding: .5ex;\n",
              "  margin: .5ex;\n",
              "  width: min-content;\n",
              "  min-width: 20ex;\n",
              "  max-width: 50ex;\n",
              "  color: var(--sklearn-color-text);\n",
              "  box-shadow: 2pt 2pt 4pt #999;\n",
              "  /* unfitted */\n",
              "  background: var(--sklearn-color-unfitted-level-0);\n",
              "  border: .5pt solid var(--sklearn-color-unfitted-level-3);\n",
              "}\n",
              "\n",
              ".sk-estimator-doc-link.fitted span {\n",
              "  /* fitted */\n",
              "  background: var(--sklearn-color-fitted-level-0);\n",
              "  border: var(--sklearn-color-fitted-level-3);\n",
              "}\n",
              "\n",
              ".sk-estimator-doc-link:hover span {\n",
              "  display: block;\n",
              "}\n",
              "\n",
              "/* \"?\"-specific style due to the `<a>` HTML tag */\n",
              "\n",
              "#sk-container-id-1 a.estimator_doc_link {\n",
              "  float: right;\n",
              "  font-size: 1rem;\n",
              "  line-height: 1em;\n",
              "  font-family: monospace;\n",
              "  background-color: var(--sklearn-color-background);\n",
              "  border-radius: 1rem;\n",
              "  height: 1rem;\n",
              "  width: 1rem;\n",
              "  text-decoration: none;\n",
              "  /* unfitted */\n",
              "  color: var(--sklearn-color-unfitted-level-1);\n",
              "  border: var(--sklearn-color-unfitted-level-1) 1pt solid;\n",
              "}\n",
              "\n",
              "#sk-container-id-1 a.estimator_doc_link.fitted {\n",
              "  /* fitted */\n",
              "  border: var(--sklearn-color-fitted-level-1) 1pt solid;\n",
              "  color: var(--sklearn-color-fitted-level-1);\n",
              "}\n",
              "\n",
              "/* On hover */\n",
              "#sk-container-id-1 a.estimator_doc_link:hover {\n",
              "  /* unfitted */\n",
              "  background-color: var(--sklearn-color-unfitted-level-3);\n",
              "  color: var(--sklearn-color-background);\n",
              "  text-decoration: none;\n",
              "}\n",
              "\n",
              "#sk-container-id-1 a.estimator_doc_link.fitted:hover {\n",
              "  /* fitted */\n",
              "  background-color: var(--sklearn-color-fitted-level-3);\n",
              "}\n",
              "</style><div id=\"sk-container-id-1\" class=\"sk-top-container\"><div class=\"sk-text-repr-fallback\"><pre>RandomForestClassifier(bootstrap=True, ccp_alpha=0.0, class_weight=None,\n",
              "                       criterion=&#x27;gini&#x27;, max_depth=None, max_features=&#x27;sqrt&#x27;,\n",
              "                       max_leaf_nodes=None, max_samples=None,\n",
              "                       min_impurity_decrease=0.0, min_samples_leaf=1,\n",
              "                       min_samples_split=2, min_weight_fraction_leaf=0.0,\n",
              "                       monotonic_cst=None, n_estimators=100, n_jobs=-1,\n",
              "                       oob_score=False, random_state=7, verbose=0,\n",
              "                       warm_start=False)</pre><b>In a Jupyter environment, please rerun this cell to show the HTML representation or trust the notebook. <br />On GitHub, the HTML representation is unable to render, please try loading this page with nbviewer.org.</b></div><div class=\"sk-container\" hidden><div class=\"sk-item\"><div class=\"sk-estimator fitted sk-toggleable\"><input class=\"sk-toggleable__control sk-hidden--visually\" id=\"sk-estimator-id-1\" type=\"checkbox\" checked><label for=\"sk-estimator-id-1\" class=\"sk-toggleable__label fitted sk-toggleable__label-arrow fitted\">&nbsp;&nbsp;RandomForestClassifier<a class=\"sk-estimator-doc-link fitted\" rel=\"noreferrer\" target=\"_blank\" href=\"https://scikit-learn.org/1.4/modules/generated/sklearn.ensemble.RandomForestClassifier.html\">?<span>Documentation for RandomForestClassifier</span></a><span class=\"sk-estimator-doc-link fitted\">i<span>Fitted</span></span></label><div class=\"sk-toggleable__content fitted\"><pre>RandomForestClassifier(bootstrap=True, ccp_alpha=0.0, class_weight=None,\n",
              "                       criterion=&#x27;gini&#x27;, max_depth=None, max_features=&#x27;sqrt&#x27;,\n",
              "                       max_leaf_nodes=None, max_samples=None,\n",
              "                       min_impurity_decrease=0.0, min_samples_leaf=1,\n",
              "                       min_samples_split=2, min_weight_fraction_leaf=0.0,\n",
              "                       monotonic_cst=None, n_estimators=100, n_jobs=-1,\n",
              "                       oob_score=False, random_state=7, verbose=0,\n",
              "                       warm_start=False)</pre></div> </div></div></div></div>"
            ]
          },
          "metadata": {},
          "execution_count": 19
        }
      ]
    },
    {
      "cell_type": "markdown",
      "source": [
        "### Model Evaluation & Result"
      ],
      "metadata": {
        "id": "_pF-JtxGO5Dh"
      }
    },
    {
      "cell_type": "code",
      "source": [
        "y_pred = best.predict(X_test_scaled)"
      ],
      "metadata": {
        "id": "EDMUfPjj8gJy"
      },
      "execution_count": null,
      "outputs": []
    },
    {
      "cell_type": "code",
      "source": [
        "from sklearn.metrics import accuracy_score, confusion_matrix, classification_report, precision_score, recall_score, f1_score\n",
        "print(\"---------Using Pycaret---------\")\n",
        "print(\"Accuracy Score\", accuracy_score(y_test, y_pred))\n",
        "print(\"Precision Score\", precision_score(y_test, y_pred, average=\"weighted\"))\n",
        "print(\"Recall Score\", recall_score(y_test, y_pred, average=\"weighted\"))\n",
        "print(\"F1 Score\", f1_score(y_test, y_pred, average=\"weighted\"))\n",
        "print(classification_report(y_test, y_pred))\n"
      ],
      "metadata": {
        "colab": {
          "base_uri": "https://localhost:8080/"
        },
        "id": "OLvaumIX8pKd",
        "outputId": "c7bc423d-0003-4714-9c14-a33f8fe03bb1"
      },
      "execution_count": null,
      "outputs": [
        {
          "output_type": "stream",
          "name": "stdout",
          "text": [
            "---------Using Pycaret---------\n",
            "Accuracy Score 0.8919514425875115\n",
            "Precision Score 0.9113526134196825\n",
            "Recall Score 0.8919514425875115\n",
            "F1 Score 0.9006151630694169\n",
            "              precision    recall  f1-score   support\n",
            "\n",
            "           0       0.96      0.93      0.94     22383\n",
            "           1       0.31      0.44      0.36      1671\n",
            "\n",
            "    accuracy                           0.89     24054\n",
            "   macro avg       0.63      0.68      0.65     24054\n",
            "weighted avg       0.91      0.89      0.90     24054\n",
            "\n"
          ]
        }
      ]
    },
    {
      "cell_type": "code",
      "source": [
        "class_names = ['No', 'Yes']"
      ],
      "metadata": {
        "id": "D3ATt0sL9P6l"
      },
      "execution_count": null,
      "outputs": []
    },
    {
      "cell_type": "code",
      "source": [
        "import matplotlib.pyplot as plt\n",
        "from sklearn import metrics\n",
        "import seaborn as sns\n",
        "# font = {\n",
        "#     'size'   : 7}\n",
        "# plt.rc('font', **font)\n",
        "cm = metrics.confusion_matrix(y_test, y_pred)\n",
        "fig, ax = plt.subplots(figsize=(10,5), dpi=125)\n",
        "# Create colored confusion matrix with unique labels\n",
        "\n",
        "labels = list(class_names)\n",
        "sns.heatmap(cm, annot=True, cmap='Blues', fmt='d', xticklabels=labels, yticklabels=labels)\n",
        " # Rotate the tick labels and set their alignment.\n",
        "plt.setp(ax.get_xticklabels(), rotation=45, ha=\"right\",\n",
        "             rotation_mode=\"anchor\")\n",
        "# Adjust the margins around the figure\n",
        "plt.subplots_adjust(left=0.2, right=0.9, top=0.9, bottom=0.2)\n",
        "plt.xlabel('Predicted Labels')\n",
        "plt.ylabel('True Labels')\n",
        "# fig.savefig('Confusion Matrix.png')\n",
        "plt.show()"
      ],
      "metadata": {
        "colab": {
          "base_uri": "https://localhost:8080/",
          "height": 403
        },
        "id": "7rodXwI69H7s",
        "outputId": "b7de545e-0cf1-48f6-d6be-cb4fc5632a96"
      },
      "execution_count": null,
      "outputs": [
        {
          "output_type": "display_data",
          "data": {
            "text/plain": [
              "<Figure size 1250x625 with 2 Axes>"
            ],
            "image/png": "[encoded data removed]"
          },
          "metadata": {}
        }
      ]
    },
    {
      "cell_type": "markdown",
      "source": [
        "## Conclusion"
      ],
      "metadata": {
        "id": "mZZL22esPgWC"
      }
    },
    {
      "cell_type": "markdown",
      "source": [
        "We applied four different machine learning models. To achieve more generalized results, we also used the PyCaret AutoML library, which automatically utilized 15 different models with a mean of 10 folds. Additionally, we performed hyperparameter optimization to obtain the best results from the dataset."
      ],
      "metadata": {
        "id": "nev51KhAPpNM"
      }
    },
    {
      "cell_type": "code",
      "source": [],
      "metadata": {
        "id": "6S5_bBWlPodV"
      },
      "execution_count": null,
      "outputs": []
    },
    {
      "cell_type": "code",
      "source": [],
      "metadata": {
        "id": "ia56s3JrPk5e"
      },
      "execution_count": null,
      "outputs": []
    }
  ]
}